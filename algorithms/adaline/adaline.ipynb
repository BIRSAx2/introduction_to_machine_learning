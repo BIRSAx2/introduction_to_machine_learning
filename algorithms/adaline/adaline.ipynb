{
 "cells": [
  {
   "cell_type": "markdown",
   "metadata": {},
   "source": [
    "# ADALINE"
   ]
  },
  {
   "cell_type": "code",
   "execution_count": 43,
   "metadata": {
    "jupyter": {
     "is_executing": true
    }
   },
   "outputs": [],
   "source": [
    "import numpy as np\n",
    "import matplotlib.pyplot as plt\n",
    "\n",
    "\n",
    "class Adaline:\n",
    "\n",
    "    def __init__(self, n_iterations=100, learning_rate=0.01):\n",
    "        self.n_iterations = n_iterations\n",
    "        self.learning_rate = learning_rate\n",
    "        self.weights = None\n",
    "\n",
    "    def random_weights(self, X, random_state: int):\n",
    "        \"\"\"\n",
    "        Creates a vector of random weights\n",
    "        Parameters\n",
    "        ----------\n",
    "        X : 2-dimentional array, shape =[n_samples, n_features]\n",
    "\n",
    "        Returns\n",
    "        ---------\n",
    "        w: array, shape [w_bias + n_features\n",
    "        \"\"\"\n",
    "        rand = np.random.RandomState(random_state)\n",
    "        w = rand.normal(loc=0.0, scale=0.01, size=1 + X.shape[1])\n",
    "        return w\n",
    "\n",
    "    def net_input(self, X, w):\n",
    "        \"\"\"\n",
    "        Calculates the net input\n",
    "        Parameters\n",
    "        ----------\n",
    "        X : 2-dimentional array, shape =[n_samples, n_features]\n",
    "        w: array, shape [w_bias + n_features]\n",
    "\n",
    "        Returns\n",
    "        ---------\n",
    "        net_input: array, shape [n_samples]\n",
    "        \"\"\"\n",
    "        return (X @ w[1:]) + w[0]\n",
    "\n",
    "    def predict(self, X, w):\n",
    "        \"\"\"\n",
    "        Predicts the class label\n",
    "        Parameters\n",
    "        ----------\n",
    "        X : 2-dimentional array, shape =[n_samples, n_features]\n",
    "        w: array, shape [w_bias + n_features]\n",
    "\n",
    "        Returns\n",
    "        ---------\n",
    "        y_pred: array, shape [n_samples]\n",
    "        \"\"\"\n",
    "        return np.where(self.net_input(X, w) >= 0.0, 1, -1)\n",
    "\n",
    "    def fit(self, X, y):\n",
    "        mse_iteration = []\n",
    "        self.weights = self.random_weights(X, random_state=1)\n",
    "        print(f'Initial weights: {self.weights}')\n",
    "        for pair in range(self.n_iterations):\n",
    "            output = self.net_input(X, self.weights)\n",
    "            gradient = 2 * (y - output)\n",
    "            self.weights[1:] += self.learning_rate * gradient @ X\n",
    "            self.weights[0] += self.learning_rate * gradient.sum()\n",
    "            mse = ((y - output) ** 2).sum() / len(y)\n",
    "            mse_iteration.append(mse)\n",
    "        return self.weights, mse_iteration"
   ]
  },
  {
   "cell_type": "markdown",
   "metadata": {},
   "source": [
    "## Application:  Wandering Albatross vs Great Horned Owl"
   ]
  },
  {
   "cell_type": "code",
   "execution_count": 44,
   "metadata": {
    "ExecuteTime": {
     "end_time": "2024-08-05T17:03:36.113555Z",
     "start_time": "2024-08-05T17:03:36.109239Z"
    }
   },
   "outputs": [],
   "source": [
    "def species_generator(mu1, sigma1, mu2, sigma2, n_samples, target, seed):\n",
    "\t'''creates [n_samples, 2] array\n",
    "    \n",
    "    Parameters\n",
    "    ----------\n",
    "    mu1, sigma1: int, shape = [n_samples, 2]\n",
    "        mean feature-1, standar-dev feature-1\n",
    "    mu2, sigma2: int, shape = [n_samples, 2]\n",
    "        mean feature-2, standar-dev feature-2\n",
    "    n_samples: int, shape= [n_samples, 1]\n",
    "        number of sample cases\n",
    "    target: int, shape = [1]\n",
    "        target value\n",
    "    seed: int\n",
    "        random seed for reproducibility\n",
    "    \n",
    "    Return\n",
    "    ------\n",
    "    X: ndim-array, shape = [n_samples, 2]\n",
    "        matrix of feature vectors\n",
    "    y: 1d-vector, shape = [n_samples, 1]\n",
    "        target vector\n",
    "    ------\n",
    "    X'''\n",
    "\trand = np.random.RandomState(seed)\n",
    "\tf1 = rand.normal(mu1, sigma1, n_samples)\n",
    "\tf2 = rand.normal(mu2, sigma2, n_samples)\n",
    "\tX = np.concatenate([f1, f2])\n",
    "\ty = np.full(n_samples, target)\n",
    "\treturn f1, f2, y"
   ]
  },
  {
   "cell_type": "code",
   "execution_count": 45,
   "metadata": {
    "ExecuteTime": {
     "end_time": "2024-08-05T17:03:36.128939Z",
     "start_time": "2024-08-05T17:03:36.125192Z"
    }
   },
   "outputs": [],
   "source": [
    "albatross_weight_mean = 9000\n",
    "albatross_weight_std = 800\n",
    "albatross_wing_span_mean = 300\n",
    "albatross_wing_span_std = 20\n",
    "n_samples = 100\n",
    "target = 1\n",
    "seed = 100\n",
    "\n",
    "aX1, aX2, ay = species_generator(albatross_weight_mean, albatross_weight_std, albatross_wing_span_mean,\n",
    "\t\t\t\t\t\t\t\t\t\t\t\t\t albatross_wing_span_std, n_samples, target, seed)\n"
   ]
  },
  {
   "cell_type": "code",
   "execution_count": 46,
   "metadata": {
    "ExecuteTime": {
     "end_time": "2024-08-05T17:03:36.238307Z",
     "start_time": "2024-08-05T17:03:36.130396Z"
    }
   },
   "outputs": [],
   "source": [
    "owl_weight_mean = 1000  # in grams\n",
    "owl_weight_variance = 200  # in grams\n",
    "owl_wingspan_mean = 100  # in cm\n",
    "owl_wingspan_variance = 15  # in cm\n",
    "n_samples = 100\n",
    "target = -1\n",
    "seed = 100\n",
    "\n",
    "# oX: feature matrix (weight, wingspan)\n",
    "# oy: target value (1)\n",
    "oX1, oX2, oy = species_generator(owl_weight_mean, owl_weight_variance,\n",
    "\t\t\t\t\t\t\t\t\t\t\t\t\t owl_wingspan_mean, owl_wingspan_variance,\n",
    "\t\t\t\t\t\t\t\t\t\t\t\t\t n_samples, target, seed)"
   ]
  },
  {
   "cell_type": "code",
   "execution_count": 47,
   "metadata": {},
   "outputs": [
    {
     "name": "stdout",
     "output_type": "stream",
     "text": [
      "Initial weights: [ 0.01624345 -0.00611756 -0.00528172]\n",
      "Final weights: [nan nan nan]\n"
     ]
    },
    {
     "name": "stderr",
     "output_type": "stream",
     "text": [
      "/tmp/ipykernel_904329/135392306.py:64: RuntimeWarning: overflow encountered in square\n",
      "  mse = ((y - output) ** 2).sum() / len(y)\n",
      "/tmp/ipykernel_904329/135392306.py:62: RuntimeWarning: overflow encountered in matmul\n",
      "  self.weights[1:] += self.learning_rate * gradient @ X\n",
      "/tmp/ipykernel_904329/135392306.py:62: RuntimeWarning: invalid value encountered in add\n",
      "  self.weights[1:] += self.learning_rate * gradient @ X\n"
     ]
    },
    {
     "data": {
      "image/png": "[encoded data removed]",
      "text/plain": [
       "<Figure size 640x480 with 1 Axes>"
      ]
     },
     "metadata": {},
     "output_type": "display_data"
    }
   ],
   "source": [
    "\n",
    "X = np.stack([np.concatenate([aX1, aX2]), np.concatenate([oX1, oX2])], axis=1)\n",
    "y = np.concatenate([ay, oy])\n",
    "\n",
    "plt.scatter(aX1, aX2, color= 'red')\n",
    "plt.scatter(oX1, oX2, color = 'blue')\n",
    "\n",
    "\n",
    "ada = Adaline(n_iterations=100, learning_rate=0.01)\n",
    "\n",
    "weigths, mse_iter = ada.fit(X, y)\n",
    "\n",
    "print(f'Final weights: {weigths}')\n"
   ]
  }
 ],
 "metadata": {
  "kernelspec": {
   "display_name": ".venv",
   "language": "python",
   "name": "python3"
  },
  "language_info": {
   "codemirror_mode": {
    "name": "ipython",
    "version": 3
   },
   "file_extension": ".py",
   "mimetype": "text/x-python",
   "name": "python",
   "nbconvert_exporter": "python",
   "pygments_lexer": "ipython3",
   "version": "3.11.9"
  }
 },
 "nbformat": 4,
 "nbformat_minor": 2
}
