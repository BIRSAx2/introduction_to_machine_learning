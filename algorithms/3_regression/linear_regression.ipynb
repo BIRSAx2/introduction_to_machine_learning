{
 "cells": [
  {
   "cell_type": "markdown",
   "metadata": {},
   "source": [
    "# Regression\n",
    "Regression is a type of supervised machine learning algorithm used to predict a continuous target variable. The target variable is continuous and has a range of values. It tries to find the best interpolation (fitting the curve) given an initial matrix of points and the known points of the target function. The algorithm relies on the concept of `gradient` of a function, as explained in the following sections.\n"
   ]
  },
  {
   "cell_type": "markdown",
   "metadata": {},
   "source": [
    "\n",
    "## Theoratical Aspects\n",
    "\n",
    "Starting from a dataset $X$, a label vector $y$ and a weight vector $w$, the algorithm tries to fit the data a way that minizes the in-sample error of the hypothesis $h$. \n",
    "The in-sample error is defined as the sum of the squared differences between the predicted values and the actual values. The algorithm tries to find the best weight vector $w$ that minimizes the in-sample error. The in-sample error is defined as:\n",
    "\n",
    "$$E_{in}(w) = \\frac{1}{N} \\sum_{i=1}^{N} (h(x_i) - y_i)^2$$\n",
    "\n",
    "where $N$ is the number of samples in the dataset, $y_i$ is the actual value of the target variable, $h(x_i)$ is the predicted value of the target variable and $w$ is the weight vector.\n",
    "\n",
    "Exploiting the definition of the hypothesis $h(x)$, we can rewrite the in-sample error as:\n",
    "$$\n",
    "E_{in} = \\frac{1}{N} \\sum_{i=1}^{N} (w^T x_i - y_i)^2\n",
    "$$\n",
    "Also note that:\n",
    "$$\n",
    "\\begin{aligned}\n",
    "\\sum_{i=1}^{N} (w^T x_i - y_i)^2 &= e_1 + e_2 + \\cdots + e_N \\\\&= [\\sqrt(e_1 + e_2 + \\cdots + e_N)]^2 = ||e||^2\n",
    "\\end{aligned}\n",
    "$$\n",
    "where $e_i = w^T X_i - y_i$ :\n",
    "$$\n",
    "E_{in} = \\frac{1}{N} ||w^T X_i - y_i||^2 = \\frac{1}{N} ||X_i w - y_i||^2\n",
    "$$"
   ]
  },
  {
   "cell_type": "markdown",
   "metadata": {},
   "source": [
    "## Closed form solution"
   ]
  },
  {
   "cell_type": "markdown",
   "metadata": {
    "vscode": {
     "languageId": "plaintext"
    }
   },
   "source": [
    "Using the same procedure as in the gradient descent algorithm, we can find the closed form solution for the weight vector $w$ that minimizes the in-sample error. The closed form solution is given by:\n",
    "\n",
    "$$\n",
    "\n",
    "\\nabla E_{\\text{in}} (w) = {2 \\over N} [X^T (Xw - y)] = 0\\\\\n",
    "\n",
    "\\implies w = (X^T X)^{-1} X^T y\n",
    "$$"
   ]
  },
  {
   "cell_type": "markdown",
   "metadata": {},
   "source": [
    "### Implementaiton\n",
    "\n",
    "Before the training, we need to define:\n",
    "- Number of samples: $N$\n",
    "- Spreading coefficient: `coeff` defines the range of the random values of the dataset"
   ]
  },
  {
   "cell_type": "code",
   "execution_count": 14,
   "metadata": {},
   "outputs": [
    {
     "name": "stdout",
     "output_type": "stream",
     "text": [
      "(250,)\n"
     ]
    }
   ],
   "source": [
    "import numpy as np\n",
    "import matplotlib.pyplot as plt\n",
    "\n",
    "np.random.seed(314)\n",
    "\n",
    "N = 250\n",
    "coeff = 2\n",
    "\n",
    "x = coeff * np.random.normal(size=N)\n",
    "\n",
    "print(x.shape)"
   ]
  },
  {
   "cell_type": "markdown",
   "metadata": {},
   "source": [
    "After generating the input samples, we need to randomly generate the oracle function $y$. We want to insert a noise in the target to make it more realisitc, the noise is defined as a Gaussian function enhanced by the `power` coefficient.\n",
    "\n",
    "We need also to define the steepness `m` of the line, and its intercept `q`. The line is defined as $y = m \\cdot x + q$."
   ]
  },
  {
   "cell_type": "code",
   "execution_count": 5,
   "metadata": {},
   "outputs": [
    {
     "name": "stdout",
     "output_type": "stream",
     "text": [
      "Target function is y = 2x + 3\n"
     ]
    },
    {
     "data": {
      "text/plain": [
       "<matplotlib.collections.PathCollection at 0x7f82fa0412d0>"
      ]
     },
     "execution_count": 5,
     "metadata": {},
     "output_type": "execute_result"
    },
    {
     "data": {
      "image/png": "[encoded data removed]",
      "text/plain": [
       "<Figure size 640x480 with 1 Axes>"
      ]
     },
     "metadata": {},
     "output_type": "display_data"
    }
   ],
   "source": [
    "power = 3\n",
    "noise = power * np.random.normal(size=N)\n",
    "\n",
    "m = 2\n",
    "q = 3\n",
    "\n",
    "y = m * x + q + noise\n",
    "print(f\"Target function is y = {m}x + {q}\")\n",
    "plt.scatter(x, y, s = 1)"
   ]
  },
  {
   "cell_type": "markdown",
   "metadata": {},
   "source": [
    "We also need to add the `bias` vector inside the matrix, in this case we are adding a column of ones to the matrix $X$.\n",
    "\n",
    "Finally, we can calculate the weight vector $w$ using the closed form solution."
   ]
  },
  {
   "cell_type": "code",
   "execution_count": 6,
   "metadata": {},
   "outputs": [
    {
     "name": "stdout",
     "output_type": "stream",
     "text": [
      "x_ size: (250, 2)\n"
     ]
    }
   ],
   "source": [
    "x0 = np.ones(N)\n",
    "x_ = np.vstack((x0, x)).T\n",
    "print(f\"x_ size: {x_.shape}\")"
   ]
  },
  {
   "cell_type": "markdown",
   "metadata": {},
   "source": [
    "#### Interpolation\n",
    "The fitting process is summarized in the following matrix multiplication:\n",
    "$$\n",
    "w = (X^T X)^{-1} X^T y\n",
    "$$\n",
    "\n",
    "Which is essentially called *pseud-inverse* of $X$. Note that the matrix multiplication is computationally comples to calculate: the average time complexity is $O(n^3)$, where $n$ is the number of features in the dataset."
   ]
  },
  {
   "cell_type": "code",
   "execution_count": 10,
   "metadata": {},
   "outputs": [],
   "source": [
    "w = np.dot (\n",
    "  np.linalg.inv(\n",
    "    np.dot(x_.T, x_)\n",
    "  ),\n",
    "  np.dot(x_.T, y)\n",
    ")"
   ]
  },
  {
   "cell_type": "code",
   "execution_count": 17,
   "metadata": {},
   "outputs": [
    {
     "name": "stdout",
     "output_type": "stream",
     "text": [
      "Weights: [3.1114589  1.90134011]\n"
     ]
    },
    {
     "data": {
      "image/png": "[encoded data removed]",
      "text/plain": [
       "<Figure size 640x480 with 1 Axes>"
      ]
     },
     "metadata": {},
     "output_type": "display_data"
    }
   ],
   "source": [
    "plt.scatter(x, y, s = 1)\n",
    "\n",
    "plt.plot(x, m*x + q, color='red')\n",
    "print(f\"Weights: {w}\")\n"
   ]
  }
 ],
 "metadata": {
  "kernelspec": {
   "display_name": ".venv",
   "language": "python",
   "name": "python3"
  },
  "language_info": {
   "codemirror_mode": {
    "name": "ipython",
    "version": 3
   },
   "file_extension": ".py",
   "mimetype": "text/x-python",
   "name": "python",
   "nbconvert_exporter": "python",
   "pygments_lexer": "ipython3",
   "version": "3.11.9"
  }
 },
 "nbformat": 4,
 "nbformat_minor": 2
}
