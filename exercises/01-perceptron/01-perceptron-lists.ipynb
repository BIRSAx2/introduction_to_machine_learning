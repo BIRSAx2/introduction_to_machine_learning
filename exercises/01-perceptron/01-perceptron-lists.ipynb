{
 "cells": [
  {
   "cell_type": "code",
   "execution_count": 2,
   "metadata": {},
   "outputs": [],
   "source": [
    "# create dataset [(x_0, x_1, x_2, y), ...]\n",
    "dataset = [[1, 3, 1, -1], \n",
    "           [1, 1, 2, 1], \n",
    "           [1, 2.5, 2, -1], \n",
    "           [1, 1, 4, -1]]"
   ]
  },
  {
   "cell_type": "code",
   "execution_count": 3,
   "metadata": {},
   "outputs": [],
   "source": [
    "# vector (list) of the parameters of the model [w_0, w_1, w_2]\n",
    "w = [0.0, 0.0, 0.0]\n",
    "w = [2.1, 1.4, -0.5]\n",
    "\n",
    "\n",
    "max_iter = 1000\n"
   ]
  },
  {
   "cell_type": "code",
   "execution_count": 4,
   "metadata": {},
   "outputs": [
    {
     "name": "stdout",
     "output_type": "stream",
     "text": [
      "iteration: 1000\n",
      "iteration: 999\n",
      "iteration: 998\n",
      "iteration: 997\n",
      "iteration: 996\n",
      "iteration: 995\n",
      "iteration: 994\n",
      "iteration: 993\n",
      "iteration: 992\n",
      "iteration: 991\n",
      "iteration: 990\n",
      "iteration: 989\n",
      "iteration: 988\n",
      "iteration: 987\n",
      "iteration: 986\n",
      "iteration: 985\n",
      "iteration: 984\n",
      "iteration: 983\n",
      "iteration: 982\n",
      "iteration: 981\n",
      "iteration: 980\n",
      "iteration: 979\n",
      "[8.1, -5.1, -1.5]\n"
     ]
    }
   ],
   "source": [
    "current_iter = max_iter\n",
    "while True:\n",
    "  print(f\"iteration: {current_iter}\")\n",
    "  num_errors = 0\n",
    "  \n",
    "  for data_points in dataset:\n",
    "    x = data_points[:-1]\n",
    "    y = data_points[-1]\n",
    "    \n",
    "    output = (w[0] * x[0]) + (w[1] * x[1]) + (w[2] * x[2])\n",
    "    if ((output >= 0 and y < 0) or (output<0 and y > 0)):\n",
    "      num_errors+=1\n",
    "      w[0] = w[0] + x[0] * y\n",
    "      w[1] = w[1] + x[1] * y\n",
    "      w[2] = w[2] + x[2] * y\n",
    "  current_iter-=1\n",
    "  \n",
    "  if (num_errors == 0 or current_iter == 0): break\n",
    "print(w)"
   ]
  }
 ],
 "metadata": {
  "kernelspec": {
   "display_name": ".venv",
   "language": "python",
   "name": "python3"
  },
  "language_info": {
   "codemirror_mode": {
    "name": "ipython",
    "version": 3
   },
   "file_extension": ".py",
   "mimetype": "text/x-python",
   "name": "python",
   "nbconvert_exporter": "python",
   "pygments_lexer": "ipython3",
   "version": "3.11.9"
  }
 },
 "nbformat": 4,
 "nbformat_minor": 2
}
