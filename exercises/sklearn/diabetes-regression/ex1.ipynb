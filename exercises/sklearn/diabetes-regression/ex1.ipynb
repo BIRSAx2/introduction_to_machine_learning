{
 "cells": [
  {
   "cell_type": "markdown",
   "metadata": {},
   "source": [
    "# Dataset Preparation\n"
   ]
  },
  {
   "cell_type": "markdown",
   "metadata": {
    "vscode": {
     "languageId": "plaintext"
    }
   },
   "source": [
    "### Setup"
   ]
  },
  {
   "cell_type": "code",
   "execution_count": 92,
   "metadata": {},
   "outputs": [],
   "source": [
    "import numpy as np\n",
    "import pandas as pd\n",
    "import matplotlib.pyplot as plt\n",
    "import seaborn as sns\n",
    "import warnings\n",
    "\n",
    "warnings.filterwarnings('ignore')\n",
    "seed = 1855"
   ]
  },
  {
   "cell_type": "markdown",
   "metadata": {},
   "source": [
    "## Data Collection\n"
   ]
  },
  {
   "cell_type": "code",
   "execution_count": 93,
   "metadata": {},
   "outputs": [
    {
     "data": {
      "text/html": [
       "<div>\n",
       "<style scoped>\n",
       "    .dataframe tbody tr th:only-of-type {\n",
       "        vertical-align: middle;\n",
       "    }\n",
       "\n",
       "    .dataframe tbody tr th {\n",
       "        vertical-align: top;\n",
       "    }\n",
       "\n",
       "    .dataframe thead th {\n",
       "        text-align: right;\n",
       "    }\n",
       "</style>\n",
       "<table border=\"1\" class=\"dataframe\">\n",
       "  <thead>\n",
       "    <tr style=\"text-align: right;\">\n",
       "      <th></th>\n",
       "      <th>age</th>\n",
       "      <th>sex</th>\n",
       "      <th>bmi</th>\n",
       "      <th>bp</th>\n",
       "      <th>s1</th>\n",
       "      <th>s2</th>\n",
       "      <th>s3</th>\n",
       "      <th>s4</th>\n",
       "      <th>s5</th>\n",
       "      <th>s6</th>\n",
       "      <th>target</th>\n",
       "    </tr>\n",
       "  </thead>\n",
       "  <tbody>\n",
       "    <tr>\n",
       "      <th>0</th>\n",
       "      <td>0.038076</td>\n",
       "      <td>0.050680</td>\n",
       "      <td>0.061696</td>\n",
       "      <td>0.021872</td>\n",
       "      <td>-0.044223</td>\n",
       "      <td>-0.034821</td>\n",
       "      <td>-0.043401</td>\n",
       "      <td>-0.002592</td>\n",
       "      <td>0.019907</td>\n",
       "      <td>-0.017646</td>\n",
       "      <td>151.0</td>\n",
       "    </tr>\n",
       "    <tr>\n",
       "      <th>1</th>\n",
       "      <td>-0.001882</td>\n",
       "      <td>-0.044642</td>\n",
       "      <td>-0.051474</td>\n",
       "      <td>-0.026328</td>\n",
       "      <td>-0.008449</td>\n",
       "      <td>-0.019163</td>\n",
       "      <td>0.074412</td>\n",
       "      <td>-0.039493</td>\n",
       "      <td>-0.068332</td>\n",
       "      <td>-0.092204</td>\n",
       "      <td>75.0</td>\n",
       "    </tr>\n",
       "    <tr>\n",
       "      <th>2</th>\n",
       "      <td>0.085299</td>\n",
       "      <td>0.050680</td>\n",
       "      <td>0.044451</td>\n",
       "      <td>-0.005670</td>\n",
       "      <td>-0.045599</td>\n",
       "      <td>-0.034194</td>\n",
       "      <td>-0.032356</td>\n",
       "      <td>-0.002592</td>\n",
       "      <td>0.002861</td>\n",
       "      <td>-0.025930</td>\n",
       "      <td>141.0</td>\n",
       "    </tr>\n",
       "    <tr>\n",
       "      <th>3</th>\n",
       "      <td>-0.089063</td>\n",
       "      <td>-0.044642</td>\n",
       "      <td>-0.011595</td>\n",
       "      <td>-0.036656</td>\n",
       "      <td>0.012191</td>\n",
       "      <td>0.024991</td>\n",
       "      <td>-0.036038</td>\n",
       "      <td>0.034309</td>\n",
       "      <td>0.022688</td>\n",
       "      <td>-0.009362</td>\n",
       "      <td>206.0</td>\n",
       "    </tr>\n",
       "    <tr>\n",
       "      <th>4</th>\n",
       "      <td>0.005383</td>\n",
       "      <td>-0.044642</td>\n",
       "      <td>-0.036385</td>\n",
       "      <td>0.021872</td>\n",
       "      <td>0.003935</td>\n",
       "      <td>0.015596</td>\n",
       "      <td>0.008142</td>\n",
       "      <td>-0.002592</td>\n",
       "      <td>-0.031988</td>\n",
       "      <td>-0.046641</td>\n",
       "      <td>135.0</td>\n",
       "    </tr>\n",
       "  </tbody>\n",
       "</table>\n",
       "</div>"
      ],
      "text/plain": [
       "        age       sex       bmi        bp        s1        s2        s3  \\\n",
       "0  0.038076  0.050680  0.061696  0.021872 -0.044223 -0.034821 -0.043401   \n",
       "1 -0.001882 -0.044642 -0.051474 -0.026328 -0.008449 -0.019163  0.074412   \n",
       "2  0.085299  0.050680  0.044451 -0.005670 -0.045599 -0.034194 -0.032356   \n",
       "3 -0.089063 -0.044642 -0.011595 -0.036656  0.012191  0.024991 -0.036038   \n",
       "4  0.005383 -0.044642 -0.036385  0.021872  0.003935  0.015596  0.008142   \n",
       "\n",
       "         s4        s5        s6  target  \n",
       "0 -0.002592  0.019907 -0.017646   151.0  \n",
       "1 -0.039493 -0.068332 -0.092204    75.0  \n",
       "2 -0.002592  0.002861 -0.025930   141.0  \n",
       "3  0.034309  0.022688 -0.009362   206.0  \n",
       "4 -0.002592 -0.031988 -0.046641   135.0  "
      ]
     },
     "execution_count": 93,
     "metadata": {},
     "output_type": "execute_result"
    }
   ],
   "source": [
    "from sklearn.datasets import load_diabetes\n",
    "\n",
    "diabetes = load_diabetes()\n",
    "dataset = pd.DataFrame(data=diabetes.data, columns=diabetes.feature_names)\n",
    "\n",
    "dataset['target'] = diabetes.target\n",
    "\n",
    "dataset.head()\n"
   ]
  },
  {
   "cell_type": "markdown",
   "metadata": {},
   "source": [
    "## Handling missing values\n"
   ]
  },
  {
   "cell_type": "code",
   "execution_count": 94,
   "metadata": {},
   "outputs": [
    {
     "data": {
      "text/plain": [
       "age       0\n",
       "sex       0\n",
       "bmi       0\n",
       "bp        0\n",
       "s1        0\n",
       "s2        0\n",
       "s3        0\n",
       "s4        0\n",
       "s5        0\n",
       "s6        0\n",
       "target    0\n",
       "dtype: int64"
      ]
     },
     "execution_count": 94,
     "metadata": {},
     "output_type": "execute_result"
    }
   ],
   "source": [
    "# First let's check if there are any missing values in the dataset\n",
    "dataset.isnull().sum()\n",
    "\n",
    "# no missing values"
   ]
  },
  {
   "cell_type": "markdown",
   "metadata": {},
   "source": [
    "## Encoding categorical features with One-Hot Encoding\n"
   ]
  },
  {
   "cell_type": "code",
   "execution_count": 95,
   "metadata": {},
   "outputs": [
    {
     "data": {
      "text/plain": [
       "[]"
      ]
     },
     "execution_count": 95,
     "metadata": {},
     "output_type": "execute_result"
    }
   ],
   "source": [
    "# First let's check if there are any categorical features in the dataset\n",
    "categorical_columns = dataset.select_dtypes(include=['object']).columns.tolist()\n",
    "\n",
    "\n",
    "categorical_columns\n",
    "\n",
    "# no categorical columns"
   ]
  },
  {
   "cell_type": "markdown",
   "metadata": {},
   "source": [
    "## Encoding binary class label\n"
   ]
  },
  {
   "cell_type": "code",
   "execution_count": 96,
   "metadata": {},
   "outputs": [],
   "source": [
    "# this is a regression problem, so we will check the correlation of the features with the target variable, no encoding is needed"
   ]
  },
  {
   "cell_type": "markdown",
   "metadata": {},
   "source": [
    "# Model Building\n"
   ]
  },
  {
   "cell_type": "code",
   "execution_count": 97,
   "metadata": {},
   "outputs": [],
   "source": [
    "from sklearn.model_selection import *\n",
    "from sklearn.metrics import *\n",
    "from sklearn.tree import *\n",
    "from sklearn.ensemble import *\n",
    "from sklearn.linear_model import *\n",
    "from sklearn.neighbors import *"
   ]
  },
  {
   "cell_type": "markdown",
   "metadata": {},
   "source": [
    "## Splitting the dataset into training and testing sets\n"
   ]
  },
  {
   "cell_type": "code",
   "execution_count": 98,
   "metadata": {},
   "outputs": [],
   "source": [
    "x = dataset.drop('target', axis=1)\n",
    "y = dataset['target']\n",
    "\n",
    "x_train, x_test, y_train, y_test = train_test_split(x, y, test_size=0.2, random_state=seed)"
   ]
  },
  {
   "cell_type": "markdown",
   "metadata": {},
   "source": [
    "## Evaluation function\n"
   ]
  },
  {
   "cell_type": "code",
   "execution_count": 99,
   "metadata": {},
   "outputs": [],
   "source": [
    "def evaluate(expected, predicted):\n",
    "    mae = mean_absolute_error(expected, predicted)\n",
    "    mse = mean_squared_error(expected, predicted)\n",
    "    r2 = r2_score(expected, predicted)\n",
    "    print(f'MAE: {mae:.2f}')\n",
    "    print(f'MSE: {mse:.2f}')\n",
    "    print(f'R2: {r2:.2f}')"
   ]
  },
  {
   "cell_type": "markdown",
   "metadata": {},
   "source": [
    "## Model Building\n"
   ]
  },
  {
   "cell_type": "code",
   "execution_count": 100,
   "metadata": {},
   "outputs": [],
   "source": [
    "model = LinearRegression()"
   ]
  },
  {
   "cell_type": "markdown",
   "metadata": {},
   "source": [
    "## Model Evaluation\n"
   ]
  },
  {
   "cell_type": "markdown",
   "metadata": {
    "vscode": {
     "languageId": "plaintext"
    }
   },
   "source": [
    "### Cross Validation"
   ]
  },
  {
   "cell_type": "code",
   "execution_count": 101,
   "metadata": {},
   "outputs": [
    {
     "name": "stdout",
     "output_type": "stream",
     "text": [
      "R2: 0.44 += 0.11\n",
      "Neg_mean_absolute_error: -44.32 += 4.57\n",
      "Neg_mean_squared_error: -3069.22 += 719.28\n",
      "Neg_root_mean_squared_error: -55.04 += 6.32\n"
     ]
    }
   ],
   "source": [
    "scoring = ['r2', 'neg_mean_absolute_error', 'neg_mean_squared_error', 'neg_root_mean_squared_error']\n",
    "cross_validation_results = cross_validate(model, x_train, y_train, cv=10, scoring=scoring)\n",
    "\n",
    "for metric, scores in cross_validation_results.items():\n",
    "  if 'time' not in metric:\n",
    "    name  = metric.replace('test_','' ).capitalize()\n",
    "    print(f'{name}: {np.mean(scores):.2f} += {np.std(scores):.2f}')\n",
    "  \n"
   ]
  },
  {
   "cell_type": "markdown",
   "metadata": {
    "vscode": {
     "languageId": "plaintext"
    }
   },
   "source": [
    "### Cross Validation with KFold"
   ]
  },
  {
   "cell_type": "code",
   "execution_count": 102,
   "metadata": {},
   "outputs": [
    {
     "name": "stdout",
     "output_type": "stream",
     "text": [
      "R2: 0.45 += 0.15\n",
      "Neg_mean_absolute_error: -44.70 += 6.75\n",
      "Neg_mean_squared_error: -3084.47 += 862.01\n",
      "Neg_root_mean_squared_error: -55.06 += 7.30\n"
     ]
    }
   ],
   "source": [
    "\n",
    "k_fold = KFold(n_splits=10, random_state=seed, shuffle=True)\n",
    "scoring = ['r2', 'neg_mean_absolute_error', 'neg_mean_squared_error', 'neg_root_mean_squared_error']\n",
    "cross_validation_results = cross_validate(model, x_train, y_train, cv=k_fold, scoring=scoring)\n",
    "\n",
    "for metric, scores in cross_validation_results.items():\n",
    "  if 'time' not in metric:\n",
    "    name  = metric.replace('test_','' ).capitalize()\n",
    "    print(f'{name}: {np.mean(scores):.2f} += {np.std(scores):.2f}')\n",
    "  \n"
   ]
  },
  {
   "cell_type": "markdown",
   "metadata": {
    "vscode": {
     "languageId": "plaintext"
    }
   },
   "source": [
    "### Cross Validation with StratifiedKFold"
   ]
  },
  {
   "cell_type": "code",
   "execution_count": 103,
   "metadata": {},
   "outputs": [
    {
     "name": "stdout",
     "output_type": "stream",
     "text": [
      "R2: 0.47 += 0.08\n",
      "Neg_mean_absolute_error: -43.95 += 4.31\n",
      "Neg_mean_squared_error: -2999.56 += 539.95\n",
      "Neg_root_mean_squared_error: -54.53 += 5.09\n"
     ]
    }
   ],
   "source": [
    "\n",
    "k_fold = StratifiedKFold(n_splits=5, random_state=seed, shuffle=True)\n",
    "scoring = ['r2', 'neg_mean_absolute_error', 'neg_mean_squared_error', 'neg_root_mean_squared_error']\n",
    "cross_validation_results = cross_validate(model, x_train, y_train, cv=k_fold, scoring=scoring)\n",
    "\n",
    "for metric, scores in cross_validation_results.items():\n",
    "  if 'time' not in metric:\n",
    "    name  = metric.replace('test_','' ).capitalize()\n",
    "    print(f'{name}: {np.mean(scores):.2f} += {np.std(scores):.2f}')\n",
    "  \n"
   ]
  },
  {
   "cell_type": "markdown",
   "metadata": {},
   "source": [
    "## Model Building with Hyperparameter Tuning\n"
   ]
  },
  {
   "cell_type": "code",
   "execution_count": 104,
   "metadata": {},
   "outputs": [
    {
     "name": "stdout",
     "output_type": "stream",
     "text": [
      "{'fit_intercept': True}\n"
     ]
    }
   ],
   "source": [
    "model = LinearRegression()\n",
    "k_fold = StratifiedKFold(n_splits=5, random_state=seed, shuffle=True)\n",
    "params = {\n",
    "    'fit_intercept': [True, False],\n",
    "}\n",
    "\n",
    "grid_search = GridSearchCV(model, param_grid=params, cv=k_fold, scoring='r2')\n",
    "\n",
    "\n",
    "grid_search.fit(x_train, y_train)\n",
    "\n",
    "print(grid_search.best_params_)\n"
   ]
  },
  {
   "cell_type": "markdown",
   "metadata": {},
   "source": [
    "\n",
    "## Model Evaluation\n"
   ]
  },
  {
   "cell_type": "code",
   "execution_count": 105,
   "metadata": {},
   "outputs": [
    {
     "name": "stdout",
     "output_type": "stream",
     "text": [
      "MAE: 44.33\n",
      "MSE: 2907.13\n",
      "R2: 0.56\n"
     ]
    },
    {
     "data": {
      "text/html": [
       "<div>\n",
       "<style scoped>\n",
       "    .dataframe tbody tr th:only-of-type {\n",
       "        vertical-align: middle;\n",
       "    }\n",
       "\n",
       "    .dataframe tbody tr th {\n",
       "        vertical-align: top;\n",
       "    }\n",
       "\n",
       "    .dataframe thead th {\n",
       "        text-align: right;\n",
       "    }\n",
       "</style>\n",
       "<table border=\"1\" class=\"dataframe\">\n",
       "  <thead>\n",
       "    <tr style=\"text-align: right;\">\n",
       "      <th></th>\n",
       "      <th>Actual</th>\n",
       "      <th>Predicted</th>\n",
       "    </tr>\n",
       "  </thead>\n",
       "  <tbody>\n",
       "    <tr>\n",
       "      <th>393</th>\n",
       "      <td>69.0</td>\n",
       "      <td>100.030358</td>\n",
       "    </tr>\n",
       "    <tr>\n",
       "      <th>363</th>\n",
       "      <td>58.0</td>\n",
       "      <td>164.061422</td>\n",
       "    </tr>\n",
       "    <tr>\n",
       "      <th>325</th>\n",
       "      <td>192.0</td>\n",
       "      <td>210.171042</td>\n",
       "    </tr>\n",
       "    <tr>\n",
       "      <th>168</th>\n",
       "      <td>268.0</td>\n",
       "      <td>211.817259</td>\n",
       "    </tr>\n",
       "    <tr>\n",
       "      <th>297</th>\n",
       "      <td>31.0</td>\n",
       "      <td>99.678574</td>\n",
       "    </tr>\n",
       "    <tr>\n",
       "      <th>262</th>\n",
       "      <td>308.0</td>\n",
       "      <td>264.550208</td>\n",
       "    </tr>\n",
       "    <tr>\n",
       "      <th>359</th>\n",
       "      <td>311.0</td>\n",
       "      <td>169.453903</td>\n",
       "    </tr>\n",
       "    <tr>\n",
       "      <th>320</th>\n",
       "      <td>122.0</td>\n",
       "      <td>188.938910</td>\n",
       "    </tr>\n",
       "    <tr>\n",
       "      <th>397</th>\n",
       "      <td>198.0</td>\n",
       "      <td>181.169235</td>\n",
       "    </tr>\n",
       "    <tr>\n",
       "      <th>401</th>\n",
       "      <td>93.0</td>\n",
       "      <td>81.026392</td>\n",
       "    </tr>\n",
       "  </tbody>\n",
       "</table>\n",
       "</div>"
      ],
      "text/plain": [
       "     Actual   Predicted\n",
       "393    69.0  100.030358\n",
       "363    58.0  164.061422\n",
       "325   192.0  210.171042\n",
       "168   268.0  211.817259\n",
       "297    31.0   99.678574\n",
       "262   308.0  264.550208\n",
       "359   311.0  169.453903\n",
       "320   122.0  188.938910\n",
       "397   198.0  181.169235\n",
       "401    93.0   81.026392"
      ]
     },
     "execution_count": 105,
     "metadata": {},
     "output_type": "execute_result"
    }
   ],
   "source": [
    "best_model = grid_search.best_estimator_\n",
    "\n",
    "best_model.fit(x_train, y_train)\n",
    "\n",
    "y_pred = best_model.predict(x_test)\n",
    "\n",
    "evaluate(y_test, y_pred)\n",
    "\n",
    "pd.DataFrame({'Actual': y_test, 'Predicted': y_pred}).head(10)"
   ]
  },
  {
   "cell_type": "markdown",
   "metadata": {},
   "source": [
    "# Comparing Different Models Performance"
   ]
  },
  {
   "cell_type": "code",
   "execution_count": 106,
   "metadata": {},
   "outputs": [
    {
     "data": {
      "text/html": [
       "<div>\n",
       "<style scoped>\n",
       "    .dataframe tbody tr th:only-of-type {\n",
       "        vertical-align: middle;\n",
       "    }\n",
       "\n",
       "    .dataframe tbody tr th {\n",
       "        vertical-align: top;\n",
       "    }\n",
       "\n",
       "    .dataframe thead th {\n",
       "        text-align: right;\n",
       "    }\n",
       "</style>\n",
       "<table border=\"1\" class=\"dataframe\">\n",
       "  <thead>\n",
       "    <tr style=\"text-align: right;\">\n",
       "      <th></th>\n",
       "      <th>0</th>\n",
       "      <th>1</th>\n",
       "      <th>2</th>\n",
       "      <th>3</th>\n",
       "      <th>4</th>\n",
       "      <th>5</th>\n",
       "      <th>6</th>\n",
       "      <th>7</th>\n",
       "      <th>8</th>\n",
       "      <th>9</th>\n",
       "      <th>mean</th>\n",
       "      <th>std</th>\n",
       "    </tr>\n",
       "  </thead>\n",
       "  <tbody>\n",
       "    <tr>\n",
       "      <th>LinearRegression</th>\n",
       "      <td>3826.505180</td>\n",
       "      <td>2743.185179</td>\n",
       "      <td>4546.647674</td>\n",
       "      <td>2579.328425</td>\n",
       "      <td>2715.026646</td>\n",
       "      <td>2554.124890</td>\n",
       "      <td>2115.207530</td>\n",
       "      <td>3347.969213</td>\n",
       "      <td>2547.061455</td>\n",
       "      <td>3717.099938</td>\n",
       "      <td>3069.215613</td>\n",
       "      <td>719.276068</td>\n",
       "    </tr>\n",
       "    <tr>\n",
       "      <th>DecisionTreeRegressor</th>\n",
       "      <td>4767.388889</td>\n",
       "      <td>6730.444444</td>\n",
       "      <td>9054.944444</td>\n",
       "      <td>4351.400000</td>\n",
       "      <td>7093.771429</td>\n",
       "      <td>3995.457143</td>\n",
       "      <td>6473.685714</td>\n",
       "      <td>7323.257143</td>\n",
       "      <td>6145.057143</td>\n",
       "      <td>10879.342857</td>\n",
       "      <td>6681.474921</td>\n",
       "      <td>2011.922215</td>\n",
       "    </tr>\n",
       "    <tr>\n",
       "      <th>RandomForestRegressor</th>\n",
       "      <td>3385.379675</td>\n",
       "      <td>2919.463097</td>\n",
       "      <td>5339.387564</td>\n",
       "      <td>2511.720331</td>\n",
       "      <td>3210.289694</td>\n",
       "      <td>3148.538654</td>\n",
       "      <td>3052.985911</td>\n",
       "      <td>3648.819897</td>\n",
       "      <td>3413.690531</td>\n",
       "      <td>4728.338974</td>\n",
       "      <td>3535.861433</td>\n",
       "      <td>815.048211</td>\n",
       "    </tr>\n",
       "    <tr>\n",
       "      <th>KNeighborsRegressor</th>\n",
       "      <td>3640.347778</td>\n",
       "      <td>2218.703333</td>\n",
       "      <td>6358.202222</td>\n",
       "      <td>3450.472000</td>\n",
       "      <td>2717.721143</td>\n",
       "      <td>4393.798857</td>\n",
       "      <td>4147.739429</td>\n",
       "      <td>4566.280000</td>\n",
       "      <td>3195.701714</td>\n",
       "      <td>4927.067429</td>\n",
       "      <td>3961.603390</td>\n",
       "      <td>1131.321776</td>\n",
       "    </tr>\n",
       "  </tbody>\n",
       "</table>\n",
       "</div>"
      ],
      "text/plain": [
       "                                 0            1            2            3  \\\n",
       "LinearRegression       3826.505180  2743.185179  4546.647674  2579.328425   \n",
       "DecisionTreeRegressor  4767.388889  6730.444444  9054.944444  4351.400000   \n",
       "RandomForestRegressor  3385.379675  2919.463097  5339.387564  2511.720331   \n",
       "KNeighborsRegressor    3640.347778  2218.703333  6358.202222  3450.472000   \n",
       "\n",
       "                                 4            5            6            7  \\\n",
       "LinearRegression       2715.026646  2554.124890  2115.207530  3347.969213   \n",
       "DecisionTreeRegressor  7093.771429  3995.457143  6473.685714  7323.257143   \n",
       "RandomForestRegressor  3210.289694  3148.538654  3052.985911  3648.819897   \n",
       "KNeighborsRegressor    2717.721143  4393.798857  4147.739429  4566.280000   \n",
       "\n",
       "                                 8             9         mean          std  \n",
       "LinearRegression       2547.061455   3717.099938  3069.215613   719.276068  \n",
       "DecisionTreeRegressor  6145.057143  10879.342857  6681.474921  2011.922215  \n",
       "RandomForestRegressor  3413.690531   4728.338974  3535.861433   815.048211  \n",
       "KNeighborsRegressor    3195.701714   4927.067429  3961.603390  1131.321776  "
      ]
     },
     "execution_count": 106,
     "metadata": {},
     "output_type": "execute_result"
    }
   ],
   "source": [
    "models = {\n",
    "    'LinearRegression': LinearRegression(),\n",
    "    'DecisionTreeRegressor': DecisionTreeRegressor(),\n",
    "    'RandomForestRegressor': RandomForestRegressor(),\n",
    "    'KNeighborsRegressor': KNeighborsRegressor(),\n",
    "}\n",
    "\n",
    "results = {}\n",
    "for model_name, model in models.items():\n",
    "  results[model_name] = -cross_val_score(model, x_train, y_train, cv=10, scoring='neg_mean_squared_error')\n",
    "  \n",
    "  \n",
    "results_df = pd.DataFrame(results).transpose()\n",
    "\n",
    "results_df['mean'] = results_df.mean(axis=1)\n",
    "results_df['std'] = results_df.std(axis=1)\n",
    "results_df.sort_values(by=['mean', 'std'], ascending=False)\n",
    "\n",
    "results_df"
   ]
  },
  {
   "cell_type": "markdown",
   "metadata": {},
   "source": [
    "## Model Building"
   ]
  },
  {
   "cell_type": "markdown",
   "metadata": {
    "vscode": {
     "languageId": "plaintext"
    }
   },
   "source": [
    "## Model Comparison"
   ]
  }
 ],
 "metadata": {
  "kernelspec": {
   "display_name": ".venv",
   "language": "python",
   "name": "python3"
  },
  "language_info": {
   "codemirror_mode": {
    "name": "ipython",
    "version": 3
   },
   "file_extension": ".py",
   "mimetype": "text/x-python",
   "name": "python",
   "nbconvert_exporter": "python",
   "pygments_lexer": "ipython3",
   "version": "3.11.9"
  }
 },
 "nbformat": 4,
 "nbformat_minor": 2
}
