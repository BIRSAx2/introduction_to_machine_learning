{
 "cells": [
  {
   "cell_type": "markdown",
   "metadata": {},
   "source": [
    "# Dataset Preparation\n"
   ]
  },
  {
   "cell_type": "markdown",
   "metadata": {
    "vscode": {
     "languageId": "plaintext"
    }
   },
   "source": [
    "### Setup"
   ]
  },
  {
   "cell_type": "code",
   "execution_count": 26,
   "metadata": {},
   "outputs": [],
   "source": [
    "import pandas as pd\n",
    "import numpy as np\n",
    "import matplotlib.pyplot as plt\n",
    "import seaborn as sns\n",
    "\n",
    "import os\n",
    "import warnings\n",
    "\n",
    "warnings.filterwarnings('ignore')\n",
    "\n",
    "seed = 1855"
   ]
  },
  {
   "cell_type": "markdown",
   "metadata": {},
   "source": [
    "## Data Collection\n"
   ]
  },
  {
   "cell_type": "code",
   "execution_count": 27,
   "metadata": {},
   "outputs": [
    {
     "data": {
      "text/html": [
       "<div>\n",
       "<style scoped>\n",
       "    .dataframe tbody tr th:only-of-type {\n",
       "        vertical-align: middle;\n",
       "    }\n",
       "\n",
       "    .dataframe tbody tr th {\n",
       "        vertical-align: top;\n",
       "    }\n",
       "\n",
       "    .dataframe thead th {\n",
       "        text-align: right;\n",
       "    }\n",
       "</style>\n",
       "<table border=\"1\" class=\"dataframe\">\n",
       "  <thead>\n",
       "    <tr style=\"text-align: right;\">\n",
       "      <th></th>\n",
       "      <th>on_road_old</th>\n",
       "      <th>on_road_now</th>\n",
       "      <th>years</th>\n",
       "      <th>km</th>\n",
       "      <th>rating</th>\n",
       "      <th>condition</th>\n",
       "      <th>economy</th>\n",
       "      <th>top_speed</th>\n",
       "      <th>hp</th>\n",
       "      <th>torque</th>\n",
       "      <th>current_price</th>\n",
       "    </tr>\n",
       "  </thead>\n",
       "  <tbody>\n",
       "    <tr>\n",
       "      <th>0</th>\n",
       "      <td>535651</td>\n",
       "      <td>798186</td>\n",
       "      <td>3</td>\n",
       "      <td>78945</td>\n",
       "      <td>1</td>\n",
       "      <td>2</td>\n",
       "      <td>14</td>\n",
       "      <td>177</td>\n",
       "      <td>73</td>\n",
       "      <td>123</td>\n",
       "      <td>351318.0</td>\n",
       "    </tr>\n",
       "    <tr>\n",
       "      <th>1</th>\n",
       "      <td>591911</td>\n",
       "      <td>861056</td>\n",
       "      <td>6</td>\n",
       "      <td>117220</td>\n",
       "      <td>5</td>\n",
       "      <td>9</td>\n",
       "      <td>9</td>\n",
       "      <td>148</td>\n",
       "      <td>74</td>\n",
       "      <td>95</td>\n",
       "      <td>285001.5</td>\n",
       "    </tr>\n",
       "    <tr>\n",
       "      <th>2</th>\n",
       "      <td>686990</td>\n",
       "      <td>770762</td>\n",
       "      <td>2</td>\n",
       "      <td>132538</td>\n",
       "      <td>2</td>\n",
       "      <td>8</td>\n",
       "      <td>15</td>\n",
       "      <td>181</td>\n",
       "      <td>53</td>\n",
       "      <td>97</td>\n",
       "      <td>215386.0</td>\n",
       "    </tr>\n",
       "    <tr>\n",
       "      <th>3</th>\n",
       "      <td>573999</td>\n",
       "      <td>722381</td>\n",
       "      <td>4</td>\n",
       "      <td>101065</td>\n",
       "      <td>4</td>\n",
       "      <td>3</td>\n",
       "      <td>11</td>\n",
       "      <td>197</td>\n",
       "      <td>54</td>\n",
       "      <td>116</td>\n",
       "      <td>244295.5</td>\n",
       "    </tr>\n",
       "    <tr>\n",
       "      <th>4</th>\n",
       "      <td>691388</td>\n",
       "      <td>811335</td>\n",
       "      <td>6</td>\n",
       "      <td>61559</td>\n",
       "      <td>3</td>\n",
       "      <td>9</td>\n",
       "      <td>12</td>\n",
       "      <td>160</td>\n",
       "      <td>53</td>\n",
       "      <td>105</td>\n",
       "      <td>531114.5</td>\n",
       "    </tr>\n",
       "  </tbody>\n",
       "</table>\n",
       "</div>"
      ],
      "text/plain": [
       "   on_road_old  on_road_now  years      km  rating  condition  economy  \\\n",
       "0       535651       798186      3   78945       1          2       14   \n",
       "1       591911       861056      6  117220       5          9        9   \n",
       "2       686990       770762      2  132538       2          8       15   \n",
       "3       573999       722381      4  101065       4          3       11   \n",
       "4       691388       811335      6   61559       3          9       12   \n",
       "\n",
       "   top_speed  hp  torque  current_price  \n",
       "0        177  73     123       351318.0  \n",
       "1        148  74      95       285001.5  \n",
       "2        181  53      97       215386.0  \n",
       "3        197  54     116       244295.5  \n",
       "4        160  53     105       531114.5  "
      ]
     },
     "execution_count": 27,
     "metadata": {},
     "output_type": "execute_result"
    }
   ],
   "source": [
    "\n",
    "# get absolute path of the current directory\n",
    "path = './regression-problems/second-hand-cars/dataset/dataset.csv'\n",
    "\n",
    "df = pd.read_csv(path)\n",
    "\n",
    "# Removing the v.id column as it is not useful for the model\n",
    "df = df.drop('v.id', axis=1)\n",
    "\n",
    "# Converting the column names to snake case for convenience\n",
    "df.columns = df.columns.str.lower().str.replace(' ', '_')\n",
    "\n",
    "df.head()"
   ]
  },
  {
   "cell_type": "markdown",
   "metadata": {},
   "source": [
    "## Handling missing values\n"
   ]
  },
  {
   "cell_type": "code",
   "execution_count": 28,
   "metadata": {},
   "outputs": [
    {
     "data": {
      "text/plain": [
       "on_road_old      0\n",
       "on_road_now      0\n",
       "years            0\n",
       "km               0\n",
       "rating           0\n",
       "condition        0\n",
       "economy          0\n",
       "top_speed        0\n",
       "hp               0\n",
       "torque           0\n",
       "current_price    0\n",
       "dtype: int64"
      ]
     },
     "execution_count": 28,
     "metadata": {},
     "output_type": "execute_result"
    }
   ],
   "source": [
    "# Cheching if there are any missing values\n",
    "\n",
    "df.isnull().sum()"
   ]
  },
  {
   "cell_type": "markdown",
   "metadata": {},
   "source": [
    "## Encoding categorical features with One-Hot Encoding\n"
   ]
  },
  {
   "cell_type": "code",
   "execution_count": 29,
   "metadata": {},
   "outputs": [],
   "source": [
    "# There are no missing values in the dataset"
   ]
  },
  {
   "cell_type": "markdown",
   "metadata": {},
   "source": [
    "## Encoding binary class label\n"
   ]
  },
  {
   "cell_type": "markdown",
   "metadata": {},
   "source": [
    "# Model Building\n"
   ]
  },
  {
   "cell_type": "code",
   "execution_count": 72,
   "metadata": {},
   "outputs": [],
   "source": [
    "from sklearn.model_selection import *\n",
    "from sklearn.tree import *\n",
    "from sklearn.ensemble import *\n",
    "from sklearn.metrics import *\n",
    "from sklearn.neighbors import *\n",
    "from sklearn.linear_model import *\n",
    "from sklearn.svm import *\n",
    "from sklearn.preprocessing import *\n"
   ]
  },
  {
   "cell_type": "markdown",
   "metadata": {},
   "source": [
    "## Splitting the dataset into training and testing sets\n"
   ]
  },
  {
   "cell_type": "code",
   "execution_count": 31,
   "metadata": {},
   "outputs": [],
   "source": [
    "x = df.drop('current_price', axis=1)\n",
    "y = df['current_price']\n",
    "\n",
    "x_train, x_test, y_train, y_test = train_test_split(x, y, test_size=0.2, random_state=seed)"
   ]
  },
  {
   "cell_type": "markdown",
   "metadata": {},
   "source": [
    "## Evaluation function\n"
   ]
  },
  {
   "cell_type": "code",
   "execution_count": 32,
   "metadata": {},
   "outputs": [],
   "source": [
    "def evaluate(expected, predicted):\n",
    "    mae = mean_absolute_error(expected, predicted)\n",
    "    mse = mean_squared_error(expected, predicted)\n",
    "    rmse = np.sqrt(mse)\n",
    "    r2 = r2_score(expected, predicted)\n",
    "    print(f'MAE: {mae:.2f}')\n",
    "    print(f'MSE: {mse:.2f}')\n",
    "    print(f'RMSE: {rmse:.2f}')\n",
    "    print(f'R2: {r2:.2f}')\n",
    "    "
   ]
  },
  {
   "cell_type": "markdown",
   "metadata": {},
   "source": [
    "## Model Building\n"
   ]
  },
  {
   "cell_type": "code",
   "execution_count": 35,
   "metadata": {},
   "outputs": [],
   "source": [
    "model = LinearRegression()"
   ]
  },
  {
   "cell_type": "markdown",
   "metadata": {},
   "source": [
    "## Model Evaluation\n"
   ]
  },
  {
   "cell_type": "markdown",
   "metadata": {
    "vscode": {
     "languageId": "plaintext"
    }
   },
   "source": [
    "### Cross Validation"
   ]
  },
  {
   "cell_type": "code",
   "execution_count": 52,
   "metadata": {},
   "outputs": [
    {
     "name": "stdout",
     "output_type": "stream",
     "text": [
      "Mean absolute error: 7520.69 += 498.15\n",
      "Mean squared error: 79942320.21 += 10021825.12\n",
      "Root mean squared error: 8923.78 += 555.44\n",
      "Relative error: 0.029\n"
     ]
    }
   ],
   "source": [
    "scoring = ['neg_mean_absolute_error', 'neg_mean_squared_error', 'neg_root_mean_squared_error']\n",
    "cross_validation_results = cross_validate(model, x_train, y_train, cv=10, scoring=scoring)\n",
    "\n",
    "for metric, scores in cross_validation_results.items():\n",
    "  if 'time' not in metric:\n",
    "    name  = metric.replace('test_','' ).replace(\"_\", ' ').replace('neg ', '').capitalize()\n",
    "    print(f'{name}: {-np.mean(scores):.2f} += {np.std(scores):.2f}')\n",
    "  \n",
    "# relative_error = rmse/mean\n",
    "relative_error = -cross_validation_results['test_neg_root_mean_squared_error'] / y_train.mean()\n",
    "print(f\"Relative error: {relative_error.mean():.3f}\")"
   ]
  },
  {
   "cell_type": "markdown",
   "metadata": {
    "vscode": {
     "languageId": "plaintext"
    }
   },
   "source": [
    "### Cross Validation with KFold"
   ]
  },
  {
   "cell_type": "code",
   "execution_count": 53,
   "metadata": {},
   "outputs": [
    {
     "name": "stdout",
     "output_type": "stream",
     "text": [
      "Mean absolute error: 7516.12 += 621.43\n",
      "Mean squared error: 79992419.17 += 12915699.40\n",
      "Root mean squared error: 8916.60 += 697.66\n",
      "Relative error: 0.029\n"
     ]
    }
   ],
   "source": [
    "scoring = ['neg_mean_absolute_error', 'neg_mean_squared_error', 'neg_root_mean_squared_error']\n",
    "k_fold = KFold(n_splits=10, shuffle=True, random_state=seed)\n",
    "cross_validation_results = cross_validate(model, x_train, y_train, cv=k_fold, scoring=scoring)\n",
    "\n",
    "for metric, scores in cross_validation_results.items():\n",
    "  if 'time' not in metric:\n",
    "    name  = metric.replace('test_','' ).replace(\"_\", ' ').replace('neg ', '').capitalize()\n",
    "    print(f'{name}: {-np.mean(scores):.2f} += {np.std(scores):.2f}')\n",
    "  \n",
    "# relative_error = rmse/mean\n",
    "relative_error = -cross_validation_results['test_neg_root_mean_squared_error'] / y_train.mean()\n",
    "print(f\"Relative error: {relative_error.mean():.3f}\")"
   ]
  },
  {
   "cell_type": "markdown",
   "metadata": {
    "vscode": {
     "languageId": "plaintext"
    }
   },
   "source": [
    "### Cross Validation with StratifiedKFold"
   ]
  },
  {
   "cell_type": "code",
   "execution_count": 55,
   "metadata": {},
   "outputs": [],
   "source": [
    "# Cannot use stratified k-fold as the target variable is continuous"
   ]
  },
  {
   "cell_type": "markdown",
   "metadata": {},
   "source": [
    "## Model Building with Hyperparameter Tuning\n"
   ]
  },
  {
   "cell_type": "code",
   "execution_count": 59,
   "metadata": {},
   "outputs": [
    {
     "name": "stdout",
     "output_type": "stream",
     "text": [
      "Best parameters: {'fit_intercept': True, 'n_jobs': 1}\n",
      "Best score: 8916.596\n"
     ]
    }
   ],
   "source": [
    "model = LinearRegression()\n",
    "params = {\n",
    "    'fit_intercept': [True, False],\n",
    "    'n_jobs': [1, 2, 4, 10, 20]\n",
    "}\n",
    "k_fold = KFold(n_splits=10, shuffle=True, random_state=seed)\n",
    "\n",
    "grid_search = GridSearchCV(model, param_grid=params, cv=k_fold, scoring='neg_root_mean_squared_error')\n",
    "\n",
    "grid_search.fit(x_train, y_train)\n",
    "\n",
    "print(f'Best parameters: {grid_search.best_params_}')\n",
    "print(f'Best score: {-grid_search.best_score_:.3f}')"
   ]
  },
  {
   "cell_type": "markdown",
   "metadata": {},
   "source": [
    "\n",
    "## Model Evaluation\n"
   ]
  },
  {
   "cell_type": "code",
   "execution_count": 60,
   "metadata": {},
   "outputs": [
    {
     "name": "stdout",
     "output_type": "stream",
     "text": [
      "MAE: 6906.27\n",
      "MSE: 67170456.40\n",
      "RMSE: 8195.76\n",
      "R2: 1.00\n"
     ]
    }
   ],
   "source": [
    "best_model = grid_search.best_estimator_\n",
    "y_pred = best_model.predict(x_test)\n",
    "evaluate(y_test, y_pred)"
   ]
  },
  {
   "cell_type": "markdown",
   "metadata": {},
   "source": [
    "# Comparing Different Models Performance"
   ]
  },
  {
   "cell_type": "markdown",
   "metadata": {},
   "source": [
    "## Model Building"
   ]
  },
  {
   "cell_type": "code",
   "execution_count": 73,
   "metadata": {},
   "outputs": [],
   "source": [
    "models = {\n",
    "    'Linear Regression': LinearRegression(),\n",
    "    'Random Forest': RandomForestRegressor(random_state=seed),\n",
    "    'KNN': KNeighborsRegressor(),\n",
    "    'Decision Tree': DecisionTreeRegressor(random_state=seed),\n",
    "    'Gradient Boosting': GradientBoostingRegressor(random_state=seed),\n",
    "    'AdaBoost': AdaBoostRegressor(random_state=seed),\n",
    "    'Extra Trees': ExtraTreesRegressor(random_state=seed),\n",
    "    'Support Vector Regressor': SVR()\n",
    "}"
   ]
  },
  {
   "cell_type": "markdown",
   "metadata": {
    "vscode": {
     "languageId": "plaintext"
    }
   },
   "source": [
    "## Model Comparison"
   ]
  },
  {
   "cell_type": "code",
   "execution_count": 75,
   "metadata": {},
   "outputs": [
    {
     "data": {
      "text/html": [
       "<div>\n",
       "<style scoped>\n",
       "    .dataframe tbody tr th:only-of-type {\n",
       "        vertical-align: middle;\n",
       "    }\n",
       "\n",
       "    .dataframe tbody tr th {\n",
       "        vertical-align: top;\n",
       "    }\n",
       "\n",
       "    .dataframe thead th {\n",
       "        text-align: right;\n",
       "    }\n",
       "</style>\n",
       "<table border=\"1\" class=\"dataframe\">\n",
       "  <thead>\n",
       "    <tr style=\"text-align: right;\">\n",
       "      <th></th>\n",
       "      <th>0</th>\n",
       "      <th>1</th>\n",
       "      <th>2</th>\n",
       "      <th>3</th>\n",
       "      <th>4</th>\n",
       "      <th>5</th>\n",
       "      <th>6</th>\n",
       "      <th>7</th>\n",
       "      <th>8</th>\n",
       "      <th>9</th>\n",
       "      <th>mean</th>\n",
       "      <th>std</th>\n",
       "      <th>relative_error</th>\n",
       "    </tr>\n",
       "  </thead>\n",
       "  <tbody>\n",
       "    <tr>\n",
       "      <th>Linear Regression</th>\n",
       "      <td>6885.228433</td>\n",
       "      <td>8087.567559</td>\n",
       "      <td>7715.349384</td>\n",
       "      <td>6702.112536</td>\n",
       "      <td>7271.605676</td>\n",
       "      <td>7320.798216</td>\n",
       "      <td>7271.989696</td>\n",
       "      <td>7073.607282</td>\n",
       "      <td>7936.732675</td>\n",
       "      <td>8896.212989</td>\n",
       "      <td>7516.120445</td>\n",
       "      <td>621.434118</td>\n",
       "      <td>0.022325</td>\n",
       "    </tr>\n",
       "    <tr>\n",
       "      <th>Gradient Boosting</th>\n",
       "      <td>8729.405813</td>\n",
       "      <td>7685.164361</td>\n",
       "      <td>7854.240657</td>\n",
       "      <td>8972.042012</td>\n",
       "      <td>8263.902121</td>\n",
       "      <td>8218.960454</td>\n",
       "      <td>7817.244384</td>\n",
       "      <td>8731.898742</td>\n",
       "      <td>8478.324851</td>\n",
       "      <td>9218.923857</td>\n",
       "      <td>8397.010725</td>\n",
       "      <td>492.171113</td>\n",
       "      <td>0.024887</td>\n",
       "    </tr>\n",
       "    <tr>\n",
       "      <th>Extra Trees</th>\n",
       "      <td>10371.243750</td>\n",
       "      <td>11631.514125</td>\n",
       "      <td>10959.457562</td>\n",
       "      <td>9149.885250</td>\n",
       "      <td>10271.947875</td>\n",
       "      <td>10710.109187</td>\n",
       "      <td>12044.600500</td>\n",
       "      <td>10449.736250</td>\n",
       "      <td>11044.939438</td>\n",
       "      <td>13955.794125</td>\n",
       "      <td>11058.922806</td>\n",
       "      <td>1221.916906</td>\n",
       "      <td>0.032930</td>\n",
       "    </tr>\n",
       "    <tr>\n",
       "      <th>Random Forest</th>\n",
       "      <td>13989.930562</td>\n",
       "      <td>15929.236687</td>\n",
       "      <td>16090.191750</td>\n",
       "      <td>13610.482625</td>\n",
       "      <td>13377.478312</td>\n",
       "      <td>14130.301625</td>\n",
       "      <td>14910.692063</td>\n",
       "      <td>14945.538062</td>\n",
       "      <td>14397.458750</td>\n",
       "      <td>17038.822375</td>\n",
       "      <td>14842.013281</td>\n",
       "      <td>1125.750691</td>\n",
       "      <td>0.044057</td>\n",
       "    </tr>\n",
       "    <tr>\n",
       "      <th>AdaBoost</th>\n",
       "      <td>21421.912400</td>\n",
       "      <td>23745.614347</td>\n",
       "      <td>24821.600821</td>\n",
       "      <td>16470.947611</td>\n",
       "      <td>21482.676239</td>\n",
       "      <td>20500.736436</td>\n",
       "      <td>24333.785978</td>\n",
       "      <td>18969.757163</td>\n",
       "      <td>23510.156322</td>\n",
       "      <td>23500.696135</td>\n",
       "      <td>21875.788345</td>\n",
       "      <td>2518.648956</td>\n",
       "      <td>0.065167</td>\n",
       "    </tr>\n",
       "    <tr>\n",
       "      <th>KNN</th>\n",
       "      <td>24093.281250</td>\n",
       "      <td>25858.997500</td>\n",
       "      <td>20058.717500</td>\n",
       "      <td>20584.101250</td>\n",
       "      <td>18060.307500</td>\n",
       "      <td>21944.932500</td>\n",
       "      <td>21400.427500</td>\n",
       "      <td>18569.482500</td>\n",
       "      <td>24039.377500</td>\n",
       "      <td>25138.057500</td>\n",
       "      <td>21974.768250</td>\n",
       "      <td>2582.620396</td>\n",
       "      <td>0.065476</td>\n",
       "    </tr>\n",
       "    <tr>\n",
       "      <th>Decision Tree</th>\n",
       "      <td>22761.762500</td>\n",
       "      <td>20664.881250</td>\n",
       "      <td>25209.531250</td>\n",
       "      <td>24593.412500</td>\n",
       "      <td>22485.156250</td>\n",
       "      <td>26769.812500</td>\n",
       "      <td>21336.250000</td>\n",
       "      <td>24367.368750</td>\n",
       "      <td>24438.187500</td>\n",
       "      <td>25993.531250</td>\n",
       "      <td>23861.989375</td>\n",
       "      <td>1887.967054</td>\n",
       "      <td>0.070853</td>\n",
       "    </tr>\n",
       "    <tr>\n",
       "      <th>Support Vector Regressor</th>\n",
       "      <td>96215.726240</td>\n",
       "      <td>118726.662215</td>\n",
       "      <td>114162.132132</td>\n",
       "      <td>104008.655387</td>\n",
       "      <td>102588.710500</td>\n",
       "      <td>110937.886476</td>\n",
       "      <td>103930.812743</td>\n",
       "      <td>101772.437702</td>\n",
       "      <td>114373.143490</td>\n",
       "      <td>110637.590060</td>\n",
       "      <td>107735.375695</td>\n",
       "      <td>6692.986790</td>\n",
       "      <td>0.319406</td>\n",
       "    </tr>\n",
       "  </tbody>\n",
       "</table>\n",
       "</div>"
      ],
      "text/plain": [
       "                                     0              1              2  \\\n",
       "Linear Regression          6885.228433    8087.567559    7715.349384   \n",
       "Gradient Boosting          8729.405813    7685.164361    7854.240657   \n",
       "Extra Trees               10371.243750   11631.514125   10959.457562   \n",
       "Random Forest             13989.930562   15929.236687   16090.191750   \n",
       "AdaBoost                  21421.912400   23745.614347   24821.600821   \n",
       "KNN                       24093.281250   25858.997500   20058.717500   \n",
       "Decision Tree             22761.762500   20664.881250   25209.531250   \n",
       "Support Vector Regressor  96215.726240  118726.662215  114162.132132   \n",
       "\n",
       "                                      3              4              5  \\\n",
       "Linear Regression           6702.112536    7271.605676    7320.798216   \n",
       "Gradient Boosting           8972.042012    8263.902121    8218.960454   \n",
       "Extra Trees                 9149.885250   10271.947875   10710.109187   \n",
       "Random Forest              13610.482625   13377.478312   14130.301625   \n",
       "AdaBoost                   16470.947611   21482.676239   20500.736436   \n",
       "KNN                        20584.101250   18060.307500   21944.932500   \n",
       "Decision Tree              24593.412500   22485.156250   26769.812500   \n",
       "Support Vector Regressor  104008.655387  102588.710500  110937.886476   \n",
       "\n",
       "                                      6              7              8  \\\n",
       "Linear Regression           7271.989696    7073.607282    7936.732675   \n",
       "Gradient Boosting           7817.244384    8731.898742    8478.324851   \n",
       "Extra Trees                12044.600500   10449.736250   11044.939438   \n",
       "Random Forest              14910.692063   14945.538062   14397.458750   \n",
       "AdaBoost                   24333.785978   18969.757163   23510.156322   \n",
       "KNN                        21400.427500   18569.482500   24039.377500   \n",
       "Decision Tree              21336.250000   24367.368750   24438.187500   \n",
       "Support Vector Regressor  103930.812743  101772.437702  114373.143490   \n",
       "\n",
       "                                      9           mean          std  \\\n",
       "Linear Regression           8896.212989    7516.120445   621.434118   \n",
       "Gradient Boosting           9218.923857    8397.010725   492.171113   \n",
       "Extra Trees                13955.794125   11058.922806  1221.916906   \n",
       "Random Forest              17038.822375   14842.013281  1125.750691   \n",
       "AdaBoost                   23500.696135   21875.788345  2518.648956   \n",
       "KNN                        25138.057500   21974.768250  2582.620396   \n",
       "Decision Tree              25993.531250   23861.989375  1887.967054   \n",
       "Support Vector Regressor  110637.590060  107735.375695  6692.986790   \n",
       "\n",
       "                          relative_error  \n",
       "Linear Regression               0.022325  \n",
       "Gradient Boosting               0.024887  \n",
       "Extra Trees                     0.032930  \n",
       "Random Forest                   0.044057  \n",
       "AdaBoost                        0.065167  \n",
       "KNN                             0.065476  \n",
       "Decision Tree                   0.070853  \n",
       "Support Vector Regressor        0.319406  "
      ]
     },
     "execution_count": 75,
     "metadata": {},
     "output_type": "execute_result"
    }
   ],
   "source": [
    "\n",
    "results = {}\n",
    "for name, model in models.items():\n",
    "  results[name] = -cross_val_score(model, x_train, y_train, cv=k_fold, scoring='neg_mean_absolute_error')\n",
    "  \n",
    "results = pd.DataFrame(results).transpose()\n",
    "\n",
    "results['mean'] = results.mean(axis=1)\n",
    "results['std'] = results.std(axis=1)\n",
    "results['relative_error'] = results.mean(axis=1) / y_train.mean()\n",
    "\n",
    "results = results.sort_values('mean', ascending=True)\n",
    "\n",
    "results"
   ]
  }
 ],
 "metadata": {
  "kernelspec": {
   "display_name": ".venv",
   "language": "python",
   "name": "python3"
  },
  "language_info": {
   "codemirror_mode": {
    "name": "ipython",
    "version": 3
   },
   "file_extension": ".py",
   "mimetype": "text/x-python",
   "name": "python",
   "nbconvert_exporter": "python",
   "pygments_lexer": "ipython3",
   "version": "3.11.9"
  }
 },
 "nbformat": 4,
 "nbformat_minor": 2
}
