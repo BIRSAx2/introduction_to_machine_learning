{
 "cells": [
  {
   "cell_type": "markdown",
   "metadata": {},
   "source": [
    "# Dataset Preparation\n"
   ]
  },
  {
   "cell_type": "markdown",
   "metadata": {
    "vscode": {
     "languageId": "plaintext"
    }
   },
   "source": [
    "### Setup"
   ]
  },
  {
   "cell_type": "code",
   "execution_count": 8,
   "metadata": {},
   "outputs": [],
   "source": [
    "import pandas as pd\n",
    "import numpy as np\n",
    "import matplotlib.pyplot as plt\n",
    "import warnings\n",
    "\n",
    "warnings.filterwarnings(\"ignore\")\n",
    "\n",
    "seed = 1855"
   ]
  },
  {
   "cell_type": "markdown",
   "metadata": {},
   "source": [
    "## Data Collection\n"
   ]
  },
  {
   "cell_type": "code",
   "execution_count": 10,
   "metadata": {},
   "outputs": [
    {
     "data": {
      "text/html": [
       "<div>\n",
       "<style scoped>\n",
       "    .dataframe tbody tr th:only-of-type {\n",
       "        vertical-align: middle;\n",
       "    }\n",
       "\n",
       "    .dataframe tbody tr th {\n",
       "        vertical-align: top;\n",
       "    }\n",
       "\n",
       "    .dataframe thead th {\n",
       "        text-align: right;\n",
       "    }\n",
       "</style>\n",
       "<table border=\"1\" class=\"dataframe\">\n",
       "  <thead>\n",
       "    <tr style=\"text-align: right;\">\n",
       "      <th></th>\n",
       "      <th>gre_score</th>\n",
       "      <th>toefl_score</th>\n",
       "      <th>university_rating</th>\n",
       "      <th>sop</th>\n",
       "      <th>lor</th>\n",
       "      <th>cgpa</th>\n",
       "      <th>research</th>\n",
       "      <th>chance_of_admit</th>\n",
       "    </tr>\n",
       "  </thead>\n",
       "  <tbody>\n",
       "    <tr>\n",
       "      <th>0</th>\n",
       "      <td>337</td>\n",
       "      <td>118</td>\n",
       "      <td>4</td>\n",
       "      <td>4.5</td>\n",
       "      <td>4.5</td>\n",
       "      <td>9.65</td>\n",
       "      <td>1</td>\n",
       "      <td>0.92</td>\n",
       "    </tr>\n",
       "    <tr>\n",
       "      <th>1</th>\n",
       "      <td>324</td>\n",
       "      <td>107</td>\n",
       "      <td>4</td>\n",
       "      <td>4.0</td>\n",
       "      <td>4.5</td>\n",
       "      <td>8.87</td>\n",
       "      <td>1</td>\n",
       "      <td>0.76</td>\n",
       "    </tr>\n",
       "    <tr>\n",
       "      <th>2</th>\n",
       "      <td>316</td>\n",
       "      <td>104</td>\n",
       "      <td>3</td>\n",
       "      <td>3.0</td>\n",
       "      <td>3.5</td>\n",
       "      <td>8.00</td>\n",
       "      <td>1</td>\n",
       "      <td>0.72</td>\n",
       "    </tr>\n",
       "    <tr>\n",
       "      <th>3</th>\n",
       "      <td>322</td>\n",
       "      <td>110</td>\n",
       "      <td>3</td>\n",
       "      <td>3.5</td>\n",
       "      <td>2.5</td>\n",
       "      <td>8.67</td>\n",
       "      <td>1</td>\n",
       "      <td>0.80</td>\n",
       "    </tr>\n",
       "    <tr>\n",
       "      <th>4</th>\n",
       "      <td>314</td>\n",
       "      <td>103</td>\n",
       "      <td>2</td>\n",
       "      <td>2.0</td>\n",
       "      <td>3.0</td>\n",
       "      <td>8.21</td>\n",
       "      <td>0</td>\n",
       "      <td>0.65</td>\n",
       "    </tr>\n",
       "  </tbody>\n",
       "</table>\n",
       "</div>"
      ],
      "text/plain": [
       "   gre_score  toefl_score  university_rating  sop  lor  cgpa  research  \\\n",
       "0        337          118                  4  4.5  4.5  9.65         1   \n",
       "1        324          107                  4  4.0  4.5  8.87         1   \n",
       "2        316          104                  3  3.0  3.5  8.00         1   \n",
       "3        322          110                  3  3.5  2.5  8.67         1   \n",
       "4        314          103                  2  2.0  3.0  8.21         0   \n",
       "\n",
       "   chance_of_admit  \n",
       "0             0.92  \n",
       "1             0.76  \n",
       "2             0.72  \n",
       "3             0.80  \n",
       "4             0.65  "
      ]
     },
     "execution_count": 10,
     "metadata": {},
     "output_type": "execute_result"
    }
   ],
   "source": [
    "path = \"./regression-problems/graduate-admissions/dataset/admission-predict.csv\"\n",
    "\n",
    "df = pd.read_csv(path)\n",
    "\n",
    "# converting column names to snake case and removing Serial No. as it is not needed\n",
    "df.columns = df.columns.str.lower().str.strip().str.replace(\" \", \"_\")\n",
    "\n",
    "df.drop(\"serial_no.\", axis=1, inplace=True)\n",
    "df.head()"
   ]
  },
  {
   "cell_type": "markdown",
   "metadata": {},
   "source": [
    "## Handling missing values\n"
   ]
  },
  {
   "cell_type": "code",
   "execution_count": 11,
   "metadata": {},
   "outputs": [
    {
     "data": {
      "text/plain": [
       "gre_score            0\n",
       "toefl_score          0\n",
       "university_rating    0\n",
       "sop                  0\n",
       "lor                  0\n",
       "cgpa                 0\n",
       "research             0\n",
       "chance_of_admit      0\n",
       "dtype: int64"
      ]
     },
     "execution_count": 11,
     "metadata": {},
     "output_type": "execute_result"
    }
   ],
   "source": [
    "# checking for missing values\n",
    "\n",
    "df.isnull().sum()"
   ]
  },
  {
   "cell_type": "markdown",
   "metadata": {},
   "source": [
    "## Encoding categorical features with One-Hot Encoding\n"
   ]
  },
  {
   "cell_type": "markdown",
   "metadata": {},
   "source": [
    "## Encoding binary class label\n"
   ]
  },
  {
   "cell_type": "markdown",
   "metadata": {},
   "source": [
    "# Model Building\n"
   ]
  },
  {
   "cell_type": "code",
   "execution_count": 12,
   "metadata": {},
   "outputs": [],
   "source": [
    "from sklearn.model_selection import *\n",
    "from sklearn.metrics import *\n",
    "from sklearn.ensemble import *\n",
    "from sklearn.tree import *\n",
    "from sklearn.neighbors import *\n",
    "from sklearn.linear_model import *\n",
    "from sklearn.svm import *"
   ]
  },
  {
   "cell_type": "markdown",
   "metadata": {},
   "source": [
    "## Splitting the dataset into training and testing sets\n"
   ]
  },
  {
   "cell_type": "code",
   "execution_count": 26,
   "metadata": {},
   "outputs": [
    {
     "data": {
      "text/html": [
       "<div>\n",
       "<style scoped>\n",
       "    .dataframe tbody tr th:only-of-type {\n",
       "        vertical-align: middle;\n",
       "    }\n",
       "\n",
       "    .dataframe tbody tr th {\n",
       "        vertical-align: top;\n",
       "    }\n",
       "\n",
       "    .dataframe thead th {\n",
       "        text-align: right;\n",
       "    }\n",
       "</style>\n",
       "<table border=\"1\" class=\"dataframe\">\n",
       "  <thead>\n",
       "    <tr style=\"text-align: right;\">\n",
       "      <th></th>\n",
       "      <th>gre_score</th>\n",
       "      <th>toefl_score</th>\n",
       "      <th>university_rating</th>\n",
       "      <th>sop</th>\n",
       "      <th>lor</th>\n",
       "      <th>cgpa</th>\n",
       "      <th>research</th>\n",
       "    </tr>\n",
       "  </thead>\n",
       "  <tbody>\n",
       "    <tr>\n",
       "      <th>83</th>\n",
       "      <td>322</td>\n",
       "      <td>115</td>\n",
       "      <td>5</td>\n",
       "      <td>4.0</td>\n",
       "      <td>4.5</td>\n",
       "      <td>9.36</td>\n",
       "      <td>1</td>\n",
       "    </tr>\n",
       "    <tr>\n",
       "      <th>139</th>\n",
       "      <td>318</td>\n",
       "      <td>109</td>\n",
       "      <td>1</td>\n",
       "      <td>3.5</td>\n",
       "      <td>3.5</td>\n",
       "      <td>9.12</td>\n",
       "      <td>0</td>\n",
       "    </tr>\n",
       "    <tr>\n",
       "      <th>21</th>\n",
       "      <td>325</td>\n",
       "      <td>114</td>\n",
       "      <td>4</td>\n",
       "      <td>3.0</td>\n",
       "      <td>2.0</td>\n",
       "      <td>8.40</td>\n",
       "      <td>0</td>\n",
       "    </tr>\n",
       "    <tr>\n",
       "      <th>296</th>\n",
       "      <td>310</td>\n",
       "      <td>107</td>\n",
       "      <td>3</td>\n",
       "      <td>3.5</td>\n",
       "      <td>3.5</td>\n",
       "      <td>8.67</td>\n",
       "      <td>0</td>\n",
       "    </tr>\n",
       "    <tr>\n",
       "      <th>286</th>\n",
       "      <td>336</td>\n",
       "      <td>118</td>\n",
       "      <td>5</td>\n",
       "      <td>4.5</td>\n",
       "      <td>4.0</td>\n",
       "      <td>9.19</td>\n",
       "      <td>1</td>\n",
       "    </tr>\n",
       "    <tr>\n",
       "      <th>...</th>\n",
       "      <td>...</td>\n",
       "      <td>...</td>\n",
       "      <td>...</td>\n",
       "      <td>...</td>\n",
       "      <td>...</td>\n",
       "      <td>...</td>\n",
       "      <td>...</td>\n",
       "    </tr>\n",
       "    <tr>\n",
       "      <th>72</th>\n",
       "      <td>321</td>\n",
       "      <td>111</td>\n",
       "      <td>5</td>\n",
       "      <td>5.0</td>\n",
       "      <td>5.0</td>\n",
       "      <td>9.45</td>\n",
       "      <td>1</td>\n",
       "    </tr>\n",
       "    <tr>\n",
       "      <th>149</th>\n",
       "      <td>311</td>\n",
       "      <td>106</td>\n",
       "      <td>2</td>\n",
       "      <td>3.5</td>\n",
       "      <td>3.0</td>\n",
       "      <td>8.26</td>\n",
       "      <td>1</td>\n",
       "    </tr>\n",
       "    <tr>\n",
       "      <th>91</th>\n",
       "      <td>299</td>\n",
       "      <td>97</td>\n",
       "      <td>3</td>\n",
       "      <td>5.0</td>\n",
       "      <td>3.5</td>\n",
       "      <td>7.66</td>\n",
       "      <td>0</td>\n",
       "    </tr>\n",
       "    <tr>\n",
       "      <th>64</th>\n",
       "      <td>325</td>\n",
       "      <td>111</td>\n",
       "      <td>3</td>\n",
       "      <td>3.0</td>\n",
       "      <td>3.5</td>\n",
       "      <td>8.70</td>\n",
       "      <td>0</td>\n",
       "    </tr>\n",
       "    <tr>\n",
       "      <th>278</th>\n",
       "      <td>308</td>\n",
       "      <td>103</td>\n",
       "      <td>2</td>\n",
       "      <td>3.0</td>\n",
       "      <td>3.5</td>\n",
       "      <td>8.49</td>\n",
       "      <td>0</td>\n",
       "    </tr>\n",
       "  </tbody>\n",
       "</table>\n",
       "<p>320 rows × 7 columns</p>\n",
       "</div>"
      ],
      "text/plain": [
       "     gre_score  toefl_score  university_rating  sop  lor  cgpa  research\n",
       "83         322          115                  5  4.0  4.5  9.36         1\n",
       "139        318          109                  1  3.5  3.5  9.12         0\n",
       "21         325          114                  4  3.0  2.0  8.40         0\n",
       "296        310          107                  3  3.5  3.5  8.67         0\n",
       "286        336          118                  5  4.5  4.0  9.19         1\n",
       "..         ...          ...                ...  ...  ...   ...       ...\n",
       "72         321          111                  5  5.0  5.0  9.45         1\n",
       "149        311          106                  2  3.5  3.0  8.26         1\n",
       "91         299           97                  3  5.0  3.5  7.66         0\n",
       "64         325          111                  3  3.0  3.5  8.70         0\n",
       "278        308          103                  2  3.0  3.5  8.49         0\n",
       "\n",
       "[320 rows x 7 columns]"
      ]
     },
     "execution_count": 26,
     "metadata": {},
     "output_type": "execute_result"
    }
   ],
   "source": [
    "x = df.drop(\"chance_of_admit\", axis=1)\n",
    "y = df[\"chance_of_admit\"]\n",
    "\n",
    "x_train, x_test, y_train, y_test = train_test_split(x, y, test_size=0.2, random_state=seed)\n",
    "\n",
    "x_train"
   ]
  },
  {
   "cell_type": "markdown",
   "metadata": {},
   "source": [
    "## Evaluation function\n"
   ]
  },
  {
   "cell_type": "code",
   "execution_count": 16,
   "metadata": {},
   "outputs": [],
   "source": [
    "def evalute(expected, predicted):\n",
    "    print(\"Mean Absolute Error: \", mean_absolute_error(expected, predicted))\n",
    "    print(\"Mean Squared Error: \", mean_squared_error(expected, predicted))\n",
    "    print(\"Root Mean Squared Error: \", np.sqrt(mean_squared_error(expected, predicted)))\n",
    "    print(\"R2 Score: \", r2_score(expected, predicted))"
   ]
  },
  {
   "cell_type": "markdown",
   "metadata": {},
   "source": [
    "## Model Building\n"
   ]
  },
  {
   "cell_type": "code",
   "execution_count": 17,
   "metadata": {},
   "outputs": [],
   "source": [
    "model = RandomForestRegressor(random_state=seed)"
   ]
  },
  {
   "cell_type": "markdown",
   "metadata": {},
   "source": [
    "## Model Evaluation\n"
   ]
  },
  {
   "cell_type": "markdown",
   "metadata": {
    "vscode": {
     "languageId": "plaintext"
    }
   },
   "source": [
    "### Cross Validation"
   ]
  },
  {
   "cell_type": "code",
   "execution_count": 18,
   "metadata": {},
   "outputs": [
    {
     "name": "stdout",
     "output_type": "stream",
     "text": [
      "Mean absolute error: 0.05 += 0.01\n",
      "Mean squared error: 0.01 += 0.00\n",
      "Root mean squared error: 0.07 += 0.01\n",
      "Relative error: 0.104\n"
     ]
    }
   ],
   "source": [
    "scoring = ['neg_mean_absolute_error', 'neg_mean_squared_error', 'neg_root_mean_squared_error']\n",
    "k_fold = 10\n",
    "cross_validation_results = cross_validate(model, x_train, y_train, cv=k_fold, scoring=scoring)\n",
    "\n",
    "for metric, scores in cross_validation_results.items():\n",
    "  if 'time' not in metric:\n",
    "    name  = metric.replace('test_','' ).replace(\"_\", ' ').replace('neg ', '').capitalize()\n",
    "    print(f'{name}: {-np.mean(scores):.2f} += {np.std(scores):.2f}')\n",
    "  \n",
    "# relative_error = rmse/mean\n",
    "relative_error = -cross_validation_results['test_neg_root_mean_squared_error'] / y_train.mean()\n",
    "print(f\"Relative error: {relative_error.mean():.3f}\")"
   ]
  },
  {
   "cell_type": "markdown",
   "metadata": {
    "vscode": {
     "languageId": "plaintext"
    }
   },
   "source": [
    "### Cross Validation with KFold"
   ]
  },
  {
   "cell_type": "code",
   "execution_count": 19,
   "metadata": {},
   "outputs": [
    {
     "name": "stdout",
     "output_type": "stream",
     "text": [
      "Mean absolute error: 0.05 += 0.01\n",
      "Mean squared error: 0.01 += 0.00\n",
      "Root mean squared error: 0.07 += 0.02\n",
      "Relative error: 0.102\n"
     ]
    }
   ],
   "source": [
    "scoring = ['neg_mean_absolute_error', 'neg_mean_squared_error', 'neg_root_mean_squared_error']\n",
    "k_fold = KFold(n_splits=10, shuffle=True, random_state=seed)\n",
    "cross_validation_results = cross_validate(model, x_train, y_train, cv=k_fold, scoring=scoring)\n",
    "\n",
    "for metric, scores in cross_validation_results.items():\n",
    "  if 'time' not in metric:\n",
    "    name  = metric.replace('test_','' ).replace(\"_\", ' ').replace('neg ', '').capitalize()\n",
    "    print(f'{name}: {-np.mean(scores):.2f} += {np.std(scores):.2f}')\n",
    "  \n",
    "# relative_error = rmse/mean\n",
    "relative_error = -cross_validation_results['test_neg_root_mean_squared_error'] / y_train.mean()\n",
    "print(f\"Relative error: {relative_error.mean():.3f}\")"
   ]
  },
  {
   "cell_type": "markdown",
   "metadata": {
    "vscode": {
     "languageId": "plaintext"
    }
   },
   "source": [
    "### Cross Validation with StratifiedKFold"
   ]
  },
  {
   "cell_type": "code",
   "execution_count": null,
   "metadata": {},
   "outputs": [],
   "source": [
    "# Stratified KFold does not work when the target is continuous"
   ]
  },
  {
   "cell_type": "markdown",
   "metadata": {},
   "source": [
    "## Model Building with Hyperparameter Tuning\n"
   ]
  },
  {
   "cell_type": "code",
   "execution_count": 21,
   "metadata": {},
   "outputs": [
    {
     "name": "stdout",
     "output_type": "stream",
     "text": [
      "Best parameters:  {'max_depth': 5, 'n_estimators': 200}\n"
     ]
    }
   ],
   "source": [
    "model = RandomForestRegressor(random_state=seed)\n",
    "k_fold = KFold(n_splits=10, shuffle=True, random_state=seed)\n",
    "params = {\n",
    "    \"n_estimators\": [50, 100, 200],\n",
    "    \"max_depth\": [5, 10,  20],\n",
    "}\n",
    "\n",
    "grid_search = GridSearchCV(model, param_grid=params, cv=k_fold, scoring='neg_root_mean_squared_error')\n",
    "\n",
    "grid_search.fit(x_train, y_train)\n",
    "\n",
    "print(\"Best parameters: \", grid_search.best_params_)"
   ]
  },
  {
   "cell_type": "markdown",
   "metadata": {},
   "source": [
    "\n",
    "## Model Evaluation\n"
   ]
  },
  {
   "cell_type": "code",
   "execution_count": 30,
   "metadata": {},
   "outputs": [
    {
     "name": "stdout",
     "output_type": "stream",
     "text": [
      "Mean Absolute Error:  0.03949052684194655\n",
      "Mean Squared Error:  0.003193652899376864\n",
      "Root Mean Squared Error:  0.056512413675022445\n",
      "R2 Score:  0.8163576197641513\n"
     ]
    },
    {
     "data": {
      "image/png": "[encoded data removed]",
      "text/plain": [
       "<Figure size 640x480 with 1 Axes>"
      ]
     },
     "metadata": {},
     "output_type": "display_data"
    }
   ],
   "source": [
    "best_model = grid_search.best_estimator_\n",
    "best_model.fit(x_train, y_train)\n",
    "y_pred = best_model.predict(x_test)\n",
    "\n",
    "evalute(y_test, y_pred)\n",
    "\n",
    "\n",
    "# plot the expected vs predicted values\n",
    "\n",
    "plt.scatter(y_test, y_pred)\n",
    "plt.xlabel(\"Expected\")\n",
    "plt.ylabel(\"Predicted\")\n",
    "plt.title(\"Expected vs Predicted\")\n",
    "x = np.linspace(y_test.min(), 1, 100)\n",
    "y = x\n",
    "plt.plot(x, y, '-r')\n",
    "\n",
    "plt.show()"
   ]
  },
  {
   "cell_type": "markdown",
   "metadata": {},
   "source": [
    "# Comparing Different Models Performance"
   ]
  },
  {
   "cell_type": "markdown",
   "metadata": {},
   "source": [
    "## Model Building"
   ]
  },
  {
   "cell_type": "code",
   "execution_count": 24,
   "metadata": {},
   "outputs": [],
   "source": [
    "models = {\n",
    "    \"Random Forest\": RandomForestRegressor(random_state=seed),\n",
    "    \"Decision Tree\": DecisionTreeRegressor(random_state=seed),\n",
    "    \"KNN\": KNeighborsRegressor(),\n",
    "    \"Linear Regression\": LinearRegression(),\n",
    "    \"SVM\": SVR(),\n",
    "}"
   ]
  },
  {
   "cell_type": "markdown",
   "metadata": {
    "vscode": {
     "languageId": "plaintext"
    }
   },
   "source": [
    "## Model Comparison"
   ]
  },
  {
   "cell_type": "code",
   "execution_count": 25,
   "metadata": {},
   "outputs": [
    {
     "data": {
      "text/html": [
       "<div>\n",
       "<style scoped>\n",
       "    .dataframe tbody tr th:only-of-type {\n",
       "        vertical-align: middle;\n",
       "    }\n",
       "\n",
       "    .dataframe tbody tr th {\n",
       "        vertical-align: top;\n",
       "    }\n",
       "\n",
       "    .dataframe thead th {\n",
       "        text-align: right;\n",
       "    }\n",
       "</style>\n",
       "<table border=\"1\" class=\"dataframe\">\n",
       "  <thead>\n",
       "    <tr style=\"text-align: right;\">\n",
       "      <th></th>\n",
       "      <th>0</th>\n",
       "      <th>1</th>\n",
       "      <th>2</th>\n",
       "      <th>3</th>\n",
       "      <th>4</th>\n",
       "      <th>5</th>\n",
       "      <th>6</th>\n",
       "      <th>7</th>\n",
       "      <th>8</th>\n",
       "      <th>9</th>\n",
       "      <th>mean</th>\n",
       "      <th>std</th>\n",
       "      <th>relative_error</th>\n",
       "    </tr>\n",
       "  </thead>\n",
       "  <tbody>\n",
       "    <tr>\n",
       "      <th>Linear Regression</th>\n",
       "      <td>0.065329</td>\n",
       "      <td>0.056888</td>\n",
       "      <td>0.035837</td>\n",
       "      <td>0.059272</td>\n",
       "      <td>0.033323</td>\n",
       "      <td>0.052533</td>\n",
       "      <td>0.046851</td>\n",
       "      <td>0.047245</td>\n",
       "      <td>0.042454</td>\n",
       "      <td>0.049175</td>\n",
       "      <td>0.048891</td>\n",
       "      <td>0.009573</td>\n",
       "      <td>0.063588</td>\n",
       "    </tr>\n",
       "    <tr>\n",
       "      <th>Random Forest</th>\n",
       "      <td>0.072994</td>\n",
       "      <td>0.063988</td>\n",
       "      <td>0.034094</td>\n",
       "      <td>0.067716</td>\n",
       "      <td>0.033147</td>\n",
       "      <td>0.056197</td>\n",
       "      <td>0.059294</td>\n",
       "      <td>0.054572</td>\n",
       "      <td>0.053550</td>\n",
       "      <td>0.047253</td>\n",
       "      <td>0.054280</td>\n",
       "      <td>0.012481</td>\n",
       "      <td>0.070813</td>\n",
       "    </tr>\n",
       "    <tr>\n",
       "      <th>KNN</th>\n",
       "      <td>0.077500</td>\n",
       "      <td>0.064125</td>\n",
       "      <td>0.050438</td>\n",
       "      <td>0.067375</td>\n",
       "      <td>0.055250</td>\n",
       "      <td>0.070875</td>\n",
       "      <td>0.064250</td>\n",
       "      <td>0.066562</td>\n",
       "      <td>0.049750</td>\n",
       "      <td>0.057062</td>\n",
       "      <td>0.062319</td>\n",
       "      <td>0.008550</td>\n",
       "      <td>0.080628</td>\n",
       "    </tr>\n",
       "    <tr>\n",
       "      <th>Decision Tree</th>\n",
       "      <td>0.071563</td>\n",
       "      <td>0.080000</td>\n",
       "      <td>0.039688</td>\n",
       "      <td>0.082500</td>\n",
       "      <td>0.049062</td>\n",
       "      <td>0.065000</td>\n",
       "      <td>0.083438</td>\n",
       "      <td>0.076563</td>\n",
       "      <td>0.068437</td>\n",
       "      <td>0.075000</td>\n",
       "      <td>0.069125</td>\n",
       "      <td>0.013727</td>\n",
       "      <td>0.089927</td>\n",
       "    </tr>\n",
       "    <tr>\n",
       "      <th>SVM</th>\n",
       "      <td>0.086092</td>\n",
       "      <td>0.075576</td>\n",
       "      <td>0.069023</td>\n",
       "      <td>0.078784</td>\n",
       "      <td>0.058921</td>\n",
       "      <td>0.074930</td>\n",
       "      <td>0.060559</td>\n",
       "      <td>0.074128</td>\n",
       "      <td>0.060633</td>\n",
       "      <td>0.063928</td>\n",
       "      <td>0.070257</td>\n",
       "      <td>0.008633</td>\n",
       "      <td>0.090782</td>\n",
       "    </tr>\n",
       "  </tbody>\n",
       "</table>\n",
       "</div>"
      ],
      "text/plain": [
       "                          0         1         2         3         4         5  \\\n",
       "Linear Regression  0.065329  0.056888  0.035837  0.059272  0.033323  0.052533   \n",
       "Random Forest      0.072994  0.063988  0.034094  0.067716  0.033147  0.056197   \n",
       "KNN                0.077500  0.064125  0.050438  0.067375  0.055250  0.070875   \n",
       "Decision Tree      0.071563  0.080000  0.039688  0.082500  0.049062  0.065000   \n",
       "SVM                0.086092  0.075576  0.069023  0.078784  0.058921  0.074930   \n",
       "\n",
       "                          6         7         8         9      mean       std  \\\n",
       "Linear Regression  0.046851  0.047245  0.042454  0.049175  0.048891  0.009573   \n",
       "Random Forest      0.059294  0.054572  0.053550  0.047253  0.054280  0.012481   \n",
       "KNN                0.064250  0.066562  0.049750  0.057062  0.062319  0.008550   \n",
       "Decision Tree      0.083438  0.076563  0.068437  0.075000  0.069125  0.013727   \n",
       "SVM                0.060559  0.074128  0.060633  0.063928  0.070257  0.008633   \n",
       "\n",
       "                   relative_error  \n",
       "Linear Regression        0.063588  \n",
       "Random Forest            0.070813  \n",
       "KNN                      0.080628  \n",
       "Decision Tree            0.089927  \n",
       "SVM                      0.090782  "
      ]
     },
     "execution_count": 25,
     "metadata": {},
     "output_type": "execute_result"
    }
   ],
   "source": [
    "\n",
    "results = {}\n",
    "for name, model in models.items():\n",
    "  results[name] = -cross_val_score(model, x_train, y_train, cv=k_fold, scoring='neg_mean_absolute_error')\n",
    "  \n",
    "results = pd.DataFrame(results).transpose()\n",
    "\n",
    "results['mean'] = results.mean(axis=1)\n",
    "results['std'] = results.std(axis=1)\n",
    "results['relative_error'] = results.mean(axis=1) / y_train.mean()\n",
    "\n",
    "results = results.sort_values('mean', ascending=True)\n",
    "\n",
    "results"
   ]
  }
 ],
 "metadata": {
  "kernelspec": {
   "display_name": ".venv",
   "language": "python",
   "name": "python3"
  },
  "language_info": {
   "codemirror_mode": {
    "name": "ipython",
    "version": 3
   },
   "file_extension": ".py",
   "mimetype": "text/x-python",
   "name": "python",
   "nbconvert_exporter": "python",
   "pygments_lexer": "ipython3",
   "version": "3.11.9"
  }
 },
 "nbformat": 4,
 "nbformat_minor": 2
}
