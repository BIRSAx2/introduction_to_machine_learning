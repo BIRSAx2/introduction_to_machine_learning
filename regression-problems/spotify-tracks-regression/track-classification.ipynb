{
 "cells": [
  {
   "cell_type": "markdown",
   "metadata": {},
   "source": [
    "# Dataset Preparation\n"
   ]
  },
  {
   "cell_type": "markdown",
   "metadata": {
    "vscode": {
     "languageId": "plaintext"
    }
   },
   "source": [
    "### Setup"
   ]
  },
  {
   "cell_type": "code",
   "execution_count": 109,
   "metadata": {},
   "outputs": [],
   "source": [
    "import pandas as pd\n",
    "import numpy as np\n",
    "import seaborn as sns\n",
    "import warnings \n",
    "warnings.filterwarnings('ignore')\n",
    "seed = 69\n",
    "dataset_url =\"hf://datasets/maharshipandya/spotify-tracks-dataset/dataset.csv\""
   ]
  },
  {
   "cell_type": "markdown",
   "metadata": {},
   "source": [
    "## Data Collection\n"
   ]
  },
  {
   "cell_type": "code",
   "execution_count": 172,
   "metadata": {},
   "outputs": [],
   "source": [
    "df = pd.read_csv(dataset_url)"
   ]
  },
  {
   "cell_type": "markdown",
   "metadata": {},
   "source": [
    "### Clean up"
   ]
  },
  {
   "cell_type": "code",
   "execution_count": 173,
   "metadata": {},
   "outputs": [],
   "source": [
    "# only keeping the top 1000 most popular songs\n",
    "df = df.sort_values(by='popularity', ascending=False).head(10000)\n",
    "\n",
    "df.head()\n",
    "\n",
    "# # removing uncessary columns\n",
    "df.drop(columns=['Unnamed: 0', 'track_id'], inplace=True)\n",
    "\n",
    "# dropping 'artsts', 'album_name' and 'track_name' columns as with one hot encoding, it will create way too many columns\n",
    "\n",
    "df.drop(columns=['artists', 'album_name', 'track_name'], inplace=True)"
   ]
  },
  {
   "cell_type": "markdown",
   "metadata": {},
   "source": [
    "## Handling missing values\n"
   ]
  },
  {
   "cell_type": "code",
   "execution_count": 112,
   "metadata": {},
   "outputs": [
    {
     "data": {
      "text/html": [
       "<div>\n",
       "<style scoped>\n",
       "    .dataframe tbody tr th:only-of-type {\n",
       "        vertical-align: middle;\n",
       "    }\n",
       "\n",
       "    .dataframe tbody tr th {\n",
       "        vertical-align: top;\n",
       "    }\n",
       "\n",
       "    .dataframe thead th {\n",
       "        text-align: right;\n",
       "    }\n",
       "</style>\n",
       "<table border=\"1\" class=\"dataframe\">\n",
       "  <thead>\n",
       "    <tr style=\"text-align: right;\">\n",
       "      <th></th>\n",
       "      <th>popularity</th>\n",
       "      <th>duration_ms</th>\n",
       "      <th>explicit</th>\n",
       "      <th>danceability</th>\n",
       "      <th>energy</th>\n",
       "      <th>key</th>\n",
       "      <th>loudness</th>\n",
       "      <th>mode</th>\n",
       "      <th>speechiness</th>\n",
       "      <th>acousticness</th>\n",
       "      <th>instrumentalness</th>\n",
       "      <th>liveness</th>\n",
       "      <th>valence</th>\n",
       "      <th>tempo</th>\n",
       "      <th>time_signature</th>\n",
       "      <th>track_genre</th>\n",
       "    </tr>\n",
       "  </thead>\n",
       "  <tbody>\n",
       "    <tr>\n",
       "      <th>20001</th>\n",
       "      <td>100</td>\n",
       "      <td>156943</td>\n",
       "      <td>False</td>\n",
       "      <td>0.714</td>\n",
       "      <td>0.472</td>\n",
       "      <td>2</td>\n",
       "      <td>-7.375</td>\n",
       "      <td>1</td>\n",
       "      <td>0.0864</td>\n",
       "      <td>0.01300</td>\n",
       "      <td>0.000005</td>\n",
       "      <td>0.266</td>\n",
       "      <td>0.238</td>\n",
       "      <td>131.121</td>\n",
       "      <td>4</td>\n",
       "      <td>dance</td>\n",
       "    </tr>\n",
       "    <tr>\n",
       "      <th>81051</th>\n",
       "      <td>100</td>\n",
       "      <td>156943</td>\n",
       "      <td>False</td>\n",
       "      <td>0.714</td>\n",
       "      <td>0.472</td>\n",
       "      <td>2</td>\n",
       "      <td>-7.375</td>\n",
       "      <td>1</td>\n",
       "      <td>0.0864</td>\n",
       "      <td>0.01300</td>\n",
       "      <td>0.000005</td>\n",
       "      <td>0.266</td>\n",
       "      <td>0.238</td>\n",
       "      <td>131.121</td>\n",
       "      <td>4</td>\n",
       "      <td>pop</td>\n",
       "    </tr>\n",
       "    <tr>\n",
       "      <th>51664</th>\n",
       "      <td>99</td>\n",
       "      <td>198937</td>\n",
       "      <td>False</td>\n",
       "      <td>0.621</td>\n",
       "      <td>0.782</td>\n",
       "      <td>2</td>\n",
       "      <td>-5.548</td>\n",
       "      <td>1</td>\n",
       "      <td>0.0440</td>\n",
       "      <td>0.01250</td>\n",
       "      <td>0.033000</td>\n",
       "      <td>0.230</td>\n",
       "      <td>0.550</td>\n",
       "      <td>128.033</td>\n",
       "      <td>4</td>\n",
       "      <td>hip-hop</td>\n",
       "    </tr>\n",
       "    <tr>\n",
       "      <th>81210</th>\n",
       "      <td>98</td>\n",
       "      <td>175238</td>\n",
       "      <td>True</td>\n",
       "      <td>0.561</td>\n",
       "      <td>0.965</td>\n",
       "      <td>7</td>\n",
       "      <td>-3.673</td>\n",
       "      <td>0</td>\n",
       "      <td>0.0343</td>\n",
       "      <td>0.00383</td>\n",
       "      <td>0.000007</td>\n",
       "      <td>0.371</td>\n",
       "      <td>0.304</td>\n",
       "      <td>128.040</td>\n",
       "      <td>4</td>\n",
       "      <td>pop</td>\n",
       "    </tr>\n",
       "    <tr>\n",
       "      <th>89411</th>\n",
       "      <td>98</td>\n",
       "      <td>162637</td>\n",
       "      <td>False</td>\n",
       "      <td>0.835</td>\n",
       "      <td>0.679</td>\n",
       "      <td>7</td>\n",
       "      <td>-5.329</td>\n",
       "      <td>0</td>\n",
       "      <td>0.0364</td>\n",
       "      <td>0.58300</td>\n",
       "      <td>0.000002</td>\n",
       "      <td>0.218</td>\n",
       "      <td>0.850</td>\n",
       "      <td>124.980</td>\n",
       "      <td>4</td>\n",
       "      <td>reggaeton</td>\n",
       "    </tr>\n",
       "  </tbody>\n",
       "</table>\n",
       "</div>"
      ],
      "text/plain": [
       "       popularity  duration_ms  explicit  danceability  energy  key  loudness  \\\n",
       "20001         100       156943     False         0.714   0.472    2    -7.375   \n",
       "81051         100       156943     False         0.714   0.472    2    -7.375   \n",
       "51664          99       198937     False         0.621   0.782    2    -5.548   \n",
       "81210          98       175238      True         0.561   0.965    7    -3.673   \n",
       "89411          98       162637     False         0.835   0.679    7    -5.329   \n",
       "\n",
       "       mode  speechiness  acousticness  instrumentalness  liveness  valence  \\\n",
       "20001     1       0.0864       0.01300          0.000005     0.266    0.238   \n",
       "81051     1       0.0864       0.01300          0.000005     0.266    0.238   \n",
       "51664     1       0.0440       0.01250          0.033000     0.230    0.550   \n",
       "81210     0       0.0343       0.00383          0.000007     0.371    0.304   \n",
       "89411     0       0.0364       0.58300          0.000002     0.218    0.850   \n",
       "\n",
       "         tempo  time_signature track_genre  \n",
       "20001  131.121               4       dance  \n",
       "81051  131.121               4         pop  \n",
       "51664  128.033               4     hip-hop  \n",
       "81210  128.040               4         pop  \n",
       "89411  124.980               4   reggaeton  "
      ]
     },
     "execution_count": 112,
     "metadata": {},
     "output_type": "execute_result"
    }
   ],
   "source": [
    "# checking for missing values\n",
    "\n",
    "df.isnull().sum()\n",
    "\n",
    "# dropping the rows with missing values\n",
    "\n",
    "df.dropna(inplace=True)\n",
    "\n",
    "df.head()"
   ]
  },
  {
   "cell_type": "markdown",
   "metadata": {},
   "source": [
    "## Encoding categorical features with One-Hot Encoding\n"
   ]
  },
  {
   "cell_type": "code",
   "execution_count": 113,
   "metadata": {},
   "outputs": [
    {
     "data": {
      "text/html": [
       "<div>\n",
       "<style scoped>\n",
       "    .dataframe tbody tr th:only-of-type {\n",
       "        vertical-align: middle;\n",
       "    }\n",
       "\n",
       "    .dataframe tbody tr th {\n",
       "        vertical-align: top;\n",
       "    }\n",
       "\n",
       "    .dataframe thead th {\n",
       "        text-align: right;\n",
       "    }\n",
       "</style>\n",
       "<table border=\"1\" class=\"dataframe\">\n",
       "  <thead>\n",
       "    <tr style=\"text-align: right;\">\n",
       "      <th></th>\n",
       "      <th>popularity</th>\n",
       "      <th>duration_ms</th>\n",
       "      <th>explicit</th>\n",
       "      <th>danceability</th>\n",
       "      <th>energy</th>\n",
       "      <th>key</th>\n",
       "      <th>loudness</th>\n",
       "      <th>mode</th>\n",
       "      <th>speechiness</th>\n",
       "      <th>acousticness</th>\n",
       "      <th>instrumentalness</th>\n",
       "      <th>liveness</th>\n",
       "      <th>valence</th>\n",
       "      <th>tempo</th>\n",
       "      <th>time_signature</th>\n",
       "      <th>track_genre</th>\n",
       "    </tr>\n",
       "  </thead>\n",
       "  <tbody>\n",
       "    <tr>\n",
       "      <th>20001</th>\n",
       "      <td>100</td>\n",
       "      <td>156943</td>\n",
       "      <td>False</td>\n",
       "      <td>0.714</td>\n",
       "      <td>0.472</td>\n",
       "      <td>2</td>\n",
       "      <td>-7.375</td>\n",
       "      <td>1</td>\n",
       "      <td>0.0864</td>\n",
       "      <td>0.01300</td>\n",
       "      <td>0.000005</td>\n",
       "      <td>0.266</td>\n",
       "      <td>0.238</td>\n",
       "      <td>131.121</td>\n",
       "      <td>4</td>\n",
       "      <td>dance</td>\n",
       "    </tr>\n",
       "    <tr>\n",
       "      <th>81051</th>\n",
       "      <td>100</td>\n",
       "      <td>156943</td>\n",
       "      <td>False</td>\n",
       "      <td>0.714</td>\n",
       "      <td>0.472</td>\n",
       "      <td>2</td>\n",
       "      <td>-7.375</td>\n",
       "      <td>1</td>\n",
       "      <td>0.0864</td>\n",
       "      <td>0.01300</td>\n",
       "      <td>0.000005</td>\n",
       "      <td>0.266</td>\n",
       "      <td>0.238</td>\n",
       "      <td>131.121</td>\n",
       "      <td>4</td>\n",
       "      <td>pop</td>\n",
       "    </tr>\n",
       "    <tr>\n",
       "      <th>51664</th>\n",
       "      <td>99</td>\n",
       "      <td>198937</td>\n",
       "      <td>False</td>\n",
       "      <td>0.621</td>\n",
       "      <td>0.782</td>\n",
       "      <td>2</td>\n",
       "      <td>-5.548</td>\n",
       "      <td>1</td>\n",
       "      <td>0.0440</td>\n",
       "      <td>0.01250</td>\n",
       "      <td>0.033000</td>\n",
       "      <td>0.230</td>\n",
       "      <td>0.550</td>\n",
       "      <td>128.033</td>\n",
       "      <td>4</td>\n",
       "      <td>hip-hop</td>\n",
       "    </tr>\n",
       "    <tr>\n",
       "      <th>81210</th>\n",
       "      <td>98</td>\n",
       "      <td>175238</td>\n",
       "      <td>True</td>\n",
       "      <td>0.561</td>\n",
       "      <td>0.965</td>\n",
       "      <td>7</td>\n",
       "      <td>-3.673</td>\n",
       "      <td>0</td>\n",
       "      <td>0.0343</td>\n",
       "      <td>0.00383</td>\n",
       "      <td>0.000007</td>\n",
       "      <td>0.371</td>\n",
       "      <td>0.304</td>\n",
       "      <td>128.040</td>\n",
       "      <td>4</td>\n",
       "      <td>pop</td>\n",
       "    </tr>\n",
       "    <tr>\n",
       "      <th>89411</th>\n",
       "      <td>98</td>\n",
       "      <td>162637</td>\n",
       "      <td>False</td>\n",
       "      <td>0.835</td>\n",
       "      <td>0.679</td>\n",
       "      <td>7</td>\n",
       "      <td>-5.329</td>\n",
       "      <td>0</td>\n",
       "      <td>0.0364</td>\n",
       "      <td>0.58300</td>\n",
       "      <td>0.000002</td>\n",
       "      <td>0.218</td>\n",
       "      <td>0.850</td>\n",
       "      <td>124.980</td>\n",
       "      <td>4</td>\n",
       "      <td>reggaeton</td>\n",
       "    </tr>\n",
       "  </tbody>\n",
       "</table>\n",
       "</div>"
      ],
      "text/plain": [
       "       popularity  duration_ms  explicit  danceability  energy  key  loudness  \\\n",
       "20001         100       156943     False         0.714   0.472    2    -7.375   \n",
       "81051         100       156943     False         0.714   0.472    2    -7.375   \n",
       "51664          99       198937     False         0.621   0.782    2    -5.548   \n",
       "81210          98       175238      True         0.561   0.965    7    -3.673   \n",
       "89411          98       162637     False         0.835   0.679    7    -5.329   \n",
       "\n",
       "       mode  speechiness  acousticness  instrumentalness  liveness  valence  \\\n",
       "20001     1       0.0864       0.01300          0.000005     0.266    0.238   \n",
       "81051     1       0.0864       0.01300          0.000005     0.266    0.238   \n",
       "51664     1       0.0440       0.01250          0.033000     0.230    0.550   \n",
       "81210     0       0.0343       0.00383          0.000007     0.371    0.304   \n",
       "89411     0       0.0364       0.58300          0.000002     0.218    0.850   \n",
       "\n",
       "         tempo  time_signature track_genre  \n",
       "20001  131.121               4       dance  \n",
       "81051  131.121               4         pop  \n",
       "51664  128.033               4     hip-hop  \n",
       "81210  128.040               4         pop  \n",
       "89411  124.980               4   reggaeton  "
      ]
     },
     "execution_count": 113,
     "metadata": {},
     "output_type": "execute_result"
    }
   ],
   "source": [
    "categorical_features = df.select_dtypes('object').columns\n",
    "categorical_features = categorical_features.drop('track_genre') # removing track_genre as it's our target column\n",
    "\n",
    "df = pd.get_dummies(df, columns=categorical_features)\n",
    "\n",
    "df.head()"
   ]
  },
  {
   "cell_type": "markdown",
   "metadata": {},
   "source": [
    "## Encoding binary class label\n"
   ]
  },
  {
   "cell_type": "code",
   "execution_count": 114,
   "metadata": {},
   "outputs": [
    {
     "data": {
      "text/html": [
       "<div>\n",
       "<style scoped>\n",
       "    .dataframe tbody tr th:only-of-type {\n",
       "        vertical-align: middle;\n",
       "    }\n",
       "\n",
       "    .dataframe tbody tr th {\n",
       "        vertical-align: top;\n",
       "    }\n",
       "\n",
       "    .dataframe thead th {\n",
       "        text-align: right;\n",
       "    }\n",
       "</style>\n",
       "<table border=\"1\" class=\"dataframe\">\n",
       "  <thead>\n",
       "    <tr style=\"text-align: right;\">\n",
       "      <th></th>\n",
       "      <th>popularity</th>\n",
       "      <th>duration_ms</th>\n",
       "      <th>explicit</th>\n",
       "      <th>danceability</th>\n",
       "      <th>energy</th>\n",
       "      <th>key</th>\n",
       "      <th>loudness</th>\n",
       "      <th>mode</th>\n",
       "      <th>speechiness</th>\n",
       "      <th>acousticness</th>\n",
       "      <th>instrumentalness</th>\n",
       "      <th>liveness</th>\n",
       "      <th>valence</th>\n",
       "      <th>tempo</th>\n",
       "      <th>time_signature</th>\n",
       "      <th>track_genre</th>\n",
       "      <th>track_genre_encoded</th>\n",
       "    </tr>\n",
       "  </thead>\n",
       "  <tbody>\n",
       "    <tr>\n",
       "      <th>20001</th>\n",
       "      <td>100</td>\n",
       "      <td>156943</td>\n",
       "      <td>-1</td>\n",
       "      <td>0.714</td>\n",
       "      <td>0.472</td>\n",
       "      <td>2</td>\n",
       "      <td>-7.375</td>\n",
       "      <td>1</td>\n",
       "      <td>0.0864</td>\n",
       "      <td>0.01300</td>\n",
       "      <td>0.000005</td>\n",
       "      <td>0.266</td>\n",
       "      <td>0.238</td>\n",
       "      <td>131.121</td>\n",
       "      <td>4</td>\n",
       "      <td>dance</td>\n",
       "      <td>11</td>\n",
       "    </tr>\n",
       "    <tr>\n",
       "      <th>81051</th>\n",
       "      <td>100</td>\n",
       "      <td>156943</td>\n",
       "      <td>-1</td>\n",
       "      <td>0.714</td>\n",
       "      <td>0.472</td>\n",
       "      <td>2</td>\n",
       "      <td>-7.375</td>\n",
       "      <td>1</td>\n",
       "      <td>0.0864</td>\n",
       "      <td>0.01300</td>\n",
       "      <td>0.000005</td>\n",
       "      <td>0.266</td>\n",
       "      <td>0.238</td>\n",
       "      <td>131.121</td>\n",
       "      <td>4</td>\n",
       "      <td>pop</td>\n",
       "      <td>40</td>\n",
       "    </tr>\n",
       "    <tr>\n",
       "      <th>51664</th>\n",
       "      <td>99</td>\n",
       "      <td>198937</td>\n",
       "      <td>-1</td>\n",
       "      <td>0.621</td>\n",
       "      <td>0.782</td>\n",
       "      <td>2</td>\n",
       "      <td>-5.548</td>\n",
       "      <td>1</td>\n",
       "      <td>0.0440</td>\n",
       "      <td>0.01250</td>\n",
       "      <td>0.033000</td>\n",
       "      <td>0.230</td>\n",
       "      <td>0.550</td>\n",
       "      <td>128.033</td>\n",
       "      <td>4</td>\n",
       "      <td>hip-hop</td>\n",
       "      <td>26</td>\n",
       "    </tr>\n",
       "    <tr>\n",
       "      <th>81210</th>\n",
       "      <td>98</td>\n",
       "      <td>175238</td>\n",
       "      <td>1</td>\n",
       "      <td>0.561</td>\n",
       "      <td>0.965</td>\n",
       "      <td>7</td>\n",
       "      <td>-3.673</td>\n",
       "      <td>0</td>\n",
       "      <td>0.0343</td>\n",
       "      <td>0.00383</td>\n",
       "      <td>0.000007</td>\n",
       "      <td>0.371</td>\n",
       "      <td>0.304</td>\n",
       "      <td>128.040</td>\n",
       "      <td>4</td>\n",
       "      <td>pop</td>\n",
       "      <td>40</td>\n",
       "    </tr>\n",
       "    <tr>\n",
       "      <th>89411</th>\n",
       "      <td>98</td>\n",
       "      <td>162637</td>\n",
       "      <td>-1</td>\n",
       "      <td>0.835</td>\n",
       "      <td>0.679</td>\n",
       "      <td>7</td>\n",
       "      <td>-5.329</td>\n",
       "      <td>0</td>\n",
       "      <td>0.0364</td>\n",
       "      <td>0.58300</td>\n",
       "      <td>0.000002</td>\n",
       "      <td>0.218</td>\n",
       "      <td>0.850</td>\n",
       "      <td>124.980</td>\n",
       "      <td>4</td>\n",
       "      <td>reggaeton</td>\n",
       "      <td>48</td>\n",
       "    </tr>\n",
       "  </tbody>\n",
       "</table>\n",
       "</div>"
      ],
      "text/plain": [
       "       popularity  duration_ms  explicit  danceability  energy  key  loudness  \\\n",
       "20001         100       156943        -1         0.714   0.472    2    -7.375   \n",
       "81051         100       156943        -1         0.714   0.472    2    -7.375   \n",
       "51664          99       198937        -1         0.621   0.782    2    -5.548   \n",
       "81210          98       175238         1         0.561   0.965    7    -3.673   \n",
       "89411          98       162637        -1         0.835   0.679    7    -5.329   \n",
       "\n",
       "       mode  speechiness  acousticness  instrumentalness  liveness  valence  \\\n",
       "20001     1       0.0864       0.01300          0.000005     0.266    0.238   \n",
       "81051     1       0.0864       0.01300          0.000005     0.266    0.238   \n",
       "51664     1       0.0440       0.01250          0.033000     0.230    0.550   \n",
       "81210     0       0.0343       0.00383          0.000007     0.371    0.304   \n",
       "89411     0       0.0364       0.58300          0.000002     0.218    0.850   \n",
       "\n",
       "         tempo  time_signature track_genre  track_genre_encoded  \n",
       "20001  131.121               4       dance                   11  \n",
       "81051  131.121               4         pop                   40  \n",
       "51664  128.033               4     hip-hop                   26  \n",
       "81210  128.040               4         pop                   40  \n",
       "89411  124.980               4   reggaeton                   48  "
      ]
     },
     "execution_count": 114,
     "metadata": {},
     "output_type": "execute_result"
    }
   ],
   "source": [
    "from sklearn.preprocessing import LabelEncoder\n",
    "\n",
    "# Encoding binary columns as -1 and 1 instead of True and False\n",
    "\n",
    "binary_columns = ['explicit']\n",
    "df.explicit.replace({False: -1, True: 1}, inplace=True)\n",
    "df.head()\n",
    "\n",
    "\n",
    "label_encoder = LabelEncoder()\n",
    "df['track_genre_encoded'] = label_encoder.fit_transform(df.track_genre)\n",
    "\n",
    "df.head()"
   ]
  },
  {
   "cell_type": "markdown",
   "metadata": {},
   "source": [
    "# Model Building\n"
   ]
  },
  {
   "cell_type": "code",
   "execution_count": 115,
   "metadata": {},
   "outputs": [],
   "source": [
    "from sklearn.model_selection import *\n",
    "from sklearn.metrics import *\n",
    "from sklearn.linear_model import *\n",
    "from sklearn.tree import *\n",
    "from sklearn.neighbors import *\n",
    "from sklearn.svm import *\n",
    "from sklearn.ensemble import *\n",
    "from sklearn.preprocessing import *\n",
    "from sklearn.naive_bayes import *"
   ]
  },
  {
   "cell_type": "markdown",
   "metadata": {},
   "source": [
    "## Splitting the dataset into training and testing sets\n"
   ]
  },
  {
   "cell_type": "code",
   "execution_count": 120,
   "metadata": {},
   "outputs": [],
   "source": [
    "standard_scaler = StandardScaler()\n",
    "\n",
    "target = 'popularity'\n",
    "X = df.drop(columns=[target, 'track_genre'])\n",
    "y = df[target]\n",
    "\n",
    "X = standard_scaler.fit_transform(X)\n",
    "\n",
    "x_train, x_test, y_train, y_test = train_test_split(X, y, test_size=0.2, random_state=seed)\n"
   ]
  },
  {
   "cell_type": "markdown",
   "metadata": {},
   "source": [
    "## Evaluation function\n"
   ]
  },
  {
   "cell_type": "code",
   "execution_count": 148,
   "metadata": {},
   "outputs": [],
   "source": [
    "def evaluate(expected, predicted):  \n",
    "  scores = {\n",
    "    'Root Mean Squared Error': np.sqrt(mean_squared_error(expected, predicted)),\n",
    "    'Mean Absolute Error': mean_absolute_error(expected, predicted),\n",
    "    'Mean Abosulute Percentage Error': mean_absolute_percentage_error(expected, predicted),\n",
    "    'R2 Score': r2_score(expected, predicted),\n",
    "  }\n",
    "  for score, value in scores.items():\n",
    "    print(f'{score.capitalize()}: {value:.3f}')"
   ]
  },
  {
   "cell_type": "markdown",
   "metadata": {},
   "source": [
    "## Model Building\n"
   ]
  },
  {
   "cell_type": "code",
   "execution_count": 124,
   "metadata": {},
   "outputs": [],
   "source": [
    "model = LogisticRegression()"
   ]
  },
  {
   "cell_type": "markdown",
   "metadata": {},
   "source": [
    "## Model Evaluation\n"
   ]
  },
  {
   "cell_type": "markdown",
   "metadata": {
    "vscode": {
     "languageId": "plaintext"
    }
   },
   "source": [
    "### Cross Validation"
   ]
  },
  {
   "cell_type": "code",
   "execution_count": 151,
   "metadata": {},
   "outputs": [
    {
     "name": "stdout",
     "output_type": "stream",
     "text": [
      "Mean squared error: 17.141 +- 2.173\n",
      "Mean absolute error: 2.721 +- 0.208\n",
      "Mean absolute percentage error: 0.031 +- 0.002\n",
      "R2: 0.285 +- 0.232\n",
      "Root mean squared error: 4.131 +- 0.272\n"
     ]
    }
   ],
   "source": [
    "scoring = ['neg_mean_squared_error', 'neg_mean_absolute_error', 'neg_mean_absolute_percentage_error', 'r2', 'neg_root_mean_squared_error']\n",
    "cv = 10\n",
    "result = cross_validate(model, x_train, y_train, cv=cv, scoring=scoring)\n",
    "for metric, values in result.items():\n",
    "  if 'time' not in metric:\n",
    "    name = metric.replace('test_', '').replace('neg_', '').replace('_', ' ').capitalize()\n",
    "    print(f'{name}: {-np.mean(values):.3f} +- {np.std(values):.3f}')"
   ]
  },
  {
   "cell_type": "markdown",
   "metadata": {
    "vscode": {
     "languageId": "plaintext"
    }
   },
   "source": [
    "### Cross Validation with KFold"
   ]
  },
  {
   "cell_type": "code",
   "execution_count": 140,
   "metadata": {},
   "outputs": [
    {
     "name": "stdout",
     "output_type": "stream",
     "text": [
      "Mean squared error: 19.366 +- 4.854\n",
      "Mean absolute error: 2.911 +- 0.377\n",
      "Mean absolute percentage error: 0.033 +- 0.004\n",
      "R2: 0.490 +- 0.325\n"
     ]
    }
   ],
   "source": [
    "scoring = ['neg_mean_squared_error', 'neg_mean_absolute_error', 'neg_mean_absolute_percentage_error', 'r2']\n",
    "cv = KFold(n_splits=10, shuffle=True, random_state=seed)\n",
    "result = cross_validate(model, x_train, y_train, cv=cv, scoring=scoring)\n",
    "for metric, values in result.items():\n",
    "  if 'time' not in metric:\n",
    "    name = metric.replace('test_', '').replace('neg_', '').replace('_', ' ').capitalize()\n",
    "    print(f'{name}: {-np.mean(values):.3f} +- {np.std(values):.3f}')"
   ]
  },
  {
   "cell_type": "markdown",
   "metadata": {
    "vscode": {
     "languageId": "plaintext"
    }
   },
   "source": [
    "### Cross Validation with StratifiedKFold"
   ]
  },
  {
   "cell_type": "code",
   "execution_count": 142,
   "metadata": {},
   "outputs": [
    {
     "name": "stdout",
     "output_type": "stream",
     "text": [
      "Mean squared error: 17.633 +- 2.866\n",
      "Mean absolute error: 2.775 +- 0.208\n",
      "Mean absolute percentage error: 0.032 +- 0.002\n",
      "R2: 0.306 +- 0.175\n"
     ]
    }
   ],
   "source": [
    "scoring = ['neg_mean_squared_error', 'neg_mean_absolute_error', 'neg_mean_absolute_percentage_error', 'r2']\n",
    "cv = StratifiedKFold(n_splits=10, shuffle=True, random_state=seed)\n",
    "result = cross_validate(model, x_train, y_train, cv=cv, scoring=scoring)\n",
    "for metric, values in result.items():\n",
    "  if 'time' not in metric:\n",
    "    name = metric.replace('test_', '').replace('neg_', '').replace('_', ' ').capitalize()\n",
    "    print(f'{name}: {-np.mean(values):.3f} +- {np.std(values):.3f}')"
   ]
  },
  {
   "cell_type": "markdown",
   "metadata": {},
   "source": [
    "## Model Building with Hyperparameter Tuning\n"
   ]
  },
  {
   "cell_type": "code",
   "execution_count": 144,
   "metadata": {},
   "outputs": [
    {
     "name": "stdout",
     "output_type": "stream",
     "text": [
      "{'C': 1000, 'penalty': 'l1', 'solver': 'liblinear'}\n"
     ]
    }
   ],
   "source": [
    "model = LogisticRegression()\n",
    "\n",
    "params = {\n",
    "  'C': [0.001, 0.01, 0.1, 1, 10, 100, 1000],\n",
    "  'penalty': ['l1', 'l2'],\n",
    "  'solver': ['liblinear']\n",
    "}\n",
    "\n",
    "cv = StratifiedKFold(n_splits=10, shuffle=True, random_state=seed)\n",
    "grid_search = GridSearchCV(model, params, cv=cv)\n",
    "\n",
    "grid_search.fit(x_train, y_train)\n",
    "\n",
    "print(grid_search.best_params_)"
   ]
  },
  {
   "cell_type": "markdown",
   "metadata": {},
   "source": [
    "\n",
    "## Model Evaluation\n"
   ]
  },
  {
   "cell_type": "code",
   "execution_count": 149,
   "metadata": {},
   "outputs": [
    {
     "name": "stdout",
     "output_type": "stream",
     "text": [
      "Root mean squared error: 5.313\n",
      "Mean absolute error: 3.470\n",
      "Mean abosulute percentage error: 0.040\n",
      "R2 score: -0.873\n"
     ]
    }
   ],
   "source": [
    "best_model = grid_search.best_estimator_\n",
    "\n",
    "y_pred = best_model.predict(x_test)\n",
    "\n",
    "evaluate(y_test, y_pred)"
   ]
  },
  {
   "cell_type": "markdown",
   "metadata": {},
   "source": [
    "# Comparing Different Models Performance"
   ]
  },
  {
   "cell_type": "markdown",
   "metadata": {},
   "source": [
    "## Model Building"
   ]
  },
  {
   "cell_type": "code",
   "execution_count": 202,
   "metadata": {},
   "outputs": [],
   "source": [
    "models = {\n",
    "  'Linear Regression': LinearRegression(),\n",
    "  'K Nearest Neighbors': KNeighborsRegressor(),\n",
    "  'Random Forest': RandomForestRegressor(),\n",
    "  'Naive Bayes': GaussianNB(),\n",
    "}"
   ]
  },
  {
   "cell_type": "markdown",
   "metadata": {
    "vscode": {
     "languageId": "plaintext"
    }
   },
   "source": [
    "## Model Comparison"
   ]
  },
  {
   "cell_type": "code",
   "execution_count": 203,
   "metadata": {},
   "outputs": [
    {
     "data": {
      "text/html": [
       "<div>\n",
       "<style scoped>\n",
       "    .dataframe tbody tr th:only-of-type {\n",
       "        vertical-align: middle;\n",
       "    }\n",
       "\n",
       "    .dataframe tbody tr th {\n",
       "        vertical-align: top;\n",
       "    }\n",
       "\n",
       "    .dataframe thead th {\n",
       "        text-align: right;\n",
       "    }\n",
       "</style>\n",
       "<table border=\"1\" class=\"dataframe\">\n",
       "  <thead>\n",
       "    <tr style=\"text-align: right;\">\n",
       "      <th></th>\n",
       "      <th>0</th>\n",
       "      <th>1</th>\n",
       "      <th>2</th>\n",
       "      <th>3</th>\n",
       "      <th>4</th>\n",
       "      <th>5</th>\n",
       "      <th>6</th>\n",
       "      <th>7</th>\n",
       "      <th>8</th>\n",
       "      <th>9</th>\n",
       "      <th>mean</th>\n",
       "      <th>std</th>\n",
       "    </tr>\n",
       "  </thead>\n",
       "  <tbody>\n",
       "    <tr>\n",
       "      <th>Random Forest</th>\n",
       "      <td>4.957908</td>\n",
       "      <td>10.770103</td>\n",
       "      <td>5.270126</td>\n",
       "      <td>4.302691</td>\n",
       "      <td>6.123482</td>\n",
       "      <td>5.083394</td>\n",
       "      <td>3.226046</td>\n",
       "      <td>5.212894</td>\n",
       "      <td>7.576819</td>\n",
       "      <td>5.361816</td>\n",
       "      <td>5.788528</td>\n",
       "      <td>1.971538</td>\n",
       "    </tr>\n",
       "    <tr>\n",
       "      <th>K Nearest Neighbors</th>\n",
       "      <td>8.855000</td>\n",
       "      <td>17.977500</td>\n",
       "      <td>9.756000</td>\n",
       "      <td>9.985000</td>\n",
       "      <td>13.137500</td>\n",
       "      <td>12.056000</td>\n",
       "      <td>8.533500</td>\n",
       "      <td>11.829000</td>\n",
       "      <td>12.794500</td>\n",
       "      <td>11.135500</td>\n",
       "      <td>11.605950</td>\n",
       "      <td>2.605495</td>\n",
       "    </tr>\n",
       "    <tr>\n",
       "      <th>Linear Regression</th>\n",
       "      <td>10.434146</td>\n",
       "      <td>21.381064</td>\n",
       "      <td>11.207613</td>\n",
       "      <td>12.493214</td>\n",
       "      <td>15.038920</td>\n",
       "      <td>14.172361</td>\n",
       "      <td>9.711653</td>\n",
       "      <td>9.594819</td>\n",
       "      <td>14.182262</td>\n",
       "      <td>10.924320</td>\n",
       "      <td>12.914037</td>\n",
       "      <td>3.374429</td>\n",
       "    </tr>\n",
       "    <tr>\n",
       "      <th>Naive Bayes</th>\n",
       "      <td>35.237500</td>\n",
       "      <td>73.462500</td>\n",
       "      <td>71.487500</td>\n",
       "      <td>65.462500</td>\n",
       "      <td>59.925000</td>\n",
       "      <td>62.275000</td>\n",
       "      <td>73.887500</td>\n",
       "      <td>68.425000</td>\n",
       "      <td>68.887500</td>\n",
       "      <td>57.800000</td>\n",
       "      <td>63.685000</td>\n",
       "      <td>10.831813</td>\n",
       "    </tr>\n",
       "  </tbody>\n",
       "</table>\n",
       "</div>"
      ],
      "text/plain": [
       "                             0          1          2          3          4  \\\n",
       "Random Forest         4.957908  10.770103   5.270126   4.302691   6.123482   \n",
       "K Nearest Neighbors   8.855000  17.977500   9.756000   9.985000  13.137500   \n",
       "Linear Regression    10.434146  21.381064  11.207613  12.493214  15.038920   \n",
       "Naive Bayes          35.237500  73.462500  71.487500  65.462500  59.925000   \n",
       "\n",
       "                             5          6          7          8          9  \\\n",
       "Random Forest         5.083394   3.226046   5.212894   7.576819   5.361816   \n",
       "K Nearest Neighbors  12.056000   8.533500  11.829000  12.794500  11.135500   \n",
       "Linear Regression    14.172361   9.711653   9.594819  14.182262  10.924320   \n",
       "Naive Bayes          62.275000  73.887500  68.425000  68.887500  57.800000   \n",
       "\n",
       "                          mean        std  \n",
       "Random Forest         5.788528   1.971538  \n",
       "K Nearest Neighbors  11.605950   2.605495  \n",
       "Linear Regression    12.914037   3.374429  \n",
       "Naive Bayes          63.685000  10.831813  "
      ]
     },
     "execution_count": 203,
     "metadata": {},
     "output_type": "execute_result"
    }
   ],
   "source": [
    "scoring = 'neg_mean_squared_error'\n",
    "\n",
    "results = {}\n",
    "\n",
    "for name, model in models.items():\n",
    "  results[name] = -cross_val_score(model, x_train, y_train, cv=cv, scoring=scoring)\n",
    "  \n",
    "\n",
    "result_df = pd.DataFrame(results).transpose()\n",
    "\n",
    "result_df['mean'] = result_df.mean(axis=1)\n",
    "result_df['std'] = result_df.std(axis=1)\n",
    "result_df = result_df.sort_values(by=['mean', 'std'], ascending=True)\n",
    "result_df"
   ]
  },
  {
   "cell_type": "code",
   "execution_count": 201,
   "metadata": {},
   "outputs": [
    {
     "data": {
      "image/png": "[encoded data removed]",
      "text/plain": [
       "<Figure size 640x480 with 1 Axes>"
      ]
     },
     "metadata": {},
     "output_type": "display_data"
    },
    {
     "data": {
      "text/plain": [
       "Text(0, 0.5, 'Error')"
      ]
     },
     "execution_count": 201,
     "metadata": {},
     "output_type": "execute_result"
    },
    {
     "data": {
      "image/png": "[encoded data removed]",
      "text/plain": [
       "<Figure size 640x480 with 1 Axes>"
      ]
     },
     "metadata": {},
     "output_type": "display_data"
    }
   ],
   "source": [
    "import matplotlib.pyplot as plt\n",
    "\n",
    "best_model = RandomForestRegressor()\n",
    "best_model.fit(x_train, y_train)\n",
    "\n",
    "# plot the expected vs predicted values\n",
    "\n",
    "y_pred = best_model.predict(x_test)\n",
    "\n",
    "new_df = pd.DataFrame({'y_test': y_test, 'y_pred': y_pred})\n",
    "\n",
    "# draw a pointplot with error bars\n",
    "sns.pointplot(data=new_df, x='y_test', y='y_pred')\n",
    "\n",
    "\n",
    "difference = y_test - y_pred\n",
    "x = np.linspace(0, len(difference), len(difference))\n",
    "\n",
    "# draw on new plot\n",
    "plt.show()\n",
    "\n",
    "fig, ax = plt.subplots()\n",
    "ax.plot(x, difference, 'o', color='black')\n",
    "ax.set_xlabel('Index')\n",
    "ax.set_ylabel('Error')\n"
   ]
  }
 ],
 "metadata": {
  "kernelspec": {
   "display_name": ".venv",
   "language": "python",
   "name": "python3"
  },
  "language_info": {
   "codemirror_mode": {
    "name": "ipython",
    "version": 3
   },
   "file_extension": ".py",
   "mimetype": "text/x-python",
   "name": "python",
   "nbconvert_exporter": "python",
   "pygments_lexer": "ipython3",
   "version": "3.11.9"
  }
 },
 "nbformat": 4,
 "nbformat_minor": 2
}
