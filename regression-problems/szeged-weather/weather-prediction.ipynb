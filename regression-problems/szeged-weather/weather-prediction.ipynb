{
 "cells": [
  {
   "cell_type": "markdown",
   "metadata": {},
   "source": [
    "# Dataset Preparation\n"
   ]
  },
  {
   "cell_type": "markdown",
   "metadata": {
    "vscode": {
     "languageId": "plaintext"
    }
   },
   "source": [
    "### Setup"
   ]
  },
  {
   "cell_type": "code",
   "execution_count": 15,
   "metadata": {},
   "outputs": [],
   "source": [
    "import pandas as pd\n",
    "import numpy as np\n",
    "import matplotlib.pyplot as plt\n",
    "import seaborn as sns\n",
    "import warnings\n",
    "import os\n",
    "warnings.filterwarnings('ignore')"
   ]
  },
  {
   "cell_type": "markdown",
   "metadata": {},
   "source": [
    "## Data Collection\n"
   ]
  },
  {
   "cell_type": "code",
   "execution_count": 16,
   "metadata": {},
   "outputs": [
    {
     "data": {
      "text/html": [
       "<div>\n",
       "<style scoped>\n",
       "    .dataframe tbody tr th:only-of-type {\n",
       "        vertical-align: middle;\n",
       "    }\n",
       "\n",
       "    .dataframe tbody tr th {\n",
       "        vertical-align: top;\n",
       "    }\n",
       "\n",
       "    .dataframe thead th {\n",
       "        text-align: right;\n",
       "    }\n",
       "</style>\n",
       "<table border=\"1\" class=\"dataframe\">\n",
       "  <thead>\n",
       "    <tr style=\"text-align: right;\">\n",
       "      <th></th>\n",
       "      <th>formatted_date</th>\n",
       "      <th>summary</th>\n",
       "      <th>precip_type</th>\n",
       "      <th>temperature_c</th>\n",
       "      <th>apparent_temperature_c</th>\n",
       "      <th>humidity</th>\n",
       "      <th>wind_speed_km_h</th>\n",
       "      <th>wind_bearing_degrees</th>\n",
       "      <th>visibility_km</th>\n",
       "      <th>loud_cover</th>\n",
       "      <th>pressure_millibars</th>\n",
       "      <th>daily_summary</th>\n",
       "    </tr>\n",
       "  </thead>\n",
       "  <tbody>\n",
       "    <tr>\n",
       "      <th>0</th>\n",
       "      <td>2006-04-01 00:00:00.000 +0200</td>\n",
       "      <td>Partly Cloudy</td>\n",
       "      <td>rain</td>\n",
       "      <td>9.472222</td>\n",
       "      <td>7.388889</td>\n",
       "      <td>0.89</td>\n",
       "      <td>14.1197</td>\n",
       "      <td>251.0</td>\n",
       "      <td>15.8263</td>\n",
       "      <td>0.0</td>\n",
       "      <td>1015.13</td>\n",
       "      <td>Partly cloudy throughout the day.</td>\n",
       "    </tr>\n",
       "    <tr>\n",
       "      <th>1</th>\n",
       "      <td>2006-04-01 01:00:00.000 +0200</td>\n",
       "      <td>Partly Cloudy</td>\n",
       "      <td>rain</td>\n",
       "      <td>9.355556</td>\n",
       "      <td>7.227778</td>\n",
       "      <td>0.86</td>\n",
       "      <td>14.2646</td>\n",
       "      <td>259.0</td>\n",
       "      <td>15.8263</td>\n",
       "      <td>0.0</td>\n",
       "      <td>1015.63</td>\n",
       "      <td>Partly cloudy throughout the day.</td>\n",
       "    </tr>\n",
       "    <tr>\n",
       "      <th>2</th>\n",
       "      <td>2006-04-01 02:00:00.000 +0200</td>\n",
       "      <td>Mostly Cloudy</td>\n",
       "      <td>rain</td>\n",
       "      <td>9.377778</td>\n",
       "      <td>9.377778</td>\n",
       "      <td>0.89</td>\n",
       "      <td>3.9284</td>\n",
       "      <td>204.0</td>\n",
       "      <td>14.9569</td>\n",
       "      <td>0.0</td>\n",
       "      <td>1015.94</td>\n",
       "      <td>Partly cloudy throughout the day.</td>\n",
       "    </tr>\n",
       "    <tr>\n",
       "      <th>3</th>\n",
       "      <td>2006-04-01 03:00:00.000 +0200</td>\n",
       "      <td>Partly Cloudy</td>\n",
       "      <td>rain</td>\n",
       "      <td>8.288889</td>\n",
       "      <td>5.944444</td>\n",
       "      <td>0.83</td>\n",
       "      <td>14.1036</td>\n",
       "      <td>269.0</td>\n",
       "      <td>15.8263</td>\n",
       "      <td>0.0</td>\n",
       "      <td>1016.41</td>\n",
       "      <td>Partly cloudy throughout the day.</td>\n",
       "    </tr>\n",
       "    <tr>\n",
       "      <th>4</th>\n",
       "      <td>2006-04-01 04:00:00.000 +0200</td>\n",
       "      <td>Mostly Cloudy</td>\n",
       "      <td>rain</td>\n",
       "      <td>8.755556</td>\n",
       "      <td>6.977778</td>\n",
       "      <td>0.83</td>\n",
       "      <td>11.0446</td>\n",
       "      <td>259.0</td>\n",
       "      <td>15.8263</td>\n",
       "      <td>0.0</td>\n",
       "      <td>1016.51</td>\n",
       "      <td>Partly cloudy throughout the day.</td>\n",
       "    </tr>\n",
       "  </tbody>\n",
       "</table>\n",
       "</div>"
      ],
      "text/plain": [
       "                  formatted_date        summary precip_type  temperature_c  \\\n",
       "0  2006-04-01 00:00:00.000 +0200  Partly Cloudy        rain       9.472222   \n",
       "1  2006-04-01 01:00:00.000 +0200  Partly Cloudy        rain       9.355556   \n",
       "2  2006-04-01 02:00:00.000 +0200  Mostly Cloudy        rain       9.377778   \n",
       "3  2006-04-01 03:00:00.000 +0200  Partly Cloudy        rain       8.288889   \n",
       "4  2006-04-01 04:00:00.000 +0200  Mostly Cloudy        rain       8.755556   \n",
       "\n",
       "   apparent_temperature_c  humidity  wind_speed_km_h  wind_bearing_degrees  \\\n",
       "0                7.388889      0.89          14.1197                 251.0   \n",
       "1                7.227778      0.86          14.2646                 259.0   \n",
       "2                9.377778      0.89           3.9284                 204.0   \n",
       "3                5.944444      0.83          14.1036                 269.0   \n",
       "4                6.977778      0.83          11.0446                 259.0   \n",
       "\n",
       "   visibility_km  loud_cover  pressure_millibars  \\\n",
       "0        15.8263         0.0             1015.13   \n",
       "1        15.8263         0.0             1015.63   \n",
       "2        14.9569         0.0             1015.94   \n",
       "3        15.8263         0.0             1016.41   \n",
       "4        15.8263         0.0             1016.51   \n",
       "\n",
       "                       daily_summary  \n",
       "0  Partly cloudy throughout the day.  \n",
       "1  Partly cloudy throughout the day.  \n",
       "2  Partly cloudy throughout the day.  \n",
       "3  Partly cloudy throughout the day.  \n",
       "4  Partly cloudy throughout the day.  "
      ]
     },
     "execution_count": 16,
     "metadata": {},
     "output_type": "execute_result"
    }
   ],
   "source": [
    "dataset_path = './regression-problems/szeged-weather/dataset/weatherHistory.csv'\n",
    "\n",
    "df = pd.read_csv(dataset_path)\n",
    "\n",
    "# The Dataset is too large, so we will only use the first 1000 rows\n",
    "\n",
    "df = df.iloc[:1000]\n",
    "\n",
    "# for convience, rename all the columns in snake case and remove special characters\n",
    "df.columns = df.columns.str.lower().str.replace(' ', '_').str.replace('(', '').str.replace(')', '').str.replace('/', '_').str.replace('-', '_')\n",
    "\n",
    "df.head()"
   ]
  },
  {
   "cell_type": "markdown",
   "metadata": {},
   "source": [
    "## Handling missing values\n"
   ]
  },
  {
   "cell_type": "code",
   "execution_count": 17,
   "metadata": {},
   "outputs": [
    {
     "data": {
      "text/plain": [
       "formatted_date            0\n",
       "summary                   0\n",
       "precip_type               0\n",
       "temperature_c             0\n",
       "apparent_temperature_c    0\n",
       "humidity                  0\n",
       "wind_speed_km_h           0\n",
       "wind_bearing_degrees      0\n",
       "visibility_km             0\n",
       "loud_cover                0\n",
       "pressure_millibars        0\n",
       "daily_summary             0\n",
       "dtype: int64"
      ]
     },
     "execution_count": 17,
     "metadata": {},
     "output_type": "execute_result"
    }
   ],
   "source": [
    "from pandas.api.types import is_numeric_dtype\n",
    "\n",
    "\n",
    "\n",
    "df = df.apply(lambda x: x.fillna(x.median()) if is_numeric_dtype(x) else x.fillna(x.mode()[0]))\n",
    "\n",
    "df.isnull().sum()"
   ]
  },
  {
   "cell_type": "markdown",
   "metadata": {},
   "source": [
    "## Encoding categorical features with One-Hot Encoding\n"
   ]
  },
  {
   "cell_type": "code",
   "execution_count": 18,
   "metadata": {},
   "outputs": [
    {
     "data": {
      "text/html": [
       "<div>\n",
       "<style scoped>\n",
       "    .dataframe tbody tr th:only-of-type {\n",
       "        vertical-align: middle;\n",
       "    }\n",
       "\n",
       "    .dataframe tbody tr th {\n",
       "        vertical-align: top;\n",
       "    }\n",
       "\n",
       "    .dataframe thead th {\n",
       "        text-align: right;\n",
       "    }\n",
       "</style>\n",
       "<table border=\"1\" class=\"dataframe\">\n",
       "  <thead>\n",
       "    <tr style=\"text-align: right;\">\n",
       "      <th></th>\n",
       "      <th>precip_type</th>\n",
       "      <th>temperature_c</th>\n",
       "      <th>humidity</th>\n",
       "      <th>wind_speed_km_h</th>\n",
       "      <th>wind_bearing_degrees</th>\n",
       "      <th>visibility_km</th>\n",
       "      <th>loud_cover</th>\n",
       "      <th>pressure_millibars</th>\n",
       "    </tr>\n",
       "  </thead>\n",
       "  <tbody>\n",
       "    <tr>\n",
       "      <th>0</th>\n",
       "      <td>rain</td>\n",
       "      <td>9.472222</td>\n",
       "      <td>0.89</td>\n",
       "      <td>14.1197</td>\n",
       "      <td>251.0</td>\n",
       "      <td>15.8263</td>\n",
       "      <td>0.0</td>\n",
       "      <td>1015.13</td>\n",
       "    </tr>\n",
       "    <tr>\n",
       "      <th>1</th>\n",
       "      <td>rain</td>\n",
       "      <td>9.355556</td>\n",
       "      <td>0.86</td>\n",
       "      <td>14.2646</td>\n",
       "      <td>259.0</td>\n",
       "      <td>15.8263</td>\n",
       "      <td>0.0</td>\n",
       "      <td>1015.63</td>\n",
       "    </tr>\n",
       "    <tr>\n",
       "      <th>2</th>\n",
       "      <td>rain</td>\n",
       "      <td>9.377778</td>\n",
       "      <td>0.89</td>\n",
       "      <td>3.9284</td>\n",
       "      <td>204.0</td>\n",
       "      <td>14.9569</td>\n",
       "      <td>0.0</td>\n",
       "      <td>1015.94</td>\n",
       "    </tr>\n",
       "    <tr>\n",
       "      <th>3</th>\n",
       "      <td>rain</td>\n",
       "      <td>8.288889</td>\n",
       "      <td>0.83</td>\n",
       "      <td>14.1036</td>\n",
       "      <td>269.0</td>\n",
       "      <td>15.8263</td>\n",
       "      <td>0.0</td>\n",
       "      <td>1016.41</td>\n",
       "    </tr>\n",
       "    <tr>\n",
       "      <th>4</th>\n",
       "      <td>rain</td>\n",
       "      <td>8.755556</td>\n",
       "      <td>0.83</td>\n",
       "      <td>11.0446</td>\n",
       "      <td>259.0</td>\n",
       "      <td>15.8263</td>\n",
       "      <td>0.0</td>\n",
       "      <td>1016.51</td>\n",
       "    </tr>\n",
       "  </tbody>\n",
       "</table>\n",
       "</div>"
      ],
      "text/plain": [
       "  precip_type  temperature_c  humidity  wind_speed_km_h  wind_bearing_degrees  \\\n",
       "0        rain       9.472222      0.89          14.1197                 251.0   \n",
       "1        rain       9.355556      0.86          14.2646                 259.0   \n",
       "2        rain       9.377778      0.89           3.9284                 204.0   \n",
       "3        rain       8.288889      0.83          14.1036                 269.0   \n",
       "4        rain       8.755556      0.83          11.0446                 259.0   \n",
       "\n",
       "   visibility_km  loud_cover  pressure_millibars  \n",
       "0        15.8263         0.0             1015.13  \n",
       "1        15.8263         0.0             1015.63  \n",
       "2        14.9569         0.0             1015.94  \n",
       "3        15.8263         0.0             1016.41  \n",
       "4        15.8263         0.0             1016.51  "
      ]
     },
     "execution_count": 18,
     "metadata": {},
     "output_type": "execute_result"
    }
   ],
   "source": [
    "# Dropping the datetime and summary columns as they are not required\n",
    "\n",
    "df = df.drop(['formatted_date', 'daily_summary', 'summary', 'apparent_temperature_c'], axis=1)\n",
    "\n",
    "categorical_features = df.select_dtypes(include=['object']).columns.tolist()\n",
    "\n",
    "categorical_features.remove('precip_type')\n",
    "\n",
    "df = pd.get_dummies(df, columns=categorical_features, drop_first=True)\n",
    "\n",
    "df.head()"
   ]
  },
  {
   "cell_type": "markdown",
   "metadata": {},
   "source": [
    "## Encoding binary class label\n"
   ]
  },
  {
   "cell_type": "code",
   "execution_count": 19,
   "metadata": {},
   "outputs": [
    {
     "data": {
      "text/html": [
       "<div>\n",
       "<style scoped>\n",
       "    .dataframe tbody tr th:only-of-type {\n",
       "        vertical-align: middle;\n",
       "    }\n",
       "\n",
       "    .dataframe tbody tr th {\n",
       "        vertical-align: top;\n",
       "    }\n",
       "\n",
       "    .dataframe thead th {\n",
       "        text-align: right;\n",
       "    }\n",
       "</style>\n",
       "<table border=\"1\" class=\"dataframe\">\n",
       "  <thead>\n",
       "    <tr style=\"text-align: right;\">\n",
       "      <th></th>\n",
       "      <th>precip_type</th>\n",
       "      <th>temperature_c</th>\n",
       "      <th>humidity</th>\n",
       "      <th>wind_speed_km_h</th>\n",
       "      <th>wind_bearing_degrees</th>\n",
       "      <th>visibility_km</th>\n",
       "      <th>loud_cover</th>\n",
       "      <th>pressure_millibars</th>\n",
       "    </tr>\n",
       "  </thead>\n",
       "  <tbody>\n",
       "    <tr>\n",
       "      <th>0</th>\n",
       "      <td>1</td>\n",
       "      <td>9.472222</td>\n",
       "      <td>0.89</td>\n",
       "      <td>14.1197</td>\n",
       "      <td>251.0</td>\n",
       "      <td>15.8263</td>\n",
       "      <td>0.0</td>\n",
       "      <td>1015.13</td>\n",
       "    </tr>\n",
       "    <tr>\n",
       "      <th>1</th>\n",
       "      <td>1</td>\n",
       "      <td>9.355556</td>\n",
       "      <td>0.86</td>\n",
       "      <td>14.2646</td>\n",
       "      <td>259.0</td>\n",
       "      <td>15.8263</td>\n",
       "      <td>0.0</td>\n",
       "      <td>1015.63</td>\n",
       "    </tr>\n",
       "    <tr>\n",
       "      <th>2</th>\n",
       "      <td>1</td>\n",
       "      <td>9.377778</td>\n",
       "      <td>0.89</td>\n",
       "      <td>3.9284</td>\n",
       "      <td>204.0</td>\n",
       "      <td>14.9569</td>\n",
       "      <td>0.0</td>\n",
       "      <td>1015.94</td>\n",
       "    </tr>\n",
       "    <tr>\n",
       "      <th>3</th>\n",
       "      <td>1</td>\n",
       "      <td>8.288889</td>\n",
       "      <td>0.83</td>\n",
       "      <td>14.1036</td>\n",
       "      <td>269.0</td>\n",
       "      <td>15.8263</td>\n",
       "      <td>0.0</td>\n",
       "      <td>1016.41</td>\n",
       "    </tr>\n",
       "    <tr>\n",
       "      <th>4</th>\n",
       "      <td>1</td>\n",
       "      <td>8.755556</td>\n",
       "      <td>0.83</td>\n",
       "      <td>11.0446</td>\n",
       "      <td>259.0</td>\n",
       "      <td>15.8263</td>\n",
       "      <td>0.0</td>\n",
       "      <td>1016.51</td>\n",
       "    </tr>\n",
       "  </tbody>\n",
       "</table>\n",
       "</div>"
      ],
      "text/plain": [
       "   precip_type  temperature_c  humidity  wind_speed_km_h  \\\n",
       "0            1       9.472222      0.89          14.1197   \n",
       "1            1       9.355556      0.86          14.2646   \n",
       "2            1       9.377778      0.89           3.9284   \n",
       "3            1       8.288889      0.83          14.1036   \n",
       "4            1       8.755556      0.83          11.0446   \n",
       "\n",
       "   wind_bearing_degrees  visibility_km  loud_cover  pressure_millibars  \n",
       "0                 251.0        15.8263         0.0             1015.13  \n",
       "1                 259.0        15.8263         0.0             1015.63  \n",
       "2                 204.0        14.9569         0.0             1015.94  \n",
       "3                 269.0        15.8263         0.0             1016.41  \n",
       "4                 259.0        15.8263         0.0             1016.51  "
      ]
     },
     "execution_count": 19,
     "metadata": {},
     "output_type": "execute_result"
    }
   ],
   "source": [
    "df.precip_type = df.precip_type.map(lambda x: 1 if x == 'rain' else -1)\n",
    "\n",
    "df.head()"
   ]
  },
  {
   "cell_type": "markdown",
   "metadata": {},
   "source": [
    "# Model Building\n"
   ]
  },
  {
   "cell_type": "code",
   "execution_count": 20,
   "metadata": {},
   "outputs": [],
   "source": [
    "from sklearn.model_selection import *\n",
    "from sklearn.tree import *\n",
    "from sklearn.exceptions import *\n",
    "from sklearn.metrics import *\n",
    "from sklearn.ensemble import *  \n",
    "from sklearn.linear_model import *"
   ]
  },
  {
   "cell_type": "markdown",
   "metadata": {},
   "source": [
    "## Splitting the dataset into training and testing sets\n"
   ]
  },
  {
   "cell_type": "code",
   "execution_count": 21,
   "metadata": {},
   "outputs": [],
   "source": [
    "target_column = 'temperature_c'\n",
    "\n",
    "x = df.drop(target_column, axis=1)\n",
    "y = df[target_column]\n",
    "\n",
    "x_train, x_test, y_train, y_test = train_test_split(x, y, test_size=0.2, random_state=42)"
   ]
  },
  {
   "cell_type": "markdown",
   "metadata": {},
   "source": [
    "## Evaluation function\n"
   ]
  },
  {
   "cell_type": "code",
   "execution_count": 22,
   "metadata": {},
   "outputs": [],
   "source": [
    "def evaluate_regression(expected, predicted):\n",
    "    print('Mean Absolute Error:', mean_absolute_error(expected, predicted))  \n",
    "    print('Mean Squared Error:', mean_squared_error(expected, predicted))  \n",
    "    print('Root Mean Squared Error:', np.sqrt(mean_squared_error(expected, predicted)))"
   ]
  },
  {
   "cell_type": "markdown",
   "metadata": {},
   "source": [
    "## Model Building\n"
   ]
  },
  {
   "cell_type": "code",
   "execution_count": 50,
   "metadata": {},
   "outputs": [],
   "source": [
    "model = RandomForestRegressor()"
   ]
  },
  {
   "cell_type": "markdown",
   "metadata": {},
   "source": [
    "## Model Evaluation\n"
   ]
  },
  {
   "cell_type": "markdown",
   "metadata": {
    "vscode": {
     "languageId": "plaintext"
    }
   },
   "source": [
    "### Cross Validation"
   ]
  },
  {
   "cell_type": "code",
   "execution_count": 52,
   "metadata": {},
   "outputs": [
    {
     "name": "stdout",
     "output_type": "stream",
     "text": [
      "Neg_mean_absolute_error: 3.13 += 0.43\n",
      "Neg_mean_squared_error: 16.72 += 4.24\n",
      "Neg_root_mean_squared_error: 4.06 += 0.51\n"
     ]
    }
   ],
   "source": [
    "scoring = ['neg_mean_absolute_error', 'neg_mean_squared_error', 'neg_root_mean_squared_error']\n",
    "cross_validation_results = cross_validate(model, x_train, y_train, cv=10, scoring=scoring)\n",
    "\n",
    "for metric, scores in cross_validation_results.items():\n",
    "  if 'time' not in metric:\n",
    "    name  = metric.replace('test_','' ).capitalize()\n",
    "    print(f'{name}: {-np.mean(scores):.2f} += {np.std(scores):.2f}')\n",
    "  \n"
   ]
  },
  {
   "cell_type": "markdown",
   "metadata": {
    "vscode": {
     "languageId": "plaintext"
    }
   },
   "source": [
    "### Cross Validation with KFold"
   ]
  },
  {
   "cell_type": "code",
   "execution_count": 53,
   "metadata": {},
   "outputs": [
    {
     "name": "stdout",
     "output_type": "stream",
     "text": [
      "Neg_mean_absolute_error: 3.15 += 0.33\n",
      "Neg_mean_squared_error: 16.85 += 3.37\n",
      "Neg_root_mean_squared_error: 4.09 += 0.39\n"
     ]
    }
   ],
   "source": [
    "k_fold = KFold(n_splits=10, shuffle=True, random_state=42)\n",
    "scoring = ['neg_mean_absolute_error', 'neg_mean_squared_error', 'neg_root_mean_squared_error']\n",
    "cross_validation_results = cross_validate(model, x_train, y_train, cv=k_fold, scoring=scoring)\n",
    "\n",
    "for metric, scores in cross_validation_results.items():\n",
    "  if 'time' not in metric:\n",
    "    name  = metric.replace('test_','' ).capitalize()\n",
    "    print(f'{name}: {-np.mean(scores):.2f} += {np.std(scores):.2f}')\n",
    "  \n"
   ]
  },
  {
   "cell_type": "markdown",
   "metadata": {
    "vscode": {
     "languageId": "plaintext"
    }
   },
   "source": [
    "### Cross Validation with StratifiedKFold"
   ]
  },
  {
   "cell_type": "code",
   "execution_count": null,
   "metadata": {},
   "outputs": [],
   "source": []
  },
  {
   "cell_type": "markdown",
   "metadata": {},
   "source": [
    "## Model Building with Hyperparameter Tuning\n"
   ]
  },
  {
   "cell_type": "code",
   "execution_count": 55,
   "metadata": {},
   "outputs": [
    {
     "name": "stdout",
     "output_type": "stream",
     "text": [
      "{'max_depth': 15, 'n_estimators': 50}\n"
     ]
    }
   ],
   "source": [
    "model = RandomForestRegressor()\n",
    "k_fold = KFold(n_splits=10, shuffle=True, random_state=42)\n",
    "params = {\n",
    "    'n_estimators': [50, 100],\n",
    "    'max_depth': [5, 10, 15]\n",
    "}\n",
    "grid_search = GridSearchCV(model, param_grid=params, cv=k_fold, scoring='neg_mean_absolute_error')\n",
    "\n",
    "grid_search.fit(x_train, y_train)\n",
    "print(grid_search.best_params_)"
   ]
  },
  {
   "cell_type": "markdown",
   "metadata": {},
   "source": [
    "\n",
    "## Model Evaluation\n"
   ]
  },
  {
   "cell_type": "code",
   "execution_count": 56,
   "metadata": {},
   "outputs": [
    {
     "name": "stdout",
     "output_type": "stream",
     "text": [
      "Mean Absolute Error: 3.021326455009783\n",
      "Mean Squared Error: 15.714487745751958\n",
      "Root Mean Squared Error: 3.964150318258877\n"
     ]
    },
    {
     "data": {
      "image/png": "[encoded data removed]",
      "text/plain": [
       "<Figure size 1000x500 with 1 Axes>"
      ]
     },
     "metadata": {},
     "output_type": "display_data"
    }
   ],
   "source": [
    "best_model = grid_search.best_estimator_\n",
    "\n",
    "best_model.fit(x_train, y_train)\n",
    "\n",
    "y_pred = best_model.predict(x_test)\n",
    "\n",
    "evaluate_regression(y_test, y_pred)\n",
    "\n",
    "\n",
    "\n",
    "# plot the difference between the expected and predicted values\n",
    "plt.figure(figsize=(10, 5))\n",
    "plt.scatter(np.linspace(0, len(y_test), 200), y_test.values, label='Expected')\n",
    "plt.scatter(np.linspace(0, len(y_test), 200), y_pred, label='Predicted')\n",
    "plt.legend()\n",
    "plt.show()"
   ]
  },
  {
   "cell_type": "markdown",
   "metadata": {},
   "source": [
    "# Comparing Different Models Performance"
   ]
  },
  {
   "cell_type": "markdown",
   "metadata": {},
   "source": [
    "## Model Building"
   ]
  },
  {
   "cell_type": "code",
   "execution_count": 57,
   "metadata": {},
   "outputs": [],
   "source": [
    "models = {\n",
    "    'Linear Regression': LinearRegression(),\n",
    "    'Decision Tree': DecisionTreeRegressor(),\n",
    "    'Random Forest': RandomForestRegressor(),\n",
    "    'Gradient Boosting': GradientBoostingRegressor(),\n",
    "}"
   ]
  },
  {
   "cell_type": "markdown",
   "metadata": {
    "vscode": {
     "languageId": "plaintext"
    }
   },
   "source": [
    "## Model Comparison"
   ]
  },
  {
   "cell_type": "code",
   "execution_count": 58,
   "metadata": {},
   "outputs": [
    {
     "data": {
      "text/html": [
       "<div>\n",
       "<style scoped>\n",
       "    .dataframe tbody tr th:only-of-type {\n",
       "        vertical-align: middle;\n",
       "    }\n",
       "\n",
       "    .dataframe tbody tr th {\n",
       "        vertical-align: top;\n",
       "    }\n",
       "\n",
       "    .dataframe thead th {\n",
       "        text-align: right;\n",
       "    }\n",
       "</style>\n",
       "<table border=\"1\" class=\"dataframe\">\n",
       "  <thead>\n",
       "    <tr style=\"text-align: right;\">\n",
       "      <th></th>\n",
       "      <th>0</th>\n",
       "      <th>1</th>\n",
       "      <th>2</th>\n",
       "      <th>3</th>\n",
       "      <th>4</th>\n",
       "      <th>5</th>\n",
       "      <th>6</th>\n",
       "      <th>7</th>\n",
       "      <th>8</th>\n",
       "      <th>9</th>\n",
       "      <th>mean</th>\n",
       "      <th>std</th>\n",
       "    </tr>\n",
       "  </thead>\n",
       "  <tbody>\n",
       "    <tr>\n",
       "      <th>Random Forest</th>\n",
       "      <td>3.033103</td>\n",
       "      <td>3.167694</td>\n",
       "      <td>2.937494</td>\n",
       "      <td>2.807962</td>\n",
       "      <td>2.922384</td>\n",
       "      <td>3.346265</td>\n",
       "      <td>3.022883</td>\n",
       "      <td>2.926928</td>\n",
       "      <td>3.159799</td>\n",
       "      <td>4.071424</td>\n",
       "      <td>3.139594</td>\n",
       "      <td>0.343571</td>\n",
       "    </tr>\n",
       "    <tr>\n",
       "      <th>Gradient Boosting</th>\n",
       "      <td>3.151401</td>\n",
       "      <td>3.274090</td>\n",
       "      <td>3.611616</td>\n",
       "      <td>3.041906</td>\n",
       "      <td>3.332464</td>\n",
       "      <td>3.674087</td>\n",
       "      <td>3.223749</td>\n",
       "      <td>3.263612</td>\n",
       "      <td>3.489119</td>\n",
       "      <td>3.971540</td>\n",
       "      <td>3.403358</td>\n",
       "      <td>0.267303</td>\n",
       "    </tr>\n",
       "    <tr>\n",
       "      <th>Linear Regression</th>\n",
       "      <td>3.910160</td>\n",
       "      <td>3.769254</td>\n",
       "      <td>3.963217</td>\n",
       "      <td>3.847863</td>\n",
       "      <td>3.505397</td>\n",
       "      <td>4.343902</td>\n",
       "      <td>3.643516</td>\n",
       "      <td>3.760988</td>\n",
       "      <td>4.094601</td>\n",
       "      <td>4.778096</td>\n",
       "      <td>3.961699</td>\n",
       "      <td>0.351089</td>\n",
       "    </tr>\n",
       "    <tr>\n",
       "      <th>Decision Tree</th>\n",
       "      <td>4.130000</td>\n",
       "      <td>4.096181</td>\n",
       "      <td>3.573542</td>\n",
       "      <td>3.825000</td>\n",
       "      <td>4.409861</td>\n",
       "      <td>3.801250</td>\n",
       "      <td>3.767639</td>\n",
       "      <td>3.660347</td>\n",
       "      <td>4.093681</td>\n",
       "      <td>5.122083</td>\n",
       "      <td>4.047958</td>\n",
       "      <td>0.431316</td>\n",
       "    </tr>\n",
       "  </tbody>\n",
       "</table>\n",
       "</div>"
      ],
      "text/plain": [
       "                          0         1         2         3         4         5  \\\n",
       "Random Forest      3.033103  3.167694  2.937494  2.807962  2.922384  3.346265   \n",
       "Gradient Boosting  3.151401  3.274090  3.611616  3.041906  3.332464  3.674087   \n",
       "Linear Regression  3.910160  3.769254  3.963217  3.847863  3.505397  4.343902   \n",
       "Decision Tree      4.130000  4.096181  3.573542  3.825000  4.409861  3.801250   \n",
       "\n",
       "                          6         7         8         9      mean       std  \n",
       "Random Forest      3.022883  2.926928  3.159799  4.071424  3.139594  0.343571  \n",
       "Gradient Boosting  3.223749  3.263612  3.489119  3.971540  3.403358  0.267303  \n",
       "Linear Regression  3.643516  3.760988  4.094601  4.778096  3.961699  0.351089  \n",
       "Decision Tree      3.767639  3.660347  4.093681  5.122083  4.047958  0.431316  "
      ]
     },
     "execution_count": 58,
     "metadata": {},
     "output_type": "execute_result"
    }
   ],
   "source": [
    "\n",
    "results = {}\n",
    "for name, model in models.items():\n",
    "  results[name] = -cross_val_score(model, x_train, y_train, cv=k_fold, scoring='neg_mean_absolute_error')\n",
    "  \n",
    "results = pd.DataFrame(results).transpose()\n",
    "\n",
    "results['mean'] = results.mean(axis=1)\n",
    "results['std'] = results.std(axis=1)\n",
    "\n",
    "results = results.sort_values('mean', ascending=True)\n",
    "\n",
    "results"
   ]
  }
 ],
 "metadata": {
  "kernelspec": {
   "display_name": ".venv",
   "language": "python",
   "name": "python3"
  },
  "language_info": {
   "codemirror_mode": {
    "name": "ipython",
    "version": 3
   },
   "file_extension": ".py",
   "mimetype": "text/x-python",
   "name": "python",
   "nbconvert_exporter": "python",
   "pygments_lexer": "ipython3",
   "version": "3.11.9"
  }
 },
 "nbformat": 4,
 "nbformat_minor": 2
}
