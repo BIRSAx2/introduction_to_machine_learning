{
 "cells": [
  {
   "cell_type": "markdown",
   "metadata": {},
   "source": [
    "# kNN: k Nearest Neighbor\n",
    "\n",
    "The principle behind the *nearest neighbor classifier* consists in finding a predefined number $k$ of training samples closest in distance to a new sample, which has to be classified. The label of the new sample will be defined from these neighbors. kNN has a fixed, user defined, constant for the number of neighbors which have to be determined.\n",
    "\n",
    "The distance can, in general, be any metric measure: standard euclidean distance is the most common choice.\n",
    "\n",
    "The k-NN algorithm is among the simplest of all machine learning algorithms, but despite its simplicity, it has been quite successful in a large number of classification and regression problems, for example, character recognition or image analysis.\n",
    "\n",
    "There is no general way to determine the best value for $k$, but a common approach is to choose $k$ as an odd number if the number of classes is even."
   ]
  },
  {
   "cell_type": "code",
   "execution_count": 4,
   "metadata": {},
   "outputs": [
    {
     "data": {
      "text/plain": [
       "<matplotlib.legend.Legend at 0x7fd0b9001750>"
      ]
     },
     "execution_count": 4,
     "metadata": {},
     "output_type": "execute_result"
    },
    {
     "data": {
      "image/png": "[encoded data removed]",
      "text/plain": [
       "<Figure size 640x480 with 1 Axes>"
      ]
     },
     "metadata": {},
     "output_type": "display_data"
    }
   ],
   "source": [
    "from sklearn.datasets import make_blobs\n",
    "import matplotlib.pyplot as plt\n",
    "import numpy as np\n",
    "\n",
    "n_samples = 150\n",
    "centers = [[2, 2], [-1, -1], [2, -2]]\n",
    "n_classes = len(centers)\n",
    "seed = 69\n",
    "\n",
    "data, labels = make_blobs(n_samples=n_samples, centers=centers,random_state=seed)\n",
    "\n",
    "\n",
    "for n_class in range(n_classes):\n",
    "    plt.scatter(data[labels == n_class, 0], data[labels == n_class, 1], label=f\"Class {n_class}\", s = 10)\n",
    "    \n",
    "plt.legend()"
   ]
  },
  {
   "cell_type": "markdown",
   "metadata": {},
   "source": [
    "## Create and fit a nearest-neighbors classifier"
   ]
  },
  {
   "cell_type": "code",
   "execution_count": 6,
   "metadata": {},
   "outputs": [
    {
     "name": "stdout",
     "output_type": "stream",
     "text": [
      "predictions: [0 2 1 0 2 0 1 1 2 0 1 2 1 0 1 2 0 0 2 2 2 2 1 0 2 0 0 0 2 2]\n",
      "true labels: [0 2 1 0 2 0 1 1 1 0 2 2 1 0 1 1 0 0 2 2 1 1 0 0 2 0 0 0 2 2]\n"
     ]
    }
   ],
   "source": [
    "from sklearn.model_selection import train_test_split\n",
    "from sklearn.neighbors import KNeighborsClassifier\n",
    "\n",
    "\n",
    "train_data, test_data, train_labels, test_labels = train_test_split(data, labels, test_size=0.2, random_state=seed)\n",
    "\n",
    "\n",
    "knn = KNeighborsClassifier(n_neighbors=3)\n",
    "\n",
    "knn.fit(train_data, train_labels)\n",
    "\n",
    "predictions = knn.predict(test_data)\n",
    "print(f\"predictions: {predictions}\")\n",
    "print(f\"true labels: {test_labels}\")\n"
   ]
  },
  {
   "cell_type": "markdown",
   "metadata": {},
   "source": [
    "## Evaluate the result"
   ]
  },
  {
   "cell_type": "code",
   "execution_count": 7,
   "metadata": {},
   "outputs": [
    {
     "name": "stdout",
     "output_type": "stream",
     "text": [
      "              precision    recall  f1-score   support\n",
      "\n",
      "           0       0.92      1.00      0.96        11\n",
      "           1       0.56      0.71      0.62         7\n",
      "           2       0.89      0.67      0.76        12\n",
      "\n",
      "    accuracy                           0.80        30\n",
      "   macro avg       0.79      0.79      0.78        30\n",
      "weighted avg       0.82      0.80      0.80        30\n",
      "\n"
     ]
    }
   ],
   "source": [
    "from sklearn.metrics import classification_report\n",
    "print(classification_report(predictions, test_labels))"
   ]
  }
 ],
 "metadata": {
  "kernelspec": {
   "display_name": ".venv",
   "language": "python",
   "name": "python3"
  },
  "language_info": {
   "codemirror_mode": {
    "name": "ipython",
    "version": 3
   },
   "file_extension": ".py",
   "mimetype": "text/x-python",
   "name": "python",
   "nbconvert_exporter": "python",
   "pygments_lexer": "ipython3",
   "version": "3.11.9"
  }
 },
 "nbformat": 4,
 "nbformat_minor": 2
}
