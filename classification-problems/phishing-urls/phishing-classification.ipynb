{
 "cells": [
  {
   "cell_type": "markdown",
   "metadata": {},
   "source": [
    "# Dataset Preparation\n"
   ]
  },
  {
   "cell_type": "markdown",
   "metadata": {
    "vscode": {
     "languageId": "plaintext"
    }
   },
   "source": [
    "### Setup"
   ]
  },
  {
   "cell_type": "code",
   "execution_count": 60,
   "metadata": {},
   "outputs": [],
   "source": [
    "import pandas as pd\n",
    "import numpy as np\n",
    "import matplotlib.pyplot as plt\n",
    "import warnings \n",
    "\n",
    "warnings.filterwarnings('ignore')\n",
    "\n",
    "seed = 1855"
   ]
  },
  {
   "cell_type": "markdown",
   "metadata": {},
   "source": [
    "## Data Collection\n"
   ]
  },
  {
   "cell_type": "code",
   "execution_count": 61,
   "metadata": {},
   "outputs": [
    {
     "data": {
      "text/html": [
       "<div>\n",
       "<style scoped>\n",
       "    .dataframe tbody tr th:only-of-type {\n",
       "        vertical-align: middle;\n",
       "    }\n",
       "\n",
       "    .dataframe tbody tr th {\n",
       "        vertical-align: top;\n",
       "    }\n",
       "\n",
       "    .dataframe thead th {\n",
       "        text-align: right;\n",
       "    }\n",
       "</style>\n",
       "<table border=\"1\" class=\"dataframe\">\n",
       "  <thead>\n",
       "    <tr style=\"text-align: right;\">\n",
       "      <th></th>\n",
       "      <th>url</th>\n",
       "      <th>length_url</th>\n",
       "      <th>length_hostname</th>\n",
       "      <th>ip</th>\n",
       "      <th>nb_dots</th>\n",
       "      <th>nb_hyphens</th>\n",
       "      <th>nb_at</th>\n",
       "      <th>nb_qm</th>\n",
       "      <th>nb_and</th>\n",
       "      <th>nb_or</th>\n",
       "      <th>...</th>\n",
       "      <th>domain_in_title</th>\n",
       "      <th>domain_with_copyright</th>\n",
       "      <th>whois_registered_domain</th>\n",
       "      <th>domain_registration_length</th>\n",
       "      <th>domain_age</th>\n",
       "      <th>web_traffic</th>\n",
       "      <th>dns_record</th>\n",
       "      <th>google_index</th>\n",
       "      <th>page_rank</th>\n",
       "      <th>status</th>\n",
       "    </tr>\n",
       "  </thead>\n",
       "  <tbody>\n",
       "    <tr>\n",
       "      <th>0</th>\n",
       "      <td>https://www.todayshomeowner.com/how-to-make-ho...</td>\n",
       "      <td>82</td>\n",
       "      <td>23</td>\n",
       "      <td>0</td>\n",
       "      <td>2</td>\n",
       "      <td>7</td>\n",
       "      <td>0</td>\n",
       "      <td>0</td>\n",
       "      <td>0</td>\n",
       "      <td>0</td>\n",
       "      <td>...</td>\n",
       "      <td>1</td>\n",
       "      <td>1</td>\n",
       "      <td>0</td>\n",
       "      <td>240</td>\n",
       "      <td>8892</td>\n",
       "      <td>67860</td>\n",
       "      <td>0</td>\n",
       "      <td>1</td>\n",
       "      <td>4</td>\n",
       "      <td>legitimate</td>\n",
       "    </tr>\n",
       "    <tr>\n",
       "      <th>1</th>\n",
       "      <td>http://thapthan.ac.th/information/confirmation...</td>\n",
       "      <td>93</td>\n",
       "      <td>14</td>\n",
       "      <td>1</td>\n",
       "      <td>2</td>\n",
       "      <td>0</td>\n",
       "      <td>0</td>\n",
       "      <td>0</td>\n",
       "      <td>0</td>\n",
       "      <td>0</td>\n",
       "      <td>...</td>\n",
       "      <td>1</td>\n",
       "      <td>0</td>\n",
       "      <td>1</td>\n",
       "      <td>0</td>\n",
       "      <td>2996</td>\n",
       "      <td>4189860</td>\n",
       "      <td>0</td>\n",
       "      <td>1</td>\n",
       "      <td>2</td>\n",
       "      <td>phishing</td>\n",
       "    </tr>\n",
       "    <tr>\n",
       "      <th>2</th>\n",
       "      <td>http://app.dialoginsight.com/T/OFC4/L2S/3888/B...</td>\n",
       "      <td>121</td>\n",
       "      <td>21</td>\n",
       "      <td>1</td>\n",
       "      <td>3</td>\n",
       "      <td>0</td>\n",
       "      <td>0</td>\n",
       "      <td>0</td>\n",
       "      <td>0</td>\n",
       "      <td>0</td>\n",
       "      <td>...</td>\n",
       "      <td>1</td>\n",
       "      <td>1</td>\n",
       "      <td>0</td>\n",
       "      <td>30</td>\n",
       "      <td>2527</td>\n",
       "      <td>346022</td>\n",
       "      <td>0</td>\n",
       "      <td>1</td>\n",
       "      <td>3</td>\n",
       "      <td>phishing</td>\n",
       "    </tr>\n",
       "    <tr>\n",
       "      <th>3</th>\n",
       "      <td>https://www.bedslide.com</td>\n",
       "      <td>24</td>\n",
       "      <td>16</td>\n",
       "      <td>0</td>\n",
       "      <td>2</td>\n",
       "      <td>0</td>\n",
       "      <td>0</td>\n",
       "      <td>0</td>\n",
       "      <td>0</td>\n",
       "      <td>0</td>\n",
       "      <td>...</td>\n",
       "      <td>0</td>\n",
       "      <td>0</td>\n",
       "      <td>0</td>\n",
       "      <td>139</td>\n",
       "      <td>7531</td>\n",
       "      <td>1059151</td>\n",
       "      <td>0</td>\n",
       "      <td>0</td>\n",
       "      <td>4</td>\n",
       "      <td>legitimate</td>\n",
       "    </tr>\n",
       "    <tr>\n",
       "      <th>4</th>\n",
       "      <td>https://tabs.ultimate-guitar.com/s/sex_pistols...</td>\n",
       "      <td>73</td>\n",
       "      <td>24</td>\n",
       "      <td>0</td>\n",
       "      <td>3</td>\n",
       "      <td>1</td>\n",
       "      <td>0</td>\n",
       "      <td>0</td>\n",
       "      <td>0</td>\n",
       "      <td>0</td>\n",
       "      <td>...</td>\n",
       "      <td>0</td>\n",
       "      <td>0</td>\n",
       "      <td>0</td>\n",
       "      <td>3002</td>\n",
       "      <td>7590</td>\n",
       "      <td>635</td>\n",
       "      <td>0</td>\n",
       "      <td>1</td>\n",
       "      <td>5</td>\n",
       "      <td>legitimate</td>\n",
       "    </tr>\n",
       "  </tbody>\n",
       "</table>\n",
       "<p>5 rows × 89 columns</p>\n",
       "</div>"
      ],
      "text/plain": [
       "                                                 url  length_url  \\\n",
       "0  https://www.todayshomeowner.com/how-to-make-ho...          82   \n",
       "1  http://thapthan.ac.th/information/confirmation...          93   \n",
       "2  http://app.dialoginsight.com/T/OFC4/L2S/3888/B...         121   \n",
       "3                           https://www.bedslide.com          24   \n",
       "4  https://tabs.ultimate-guitar.com/s/sex_pistols...          73   \n",
       "\n",
       "   length_hostname  ip  nb_dots  nb_hyphens  nb_at  nb_qm  nb_and  nb_or  ...  \\\n",
       "0               23   0        2           7      0      0       0      0  ...   \n",
       "1               14   1        2           0      0      0       0      0  ...   \n",
       "2               21   1        3           0      0      0       0      0  ...   \n",
       "3               16   0        2           0      0      0       0      0  ...   \n",
       "4               24   0        3           1      0      0       0      0  ...   \n",
       "\n",
       "   domain_in_title  domain_with_copyright  whois_registered_domain  \\\n",
       "0                1                      1                        0   \n",
       "1                1                      0                        1   \n",
       "2                1                      1                        0   \n",
       "3                0                      0                        0   \n",
       "4                0                      0                        0   \n",
       "\n",
       "   domain_registration_length  domain_age  web_traffic  dns_record  \\\n",
       "0                         240        8892        67860           0   \n",
       "1                           0        2996      4189860           0   \n",
       "2                          30        2527       346022           0   \n",
       "3                         139        7531      1059151           0   \n",
       "4                        3002        7590          635           0   \n",
       "\n",
       "   google_index  page_rank      status  \n",
       "0             1          4  legitimate  \n",
       "1             1          2    phishing  \n",
       "2             1          3    phishing  \n",
       "3             0          4  legitimate  \n",
       "4             1          5  legitimate  \n",
       "\n",
       "[5 rows x 89 columns]"
      ]
     },
     "execution_count": 61,
     "metadata": {},
     "output_type": "execute_result"
    }
   ],
   "source": [
    "splits = {'train': 'data/train.parquet', 'test': 'data/test.parquet'}\n",
    "df = pd.read_parquet(\"hf://datasets/pirocheto/phishing-url/\" + splits[\"train\"])\n",
    "\n",
    "df.head()"
   ]
  },
  {
   "cell_type": "markdown",
   "metadata": {},
   "source": [
    "## Handling missing values\n"
   ]
  },
  {
   "cell_type": "code",
   "execution_count": 62,
   "metadata": {},
   "outputs": [],
   "source": [
    "# Checking for missing values\n",
    "\n",
    "df.value_counts().isnull().sum()\n",
    "# dropping the url as all it's info is in the other columns\n",
    "\n",
    "df = df.drop(columns=['url'])"
   ]
  },
  {
   "cell_type": "markdown",
   "metadata": {},
   "source": [
    "## Encoding categorical features with One-Hot Encoding\n"
   ]
  },
  {
   "cell_type": "code",
   "execution_count": 63,
   "metadata": {},
   "outputs": [
    {
     "data": {
      "text/plain": [
       "status    \n",
       "legitimate    3829\n",
       "phishing      3829\n",
       "Name: count, dtype: int64"
      ]
     },
     "execution_count": 63,
     "metadata": {},
     "output_type": "execute_result"
    }
   ],
   "source": [
    "# the only categorical column is the label\n",
    "categorical_columns = df.select_dtypes(include=['object']).columns\n",
    "df[categorical_columns].value_counts()"
   ]
  },
  {
   "cell_type": "markdown",
   "metadata": {},
   "source": [
    "## Encoding binary class label\n"
   ]
  },
  {
   "cell_type": "code",
   "execution_count": 64,
   "metadata": {},
   "outputs": [
    {
     "data": {
      "text/plain": [
       "status\n",
       "0    3829\n",
       "1    3829\n",
       "Name: count, dtype: int64"
      ]
     },
     "execution_count": 64,
     "metadata": {},
     "output_type": "execute_result"
    }
   ],
   "source": [
    "df.status = df.status.map(lambda x: 1 if x == 'phishing' else 0)\n",
    "\n",
    "\n",
    "df.status.value_counts()\n"
   ]
  },
  {
   "cell_type": "markdown",
   "metadata": {},
   "source": [
    "# Model Building\n"
   ]
  },
  {
   "cell_type": "code",
   "execution_count": 65,
   "metadata": {},
   "outputs": [],
   "source": [
    "from sklearn.model_selection import *\n",
    "from sklearn.ensemble import *\n",
    "from sklearn.metrics import *\n",
    "from sklearn.linear_model import *\n",
    "from sklearn.svm import *\n",
    "from sklearn.neighbors import *\n",
    "from sklearn.tree import *\n",
    "from sklearn.ensemble import *"
   ]
  },
  {
   "cell_type": "markdown",
   "metadata": {},
   "source": [
    "## Splitting the dataset into training and testing sets\n"
   ]
  },
  {
   "cell_type": "code",
   "execution_count": 66,
   "metadata": {},
   "outputs": [],
   "source": [
    "x = df.drop(columns=['status'])\n",
    "y = df.status\n",
    "\n",
    "x_train, x_test, y_train, y_test = train_test_split(x, y, test_size=0.2, random_state=seed)"
   ]
  },
  {
   "cell_type": "markdown",
   "metadata": {},
   "source": [
    "## Evaluation function\n"
   ]
  },
  {
   "cell_type": "code",
   "execution_count": 67,
   "metadata": {},
   "outputs": [],
   "source": [
    "def evaluate_classification(expected, predicted):\n",
    "  scores = {\n",
    "    'Accuracy': accuracy_score(expected, predicted),\n",
    "    'Precision': precision_score(expected, predicted),\n",
    "    'Recall': recall_score(expected, predicted),\n",
    "    'F1': f1_score(expected, predicted),\n",
    "    'ROC AUC': roc_auc_score(expected, predicted)\n",
    "  }\n",
    "  \n",
    "  for name, score in scores.items():\n",
    "    print(f'{name}: {score:.2f}')"
   ]
  },
  {
   "cell_type": "markdown",
   "metadata": {},
   "source": [
    "## Model Building\n"
   ]
  },
  {
   "cell_type": "code",
   "execution_count": 68,
   "metadata": {},
   "outputs": [],
   "source": [
    "model = KNeighborsClassifier()"
   ]
  },
  {
   "cell_type": "markdown",
   "metadata": {},
   "source": [
    "## Model Evaluation\n"
   ]
  },
  {
   "cell_type": "markdown",
   "metadata": {
    "vscode": {
     "languageId": "plaintext"
    }
   },
   "source": [
    "### Cross Validation"
   ]
  },
  {
   "cell_type": "code",
   "execution_count": 69,
   "metadata": {},
   "outputs": [
    {
     "name": "stdout",
     "output_type": "stream",
     "text": [
      "Accuracy: 0.82 +- 0.01\n",
      "Precision: 0.81 +- 0.02\n",
      "Recall: 0.83 +- 0.03\n",
      "F1: 0.82 +- 0.01\n",
      "Roc_auc: 0.89 +- 0.01\n"
     ]
    }
   ],
   "source": [
    "cv = 10\n",
    "scoring = ['accuracy', 'precision', 'recall', 'f1', 'roc_auc']\n",
    "\n",
    "results = cross_validate(model, x_train, y_train, cv=cv, scoring=scoring)\n",
    "\n",
    "for metric in scoring:\n",
    "  print(f'{metric.capitalize()}: {results[f\"test_{metric}\"].mean():.2f} +- {results[f\"test_{metric}\"].std():.2f}')\n"
   ]
  },
  {
   "cell_type": "markdown",
   "metadata": {
    "vscode": {
     "languageId": "plaintext"
    }
   },
   "source": [
    "### Cross Validation with KFold"
   ]
  },
  {
   "cell_type": "code",
   "execution_count": 70,
   "metadata": {},
   "outputs": [
    {
     "name": "stdout",
     "output_type": "stream",
     "text": [
      "Accuracy: 0.82 +- 0.02\n",
      "Precision: 0.81 +- 0.03\n",
      "Recall: 0.83 +- 0.02\n",
      "F1: 0.82 +- 0.02\n",
      "Roc_auc: 0.89 +- 0.02\n"
     ]
    }
   ],
   "source": [
    "cv = KFold(n_splits=10, shuffle=True, random_state=seed)\n",
    "scoring = ['accuracy', 'precision', 'recall', 'f1', 'roc_auc']\n",
    "\n",
    "\n",
    "results = cross_validate(model, x_train, y_train, cv=cv, scoring=scoring)\n",
    "\n",
    "for metric in scoring:\n",
    "  print(f'{metric.capitalize()}: {results[f\"test_{metric}\"].mean():.2f} +- {results[f\"test_{metric}\"].std():.2f}')"
   ]
  },
  {
   "cell_type": "markdown",
   "metadata": {
    "vscode": {
     "languageId": "plaintext"
    }
   },
   "source": [
    "### Cross Validation with StratifiedKFold"
   ]
  },
  {
   "cell_type": "code",
   "execution_count": 71,
   "metadata": {},
   "outputs": [
    {
     "name": "stdout",
     "output_type": "stream",
     "text": [
      "Accuracy: 0.82 +- 0.02\n",
      "Precision: 0.80 +- 0.01\n",
      "Recall: 0.83 +- 0.02\n",
      "F1: 0.82 +- 0.02\n",
      "Roc_auc: 0.89 +- 0.01\n"
     ]
    }
   ],
   "source": [
    "cv = StratifiedKFold(n_splits=10, shuffle=True, random_state=seed)\n",
    "scoring = ['accuracy', 'precision', 'recall', 'f1', 'roc_auc']\n",
    "\n",
    "results = cross_validate(model, x_train, y_train, cv=cv, scoring=scoring)\n",
    "\n",
    "for metric in scoring:\n",
    "  print(f'{metric.capitalize()}: {results[f\"test_{metric}\"].mean():.2f} +- {results[f\"test_{metric}\"].std():.2f}')"
   ]
  },
  {
   "cell_type": "markdown",
   "metadata": {},
   "source": [
    "## Model Building with Hyperparameter Tuning\n"
   ]
  },
  {
   "cell_type": "code",
   "execution_count": 72,
   "metadata": {},
   "outputs": [],
   "source": [
    "model = KNeighborsClassifier()\n",
    "params = {\n",
    "  'n_neighbors': [3, 5, 7, 9, 11],\n",
    "  'weights': ['uniform', 'distance'],\n",
    "  'metric' : ['euclidean', 'manhattan', 'minkowski']\n",
    "}\n",
    "\n",
    "grid_search = GridSearchCV(model, param_grid=params, cv=cv, scoring='f1')\n",
    "\n",
    "grid_search.fit(x_train, y_train)\n",
    "\n",
    "print(grid_search.best_params_)"
   ]
  },
  {
   "cell_type": "markdown",
   "metadata": {},
   "source": [
    "\n",
    "## Model Evaluation\n"
   ]
  },
  {
   "cell_type": "code",
   "execution_count": null,
   "metadata": {},
   "outputs": [
    {
     "name": "stdout",
     "output_type": "stream",
     "text": [
      "Accuracy: 0.86\n",
      "Precision: 0.85\n",
      "Recall: 0.88\n",
      "F1: 0.86\n",
      "ROC AUC: 0.86\n"
     ]
    }
   ],
   "source": [
    "best_model = grid_search.best_estimator_\n",
    "\n",
    "best_model.fit(x_train, y_train)\n",
    "\n",
    "y_pred = best_model.predict(x_test)\n",
    "\n",
    "evaluate_classification(y_test, y_pred)"
   ]
  },
  {
   "cell_type": "markdown",
   "metadata": {},
   "source": [
    "# Comparing Different Models Performance"
   ]
  },
  {
   "cell_type": "markdown",
   "metadata": {},
   "source": [
    "## Model Building"
   ]
  },
  {
   "cell_type": "code",
   "execution_count": null,
   "metadata": {},
   "outputs": [],
   "source": [
    "models = {\n",
    "    'GradientBoostingClassifier': GradientBoostingClassifier(),\n",
    "    'RandomForestClassifier': RandomForestClassifier(),\n",
    "    'DecisionTreeClassifier': DecisionTreeClassifier(),\n",
    "    'KNeighborsClassifier': KNeighborsClassifier(),\n",
    "    'SVC': SVC(),\n",
    "    'AdaBoostClassifier': AdaBoostClassifier(),\n",
    "    'KNeighborsClassifier': KNeighborsClassifier(),\n",
    "}"
   ]
  },
  {
   "cell_type": "markdown",
   "metadata": {
    "vscode": {
     "languageId": "plaintext"
    }
   },
   "source": [
    "## Model Comparison"
   ]
  },
  {
   "cell_type": "code",
   "execution_count": null,
   "metadata": {},
   "outputs": [
    {
     "data": {
      "text/html": [
       "<div>\n",
       "<style scoped>\n",
       "    .dataframe tbody tr th:only-of-type {\n",
       "        vertical-align: middle;\n",
       "    }\n",
       "\n",
       "    .dataframe tbody tr th {\n",
       "        vertical-align: top;\n",
       "    }\n",
       "\n",
       "    .dataframe thead th {\n",
       "        text-align: right;\n",
       "    }\n",
       "</style>\n",
       "<table border=\"1\" class=\"dataframe\">\n",
       "  <thead>\n",
       "    <tr style=\"text-align: right;\">\n",
       "      <th></th>\n",
       "      <th>0</th>\n",
       "      <th>1</th>\n",
       "      <th>2</th>\n",
       "      <th>3</th>\n",
       "      <th>4</th>\n",
       "      <th>5</th>\n",
       "      <th>6</th>\n",
       "      <th>7</th>\n",
       "      <th>8</th>\n",
       "      <th>9</th>\n",
       "      <th>mean</th>\n",
       "      <th>std</th>\n",
       "    </tr>\n",
       "  </thead>\n",
       "  <tbody>\n",
       "    <tr>\n",
       "      <th>RandomForestClassifier</th>\n",
       "      <td>0.977162</td>\n",
       "      <td>0.960848</td>\n",
       "      <td>0.952692</td>\n",
       "      <td>0.965742</td>\n",
       "      <td>0.957586</td>\n",
       "      <td>0.959217</td>\n",
       "      <td>0.959150</td>\n",
       "      <td>0.959150</td>\n",
       "      <td>0.972222</td>\n",
       "      <td>0.960784</td>\n",
       "      <td>0.962455</td>\n",
       "      <td>0.006923</td>\n",
       "    </tr>\n",
       "    <tr>\n",
       "      <th>GradientBoostingClassifier</th>\n",
       "      <td>0.959217</td>\n",
       "      <td>0.952692</td>\n",
       "      <td>0.954323</td>\n",
       "      <td>0.965742</td>\n",
       "      <td>0.952692</td>\n",
       "      <td>0.947798</td>\n",
       "      <td>0.965686</td>\n",
       "      <td>0.952614</td>\n",
       "      <td>0.960784</td>\n",
       "      <td>0.949346</td>\n",
       "      <td>0.956089</td>\n",
       "      <td>0.006080</td>\n",
       "    </tr>\n",
       "    <tr>\n",
       "      <th>AdaBoostClassifier</th>\n",
       "      <td>0.955954</td>\n",
       "      <td>0.933116</td>\n",
       "      <td>0.941272</td>\n",
       "      <td>0.946166</td>\n",
       "      <td>0.942904</td>\n",
       "      <td>0.939641</td>\n",
       "      <td>0.946078</td>\n",
       "      <td>0.934641</td>\n",
       "      <td>0.950980</td>\n",
       "      <td>0.934641</td>\n",
       "      <td>0.942539</td>\n",
       "      <td>0.007075</td>\n",
       "    </tr>\n",
       "    <tr>\n",
       "      <th>DecisionTreeClassifier</th>\n",
       "      <td>0.936378</td>\n",
       "      <td>0.933116</td>\n",
       "      <td>0.923328</td>\n",
       "      <td>0.928222</td>\n",
       "      <td>0.931485</td>\n",
       "      <td>0.928222</td>\n",
       "      <td>0.933007</td>\n",
       "      <td>0.933007</td>\n",
       "      <td>0.924837</td>\n",
       "      <td>0.918301</td>\n",
       "      <td>0.928990</td>\n",
       "      <td>0.005243</td>\n",
       "    </tr>\n",
       "    <tr>\n",
       "      <th>KNeighborsClassifier</th>\n",
       "      <td>0.830343</td>\n",
       "      <td>0.769984</td>\n",
       "      <td>0.823817</td>\n",
       "      <td>0.823817</td>\n",
       "      <td>0.820555</td>\n",
       "      <td>0.812398</td>\n",
       "      <td>0.820261</td>\n",
       "      <td>0.813725</td>\n",
       "      <td>0.818627</td>\n",
       "      <td>0.816993</td>\n",
       "      <td>0.815052</td>\n",
       "      <td>0.015816</td>\n",
       "    </tr>\n",
       "    <tr>\n",
       "      <th>SVC</th>\n",
       "      <td>0.616639</td>\n",
       "      <td>0.603589</td>\n",
       "      <td>0.636215</td>\n",
       "      <td>0.595432</td>\n",
       "      <td>0.611746</td>\n",
       "      <td>0.593801</td>\n",
       "      <td>0.598039</td>\n",
       "      <td>0.593137</td>\n",
       "      <td>0.611111</td>\n",
       "      <td>0.581699</td>\n",
       "      <td>0.604141</td>\n",
       "      <td>0.014616</td>\n",
       "    </tr>\n",
       "  </tbody>\n",
       "</table>\n",
       "</div>"
      ],
      "text/plain": [
       "                                   0         1         2         3         4  \\\n",
       "RandomForestClassifier      0.977162  0.960848  0.952692  0.965742  0.957586   \n",
       "GradientBoostingClassifier  0.959217  0.952692  0.954323  0.965742  0.952692   \n",
       "AdaBoostClassifier          0.955954  0.933116  0.941272  0.946166  0.942904   \n",
       "DecisionTreeClassifier      0.936378  0.933116  0.923328  0.928222  0.931485   \n",
       "KNeighborsClassifier        0.830343  0.769984  0.823817  0.823817  0.820555   \n",
       "SVC                         0.616639  0.603589  0.636215  0.595432  0.611746   \n",
       "\n",
       "                                   5         6         7         8         9  \\\n",
       "RandomForestClassifier      0.959217  0.959150  0.959150  0.972222  0.960784   \n",
       "GradientBoostingClassifier  0.947798  0.965686  0.952614  0.960784  0.949346   \n",
       "AdaBoostClassifier          0.939641  0.946078  0.934641  0.950980  0.934641   \n",
       "DecisionTreeClassifier      0.928222  0.933007  0.933007  0.924837  0.918301   \n",
       "KNeighborsClassifier        0.812398  0.820261  0.813725  0.818627  0.816993   \n",
       "SVC                         0.593801  0.598039  0.593137  0.611111  0.581699   \n",
       "\n",
       "                                mean       std  \n",
       "RandomForestClassifier      0.962455  0.006923  \n",
       "GradientBoostingClassifier  0.956089  0.006080  \n",
       "AdaBoostClassifier          0.942539  0.007075  \n",
       "DecisionTreeClassifier      0.928990  0.005243  \n",
       "KNeighborsClassifier        0.815052  0.015816  \n",
       "SVC                         0.604141  0.014616  "
      ]
     },
     "execution_count": 46,
     "metadata": {},
     "output_type": "execute_result"
    }
   ],
   "source": [
    "results = {}\n",
    "k_fold = StratifiedKFold(n_splits=10, shuffle=True, random_state=seed)\n",
    "for name, model in models.items():\n",
    "    results[name] = cross_val_score(model, x_train, y_train, cv=k_fold, scoring='accuracy')\n",
    "\n",
    "\n",
    "result_df = pd.DataFrame(results).transpose()\n",
    "\n",
    "result_df['mean'] = result_df.mean(axis=1)\n",
    "result_df['std'] = result_df.std(axis=1)\n",
    "result_df = result_df.sort_values(by=['mean', 'std'], ascending=False)\n",
    "result_df\n"
   ]
  }
 ],
 "metadata": {
  "kernelspec": {
   "display_name": ".venv",
   "language": "python",
   "name": "python3"
  },
  "language_info": {
   "codemirror_mode": {
    "name": "ipython",
    "version": 3
   },
   "file_extension": ".py",
   "mimetype": "text/x-python",
   "name": "python",
   "nbconvert_exporter": "python",
   "pygments_lexer": "ipython3",
   "version": "3.11.9"
  }
 },
 "nbformat": 4,
 "nbformat_minor": 2
}
